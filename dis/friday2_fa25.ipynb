{
 "cells": [
  {
   "cell_type": "markdown",
   "id": "1ffd9f02-45f1-4c97-9361-ea9af3c667a2",
   "metadata": {
    "slideshow": {
     "slide_type": "slide"
    }
   },
   "source": [
    " \n",
    " <div style=\"margin-top:40px;\"></div>\n",
    "\n",
    "<!-- Prof & TA Information -->\n",
    "<div style=\"display:flex; justify-content:space-between;\">\n",
    "    \n",
    "<div style=\"width:230%;\">\n",
    "<strong>Professor: </strong> Ashley T. Swanson<br>\n",
    "OH: TR 2:15 - 3:15 | 7434 Sewell Social Sciences <br>\n",
    "Email: ashley.swanson@wisc.edu\n",
    "</div>\n",
    "    \n",
    "<div style=\"width:900%:right;\">\n",
    "<strong>TA: </strong> Alejandro Herrera-Caicedo <br>\n",
    "OH: TR 4:00 - 5:00 | 7310 Social Sciences<br>\n",
    "Email: herreracaice@wisc.edu\n",
    "</div>\n",
    "</div>\n",
    "\n",
    "---\n",
    "\n",
    "<!-- Title + Subtitle -->\n",
    "<div style=\"padding:25px; \n",
    "            text-align:center; \n",
    "            font-size:3em; \n",
    "            font-weight:bold;\n",
    "            margin-bottom:5px;\">\n",
    "  Discussion 2 <br>\n",
    "  <div style=\"font-size:0.4em; \n",
    "              font-weight:normal;\n",
    "              margin-top:8px; \n",
    "              font-style:italic;\n",
    "              margin-bottom:10px;\">\n",
    "  Econ 570 – September 19, 2025\n",
    "  </div>\n",
    "</div>\n",
    "\n",
    "<!-- Reminder Box -->\n",
    "<div style=\"background-color:#B22222; \n",
    "            color:white; \n",
    "            padding:15px 25px; \n",
    "            border-radius:8px; \n",
    "            text-align:center; \n",
    "            font-size:1.2em; \n",
    "            font-family: Arial, Helvetica, sans-serif;\n",
    "            font-weight:bold;\n",
    "            margin-bottom:10px;\">\n",
    " Reminder: Coding Practice (2.5%) is due tonight!\n",
    "</div>\n",
    "\n"
   ]
  },
  {
   "cell_type": "markdown",
   "id": "7b33621b",
   "metadata": {},
   "source": [
    "<!-- Header for plan for today -->\n",
    "\n",
    "<div style=\"padding:10px; \n",
    "            text-align:justify; \n",
    "            font-size:2em; \n",
    "            margin-bottom:5px;\">\n",
    "  Plan for Today </div>\n",
    "\n",
    "1. Creating Facet Grids with Seaborn\n",
    "2. Slicing DataFrames using MultiIndex in pandas\n",
    "3. Merging DataFrames\n",
    "\n",
    "\n",
    "**Files needed:** `auto_data.dta` ([⬇️](https://canvas.wisc.edu/courses/479130/files/46712385/download?download_frd=1))\n"
   ]
  },
  {
   "cell_type": "code",
   "execution_count": null,
   "id": "1a68cc21-b638-4bb1-9677-92b94bc06be9",
   "metadata": {
    "slideshow": {
     "slide_type": "slide"
    }
   },
   "outputs": [],
   "source": [
    "#///////////////////////////////////////////////////////////////////////////////\n",
    "#----  Load the libraries for today                                         ----\n",
    "#///////////////////////////////////////////////////////////////////////////////\n",
    "import pandas as pd\n",
    "import seaborn as sns\n",
    "import matplotlib.pyplot as plt \n"
   ]
  },
  {
   "cell_type": "markdown",
   "id": "21703a41-fca3-4fad-985e-9941b1865c15",
   "metadata": {},
   "source": [
    "# 1. Facet Grids with Seaborn: Cars!\n",
    "Let's work some more with the auto data from the seaborn lecture. We'll clean the data and select only Volkswagen brands like we did in the lecture."
   ]
  },
  {
   "cell_type": "code",
   "execution_count": null,
   "id": "b7ba089b-b25b-4460-9686-d3c4265e7d6a",
   "metadata": {},
   "outputs": [],
   "source": [
    "#///////////////////////////////////////////////////////////////////////////////\n",
    "#----  Load Auto_Data.dta                                                   ----\n",
    "#///////////////////////////////////////////////////////////////////////////////\n",
    "df = pd.read_stata('Data/auto_data.dta')\n",
    "df['FUEL'] = df['FUEL'].replace({0: 'gasoline', 1: 'diesel'})\n",
    "\n",
    "# Display a few rows for a quick check\n",
    "print(\"Data Sample:\")\n",
    "display(df.sample(5))"
   ]
  },
  {
   "cell_type": "code",
   "execution_count": null,
   "id": "e03f9701",
   "metadata": {},
   "outputs": [],
   "source": [
    "# Subset the data for only brands owned by Volkswagen \n",
    "vw = df[df['FIRM']=='Volkswagen']\n",
    "vw.sample(8)"
   ]
  },
  {
   "cell_type": "markdown",
   "id": "c46f91b0-83bd-4b45-b78d-0382ab3e8972",
   "metadata": {},
   "source": [
    "**Q: Are more powerful cars more expensive? Does it depend on fuel type? Brand?**\n",
    "\n",
    "We are not limited to just one type of data in each plot. We can use color to differentiate further. In the next figure we add Ford, PSA, and Fiat to the firms in our DataFrame. Each firm has several brands and each brand has several models.\n",
    "\n",
    "* Columns are still fuel type\n",
    "* Rows are now firms (VW, Ford, PSA, Fiat)\n",
    "* Hue (color) is brand (Ford's Volvo; Fiat's Alfa Romeo, etc.)\n",
    "\n",
    "```python\n",
    "g = sns.FacetGrid(to_plot, hue='BRAND', col='FUEL', row='FIRM')\n",
    "```\n",
    "In each plot we have * Price vs HP * I'm using a scatter plot\n",
    "```python\n",
    "g.map(plt.scatter, 'PRICE', 'HP')\n",
    "```\n"
   ]
  },
  {
   "cell_type": "code",
   "execution_count": null,
   "id": "bc101668-aa1d-4d7c-a984-d60a7de9b815",
   "metadata": {},
   "outputs": [],
   "source": [
    "#///////////////////////////////////////////////////////////////////////////////\n",
    "#----  Codealong: Are more expensive cars more powerful?                    ----\n",
    "#///////////////////////////////////////////////////////////////////////////////\n",
    "\n",
    "ax = sns.scatterplot(data=df, x='HP', y='PRICE', alpha=0.7, s=20)\n"
   ]
  },
  {
   "cell_type": "code",
   "execution_count": null,
   "id": "072b8811",
   "metadata": {},
   "outputs": [],
   "source": [
    "ax = sns.regplot(data=df, x='HP', y='PRICE', scatter_kws={'alpha':0.5, 's':20}, line_kws={'color':'red'})"
   ]
  },
  {
   "cell_type": "code",
   "execution_count": null,
   "id": "71b0db37",
   "metadata": {},
   "outputs": [],
   "source": [
    "#///////////////////////////////////////////////////////////////////////////////\n",
    "#----  Codealong: Does this depend by type of fuel?                         ----\n",
    "#///////////////////////////////////////////////////////////////////////////////\n",
    "ax = sns.scatterplot(data=df, x='HP', y='PRICE', hue='FUEL', alpha=0.7, s=20)\n",
    "sns.move_legend(\n",
    "    ax, \"lower center\",\n",
    "    bbox_to_anchor=(.5, 1), ncol=3, title=None, frameon=False,\n",
    ")\n"
   ]
  },
  {
   "cell_type": "code",
   "execution_count": null,
   "id": "42cac1c8",
   "metadata": {},
   "outputs": [],
   "source": [
    "ax = sns.lmplot(data=df, x='HP', y='PRICE', hue='FUEL', scatter_kws={'alpha':0.15, 's':15}, line_kws={'linewidth':2})\n",
    "sns.move_legend(\n",
    "    ax, \"lower center\",\n",
    "    bbox_to_anchor=(.5, 1), ncol=3, title=None, frameon=False,\n",
    ")"
   ]
  },
  {
   "cell_type": "code",
   "execution_count": null,
   "id": "7b157d82",
   "metadata": {},
   "outputs": [],
   "source": [
    "#///////////////////////////////////////////////////////////////////////////////\n",
    "#----  Codealong: Does the brand matters?                                   ----\n",
    "#///////////////////////////////////////////////////////////////////////////////\n",
    "len(set(df['BRAND']))\n",
    "ax = sns.scatterplot(data=df, x='HP', y='PRICE', hue='BRAND', alpha=0.7, s=20)\n"
   ]
  },
  {
   "cell_type": "code",
   "execution_count": null,
   "id": "3b149636",
   "metadata": {},
   "outputs": [],
   "source": [
    "# Lets do better than that\n",
    "ax = sns.FacetGrid(df, hue='BRAND', col='FIRM', col_wrap = 3)\n",
    "ax.map(plt.scatter, 'PRICE', 'HP', alpha=0.7, marker = '+')\n",
    "ax.add_legend()\n",
    "plt.show()\n"
   ]
  },
  {
   "cell_type": "markdown",
   "id": "948505c3",
   "metadata": {},
   "source": [
    "**Exercise: How is size related to price? Does it differ by firm? By brand? By fuel type?**\n",
    "\n",
    "Use a facet plot to explore these questions. Restrict the DataFrame to include only Ford, PSA, Volkswagen, and Fiat."
   ]
  },
  {
   "cell_type": "code",
   "execution_count": null,
   "id": "bf61e1d6",
   "metadata": {},
   "outputs": [],
   "source": [
    "#///////////////////////////////////////////////////////////////////////////////\n",
    "#----  Excercise 1                                                          ----\n",
    "#///////////////////////////////////////////////////////////////////////////////\n",
    "\n"
   ]
  },
  {
   "cell_type": "markdown",
   "id": "14c29601",
   "metadata": {},
   "source": [
    "**Exercise: Facet Plot for Italian and Japanese Cars**\n",
    "\n",
    "Previously, you explored how size relates to price across different firms, brands, and fuel types using a facet plot. Now, your task is to recreate the same plot but we want to compare Italian and Japanese cars.\n",
    "\n",
    "You are given a dictionary that maps brands to their respective countries of origin. Use this dictionary to filter the dataset for Italian and Japanese cars separately.\n",
    "\n",
    "```python\n",
    "car_brands_by_country = {\n",
    "    'Italy': ['Alfa Romeo', 'Fiat', 'Lancia'],\n",
    "    'Germany': ['Audi', 'BMW', 'Mercedes', 'Opel', 'Volkswagen'],\n",
    "    'USA': ['Chrysler', 'Ford'],\n",
    "    'France': ['Citroen', 'Peugeot', 'Renault'],\n",
    "    'South Korea': ['Daewoo', 'Hyundai', 'Kia'],\n",
    "    'Japan': ['Honda', 'Mazda', 'Mitsubishi', 'Nissan', 'Suzuki', 'Toyota'],\n",
    "    'Sweden': ['Saab', 'Volvo'],\n",
    "    'Spain': ['Seat'],\n",
    "    'Czech Republic': ['Skoda']\n",
    "}\n",
    "```\n",
    "\n",
    "#### Instructions:  \n",
    "1. Use the dictionary provided to filter the dataset for **Italian** and **Japanese** cars separately.  \n",
    "2. Create two separate facet plots:  \n",
    "   - One for Italian cars  \n",
    "   - One for Japanese cars  \n",
    "3. Keep the structure of the original facet plot:  \n",
    "   - `row='FUEL'`  \n",
    "   - `col='FIRM'`  \n",
    "   - `hue='BRAND'`  \n",
    "\n",
    "**Q:** Is the Facet Grid a good way to visualize this data? Why or why not?"
   ]
  },
  {
   "cell_type": "code",
   "execution_count": null,
   "id": "76562058",
   "metadata": {},
   "outputs": [],
   "source": [
    "#///////////////////////////////////////////////////////////////////////////////\n",
    "#----  Excercise 2: Comparing Italian & Japanese Cars                       ----\n",
    "#///////////////////////////////////////////////////////////////////////////////\n",
    "# Dictionary that maps car brands to their countries\n",
    "car_brands_by_country = {\n",
    "    'Italy': ['Alfa Romeo', 'Fiat', 'Lancia'],\n",
    "    'Germany': ['Audi', 'BMW', 'Mercedes', 'Opel', 'Volkswagen'],\n",
    "    'USA': ['Chrysler', 'Ford'],\n",
    "    'France': ['Citroen', 'Peugeot', 'Renault'],\n",
    "    'South Korea': ['Daewoo', 'Hyundai', 'Kia'],\n",
    "    'Japan': ['Honda', 'Mazda', 'Mitsubishi', 'Nissan', 'Suzuki', 'Toyota'],\n",
    "    'Sweden': ['Saab', 'Volvo'],\n",
    "    'Spain': ['Seat'],\n",
    "    'Czech Republic': ['Skoda']\n",
    "}\n"
   ]
  },
  {
   "cell_type": "markdown",
   "id": "b071175d",
   "metadata": {},
   "source": [
    "To create a **more meaningful comparison**, we will modify the plot so that **columns represent countries instead of firms**. This will allow us to see how the **size-price relationship** differs across different automotive markets.  \n",
    "\n",
    "**Q: How does the size-price relationship differ between Italian, German, Japanese, and American cars?**"
   ]
  },
  {
   "cell_type": "code",
   "execution_count": null,
   "id": "5e8921b2",
   "metadata": {},
   "outputs": [],
   "source": [
    "#///////////////////////////////////////////////////////////////////////////////\n",
    "#----  Excercise 3: Comparing Different Countries                           ----\n",
    "#///////////////////////////////////////////////////////////////////////////////\n"
   ]
  },
  {
   "cell_type": "markdown",
   "id": "1b12dd5a",
   "metadata": {},
   "source": [
    "**Exercise:**\n",
    "Replicate the previous facet plot but with the following changes:\n",
    "- Instead of exploring the relationship between size and price we want to explore the relationship between fuel efficiency (`MPG`) and weight.\n",
    "- Add a regression line to each plot (recall the `sns.regplot` function)\n",
    "- Perform this by country and fuel type"
   ]
  },
  {
   "cell_type": "code",
   "execution_count": null,
   "id": "dbd6f83c",
   "metadata": {},
   "outputs": [],
   "source": [
    "#///////////////////////////////////////////////////////////////////////////////\n",
    "#----  Excercise 4: Comparing MGP and Weight by Country                     ----\n",
    "#///////////////////////////////////////////////////////////////////////////////\n",
    "\n"
   ]
  },
  {
   "cell_type": "markdown",
   "id": "abcef342-4481-4509-9dfe-c05cb30daed1",
   "metadata": {},
   "source": [
    "# 2. MultiIndex and slicing DataFrames\n",
    "\n",
    "When we use multi-indexing, we're creating \"sub-lists.\" We can slice multi-indexed data in different ways. Using the example below, we could look at just Wisconsin or we could look at Madison within Wisconsin. It's a powerful way to slice data quickly.\n",
    "\n",
    "We'll also have some other methods such as `.xs()`. This gives us a cross-section of the data at whichever index we'd like. We can also automatically set a multi-index with `index_col` in `read_csv`. There can be multi-indexing for columns, too.\n",
    "\n",
    "1. Wisconsin\n",
    "    1. Madison\n",
    "        1. East\n",
    "        2. West\n",
    "    2. Milwaukee\n",
    "2. Minnesota\n",
    "    1. Minneapolis\n",
    "    2. Ely\n",
    "3. Michigan\n",
    "    1. Detroit\n",
    "    2. Grand Rapids\n",
    "    3. Kalamazoo"
   ]
  },
  {
   "cell_type": "code",
   "execution_count": null,
   "id": "6e27553f-4a79-4510-8406-f1a38f1eec55",
   "metadata": {},
   "outputs": [],
   "source": [
    "# Generate data\n",
    "soccer = {'team' : ['Man City', 'Man City', 'Man City', 'Man City', 'Chelsea', 'Chelsea'], \n",
    "          'player' : ['Walker', 'Stones', 'Foden', 'Jesus', 'Cahill', 'Pedro'],\n",
    "          'pos' : ['D', 'D', 'M', 'F', 'D', 'F'],\n",
    "          'goals' : [1, 0, 0, 1, 0, 3],\n",
    "          'assists': [0,0,0,0,0,0]\n",
    "         }\n",
    "\n",
    "# Set index\n",
    "prem = pd.DataFrame(soccer)\n",
    "prem.set_index(['team', 'pos'], inplace=True)\n",
    "prem"
   ]
  },
  {
   "cell_type": "code",
   "execution_count": null,
   "id": "2fb5dbb7-e872-4c89-855a-b1002b10f8fc",
   "metadata": {},
   "outputs": [],
   "source": [
    "# Slice data\n",
    "prem.sort_index(axis=0, inplace=True)\n",
    "prem.loc[('Man City', 'D'),:] "
   ]
  },
  {
   "cell_type": "code",
   "execution_count": null,
   "id": "85823944",
   "metadata": {},
   "outputs": [],
   "source": [
    "prem.xs('Man City', level='team', drop_level=False) "
   ]
  },
  {
   "cell_type": "code",
   "execution_count": null,
   "id": "321fe763",
   "metadata": {},
   "outputs": [],
   "source": [
    "prem.xs('D', level='pos', drop_level=False)"
   ]
  },
  {
   "cell_type": "code",
   "execution_count": null,
   "id": "aeb99605",
   "metadata": {},
   "outputs": [],
   "source": [
    "prem.loc[[('Chelsea', 'D'), ('Man City', 'F'), ('Man City', 'D')]] # .xs can't subset multiple"
   ]
  },
  {
   "cell_type": "markdown",
   "id": "d07dabd8",
   "metadata": {},
   "source": [
    "**Exercise – MultiIndex Data Manipulation**\n",
    "\n",
    "Challenge:\n",
    "Using the soccer dataset (MultiIndex `prem` DataFrame), try the following:\n",
    "- Select all players from `Man City` and compute the total goals.\n",
    "- Extract players in the forward position (`F`) across teams.\n",
    "- Using a loop, calculate the number of goals by each team"
   ]
  },
  {
   "cell_type": "code",
   "execution_count": null,
   "id": "11fd4dc9",
   "metadata": {},
   "outputs": [],
   "source": [
    "#///////////////////////////////////////////////////////////////////////////////\n",
    "#----  Excercise 5: Data Slicing                                            ----\n",
    "#///////////////////////////////////////////////////////////////////////////////\n",
    "# 5.1 Computing the goals from man city\n"
   ]
  },
  {
   "cell_type": "code",
   "execution_count": null,
   "id": "5b9849a5",
   "metadata": {},
   "outputs": [],
   "source": [
    "\n",
    "# 5.2 Extracting players in the foward position 'F' across teams\n"
   ]
  },
  {
   "cell_type": "code",
   "execution_count": null,
   "id": "f5d448e0",
   "metadata": {},
   "outputs": [],
   "source": [
    "# 5.3. Group the data by team\n"
   ]
  },
  {
   "cell_type": "markdown",
   "id": "1a0624c3-7d85-4b13-a8ae-af95d8a97251",
   "metadata": {},
   "source": [
    "# 3. Merging DataFrames\n",
    "\n",
    "We'll often work with multiple datasets for a single project and need to bring everything together. Merging is useful to do this. The goal is to line up the observations in each file correctly. We can left join, right join, inner join, and outer join following the image below.\n",
    "\n",
    "In words, left (right) join will keep everything in your \"left\" (\"right\") dataset and inner join will only keep rows that have keys in both. You need to specify a key to join on, i.e., how you want to match your two datasets, otherwise you'll create all possible combinations of rows.\n",
    "\n",
    "<div style=\"text-align: center;\">\n",
    "  <img src=\"https://media.geeksforgeeks.org/wp-content/uploads/joinimages.png\" \n",
    "       alt=\"Join types in SQL/Pandas\" \n",
    "       style=\"width: 500px;\"/>\n",
    "  <p style=\"font-size: 0.9em; color: gray;\">\n",
    "    Source: GeeksforGeeks (<a href=\"https://www.geeksforgeeks.org/python/python-pandas-merging-joining-and-concatenating/\">link</a>)\n",
    "  </p>\n",
    "</div>\n"
   ]
  },
  {
   "cell_type": "code",
   "execution_count": null,
   "id": "2d1a6acb-d29e-4867-83e0-55750c5b356c",
   "metadata": {},
   "outputs": [],
   "source": [
    "#///////////////////////////////////////////////////////////////////////////////\n",
    "#----  Codealong                                                            ----\n",
    "#///////////////////////////////////////////////////////////////////////////////\n",
    "# Create first DataFrame with employee groups\n",
    "df1 = pd.DataFrame({\n",
    "    'employee': ['Bob', 'Jake', 'Lisa', 'Sue', 'Larry', 'Sue'],\n",
    "    'group': ['Accounting', 'Engineering', 'Engineering', 'HR', 'Bird', 'Legal']\n",
    "})\n",
    "\n",
    "# Create second DataFrame with salary information\n",
    "df2 = pd.DataFrame({\n",
    "    'name': ['Bob', 'Jake', 'Lisa', 'Sue', 'Hannah', 'Sue'],\n",
    "    'salary': [70000, 80000, 120000, 90000, 1000000, 300000]\n",
    "})\n",
    "\n",
    "print(\"Employee Data:\")\n",
    "display(df1)\n",
    "print(\"\\nSalary Data:\")\n",
    "display(df2)\n"
   ]
  },
  {
   "cell_type": "code",
   "execution_count": null,
   "id": "9fadef22-3ba8-4deb-af2e-5dd4736bb9fc",
   "metadata": {},
   "outputs": [],
   "source": [
    "# Merge\n",
    "merged_inner = pd.merge(df1, df2, left_on=\"employee\", right_on=\"name\", how='inner')\n",
    "print(\"Inner Merge Result:\")\n",
    "merged_inner"
   ]
  },
  {
   "cell_type": "markdown",
   "id": "e806bfe0",
   "metadata": {},
   "source": [
    "**Exercise – Merge Variations**\n",
    "\n",
    "Challenge:\n",
    "Now, perform the following with your DataFrames:\n",
    "- Execute a left join (merge) on the same data. Identify the rows where salary information is missing.\n",
    "  - Change the `how` parameter to `left` in the `merge` function.\n",
    "- Try a full outer join and observe which rows from both DataFrames appear.\n",
    "  - Change the `how` parameter to `outer` in the `merge` function."
   ]
  },
  {
   "cell_type": "code",
   "execution_count": null,
   "id": "3f20bf4d",
   "metadata": {},
   "outputs": [],
   "source": [
    "#///////////////////////////////////////////////////////////////////////////////\n",
    "#----  Excercise 6: Merging                                                 ----\n",
    "#///////////////////////////////////////////////////////////////////////////////\n"
   ]
  },
  {
   "cell_type": "markdown",
   "id": "64d21b78",
   "metadata": {},
   "source": [
    "## Summary\n",
    "\n",
    "Today’s session covered:\n",
    "- **Facet Grids with Seaborn:** Exploring relationships (e.g., Price vs. HP, Price vs. SIZE) with multi-dimensional data plots. We also practiced overlaying regression lines and customizing axes.\n",
    "- **MultiIndex Operations:** Creating and slicing MultiIndex DataFrames for quick subsetting and aggregation.\n",
    "- **Merging DataFrames:** Combining datasets using various types of joins (inner, left, outer) and handling missing data.\n"
   ]
  },
  {
   "cell_type": "markdown",
   "id": "ee9a02ae-5971-4fe3-a799-9e13f073412b",
   "metadata": {},
   "source": [
    "## Have a great weekend!"
   ]
  },
  {
   "cell_type": "markdown",
   "id": "f3c2e833",
   "metadata": {},
   "source": []
  }
 ],
 "metadata": {
  "kernelspec": {
   "display_name": "econ570",
   "language": "python",
   "name": "python3"
  },
  "language_info": {
   "codemirror_mode": {
    "name": "ipython",
    "version": 3
   },
   "file_extension": ".py",
   "mimetype": "text/x-python",
   "name": "python",
   "nbconvert_exporter": "python",
   "pygments_lexer": "ipython3",
   "version": "3.10.18"
  }
 },
 "nbformat": 4,
 "nbformat_minor": 5
}
