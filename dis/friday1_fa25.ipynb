{
 "cells": [
  {
   "cell_type": "markdown",
   "metadata": {},
   "source": [
    " \n",
    " <div style=\"margin-top:40px;\"></div>\n",
    "\n",
    "<!-- Prof & TA Information -->\n",
    "<div style=\"display:flex; justify-content:space-between;\">\n",
    "    \n",
    "<div style=\"width:70%;\">\n",
    "<strong>Professor: </strong> Ashley T. Swanson<br>\n",
    "OH: TR 2:15 - 3:15 | 7434 Sewell Social Sciences <br>\n",
    "Email: ashley.swanson@wisc.edu\n",
    "</div>\n",
    "    \n",
    "<div style=\"width:70%:right;\">\n",
    "<strong>TA: </strong> Alejandro Herrera-Caicedo <br>\n",
    "OH: TR 4:00 - 5:00 | 7310 Social Sciences<br>\n",
    "Email: herreracaice@wisc.edu\n",
    "</div>\n",
    "</div>\n",
    "\n",
    "---\n",
    "\n",
    "<!-- Title + Subtitle -->\n",
    "<div style=\"padding:25px; \n",
    "            text-align:center; \n",
    "            font-size:3em; \n",
    "            font-weight:bold;\n",
    "            margin-bottom:5px;\">\n",
    "  Discussion 1 <br>\n",
    "  <div style=\"font-size:0.4em; \n",
    "              font-weight:normal;\n",
    "              margin-top:8px; \n",
    "              font-style:italic;\n",
    "              margin-bottom:10px;\">\n",
    "  Econ 570 – September 12, 2025\n",
    "  </div>\n",
    "</div>\n",
    "\n",
    "<!-- Reminder Box -->\n",
    "<div style=\"background-color:#B22222; \n",
    "            color:white; \n",
    "            padding:15px 25px; \n",
    "            border-radius:8px; \n",
    "            text-align:center; \n",
    "            font-size:1.2em; \n",
    "            font-family: Arial, Helvetica, sans-serif;\n",
    "            font-weight:bold;\n",
    "            margin-bottom:10px;\">\n",
    " Reminder: Coding Practice (2.5%) is online and due next friday\n",
    "</div>\n",
    "\n"
   ]
  },
  {
   "cell_type": "markdown",
   "metadata": {
    "tags": []
   },
   "source": [
    "<!-- Header for plan for today -->\n",
    "\n",
    "<div style=\"padding:10px; \n",
    "            text-align:justify; \n",
    "            font-size:2em; \n",
    "            margin-bottom:5px;\">\n",
    "  Discussion 1 </div>\n",
    "\n",
    "1. For Loops and List Comprehension\n",
    "2. Dictionary Comprehension\n",
    "3. Logical Indexing in Pandas\n",
    "5. Computing Summary Stats and Plotting Distributions\n",
    "6. Summary Statistics\n",
    "7. Plotting Histograms"
   ]
  },
  {
   "cell_type": "code",
   "execution_count": 8,
   "metadata": {
    "tags": []
   },
   "outputs": [],
   "source": [
    "#///////////////////////////////////////////////////////////////////////////////\n",
    "#----  Load the libraries for today                                         ----\n",
    "#///////////////////////////////////////////////////////////////////////////////\n",
    "import pandas as pd                      #Data manipulation\n",
    "import numpy as np                       #Array manipulation\n",
    "import matplotlib.pyplot as plt          #Plotting\n",
    "import seaborn as sns                    #Plotting\n",
    "sns.set_style('white')                   # Prettier plots"
   ]
  },
  {
   "cell_type": "markdown",
   "metadata": {},
   "source": [
    "\n",
    "# For Loops and List Comprehension\n",
    "List comprehension is a Python convention for creating lists iteratively. A mastery of list comprehension will allow Python users to collapse multiple lines of code into a single line. To understand list comprehension, one must first understand for loops in Python.\n",
    "\n",
    "## Example - For Loops\n",
    "For loops in Python are used to iterate through [iterable objects](https://www.w3schools.com/python/python_iterators.asp). A classic example of an iterable object is a range. We can use the `range()` function to create such objects."
   ]
  },
  {
   "cell_type": "code",
   "execution_count": 9,
   "metadata": {
    "tags": []
   },
   "outputs": [
    {
     "name": "stdout",
     "output_type": "stream",
     "text": [
      "1\n",
      "2\n",
      "3\n"
     ]
    }
   ],
   "source": [
    "for i in range(1,4):\n",
    "    print(i)"
   ]
  },
  {
   "cell_type": "markdown",
   "metadata": {},
   "source": [
    "## Example - For Loops and Lists"
   ]
  },
  {
   "cell_type": "markdown",
   "metadata": {},
   "source": [
    "But **multiple objects are iterable, not just ranges.** Some of these objects are in-built and still others are created by Python's large user base. The most important of these iterable objects for today's lesson are lists."
   ]
  },
  {
   "cell_type": "code",
   "execution_count": 10,
   "metadata": {
    "tags": []
   },
   "outputs": [
    {
     "name": "stdout",
     "output_type": "stream",
     "text": [
      "Mitchell is a TA for ECON570\n",
      "Alejandro is a TA for ECON570\n"
     ]
    }
   ],
   "source": [
    "TAs = {'Alejandro', 'Mitchell'} \n",
    "\n",
    "for Ta in TAs:            # We can iterate through a list because lists are iterable\n",
    "    print(Ta + ' is a TA for ECON570')"
   ]
  },
  {
   "cell_type": "code",
   "execution_count": 11,
   "metadata": {
    "tags": []
   },
   "outputs": [
    {
     "name": "stdout",
     "output_type": "stream",
     "text": [
      "1 Mitchell is a TA for ECON570\n",
      "2 Alejandro is a TA for ECON570\n"
     ]
    }
   ],
   "source": [
    "for (indx, Ta) in enumerate(TAs):            \n",
    "    print(indx + 1, Ta + ' is a TA for ECON570')"
   ]
  },
  {
   "cell_type": "markdown",
   "metadata": {},
   "source": [
    "## List Comprehension\n",
    "We can often create lists in Python very concisely by using *list comprehension.* This is really useful when we have to create long lists.\n",
    "\n",
    "## Example - List Comprehension\n",
    "The basic syntax of a list comprehension is\n",
    "``` python \n",
    "[i for i in MyIterable]\n",
    "```"
   ]
  },
  {
   "cell_type": "code",
   "execution_count": 12,
   "metadata": {
    "tags": []
   },
   "outputs": [
    {
     "data": {
      "text/plain": [
       "[1,\n",
       " 2,\n",
       " 3,\n",
       " 4,\n",
       " 5,\n",
       " 6,\n",
       " 7,\n",
       " 8,\n",
       " 9,\n",
       " 10,\n",
       " 11,\n",
       " 12,\n",
       " 13,\n",
       " 14,\n",
       " 15,\n",
       " 16,\n",
       " 17,\n",
       " 18,\n",
       " 19,\n",
       " 20,\n",
       " 21,\n",
       " 22,\n",
       " 23,\n",
       " 24,\n",
       " 25,\n",
       " 26]"
      ]
     },
     "execution_count": 12,
     "metadata": {},
     "output_type": "execute_result"
    }
   ],
   "source": [
    "[i for i in range(1,27)] # Create a list using list comprehension"
   ]
  },
  {
   "cell_type": "markdown",
   "metadata": {},
   "source": [
    "List comprehension can also be combined with control flow (logical conditions) to generate complicated lists iteratively and conciesly."
   ]
  },
  {
   "cell_type": "code",
   "execution_count": 13,
   "metadata": {
    "tags": []
   },
   "outputs": [
    {
     "data": {
      "text/plain": [
       "[(1, 'Odd'),\n",
       " (2, 'Even'),\n",
       " (3, 'Odd'),\n",
       " (4, 'Even'),\n",
       " (5, 'Odd'),\n",
       " (6, 'Even'),\n",
       " (7, 'Odd'),\n",
       " (8, 'Even'),\n",
       " (9, 'Odd'),\n",
       " (10, 'Even'),\n",
       " (11, 'Odd'),\n",
       " (12, 'Even'),\n",
       " (13, 'Odd'),\n",
       " (14, 'Even'),\n",
       " (15, 'Odd'),\n",
       " (16, 'Even'),\n",
       " (17, 'Odd'),\n",
       " (18, 'Even'),\n",
       " (19, 'Odd'),\n",
       " (20, 'Even'),\n",
       " (21, 'Odd'),\n",
       " (22, 'Even'),\n",
       " (23, 'Odd'),\n",
       " (24, 'Even'),\n",
       " (25, 'Odd'),\n",
       " (26, 'Even')]"
      ]
     },
     "execution_count": 13,
     "metadata": {},
     "output_type": "execute_result"
    }
   ],
   "source": [
    "[(i, 'Even') if i % 2 == 0 else (i, 'Odd') for i in range(1,27)] "
   ]
  },
  {
   "cell_type": "code",
   "execution_count": 14,
   "metadata": {
    "tags": []
   },
   "outputs": [
    {
     "data": {
      "text/plain": [
       "[(2, 'Even'),\n",
       " (4, 'Even'),\n",
       " (6, 'Even'),\n",
       " (8, 'Even'),\n",
       " (10, 'Even'),\n",
       " (12, 'Even'),\n",
       " (14, 'Even'),\n",
       " (16, 'Even'),\n",
       " (18, 'Even'),\n",
       " (20, 'Even'),\n",
       " (22, 'Even'),\n",
       " (24, 'Even'),\n",
       " (26, 'Even')]"
      ]
     },
     "execution_count": 14,
     "metadata": {},
     "output_type": "execute_result"
    }
   ],
   "source": [
    "[(i, 'Even') for i in range(1,27) if i % 2 == 0]"
   ]
  },
  {
   "cell_type": "markdown",
   "metadata": {},
   "source": [
    "# Dictionary Comprehension\n",
    "As a quick aside, it is worth noting that Python also features dictionary comprehension."
   ]
  },
  {
   "cell_type": "code",
   "execution_count": null,
   "metadata": {
    "tags": []
   },
   "outputs": [
    {
     "data": {
      "text/plain": [
       "{'a': 0, 'b': 1, 'c': 2}"
      ]
     },
     "execution_count": 15,
     "metadata": {},
     "output_type": "execute_result"
    }
   ],
   "source": [
    "keys = ['a','b','c']\n",
    "dct = {keys[i] :i for i in range(0,3)}\n",
    "dct"
   ]
  },
  {
   "cell_type": "markdown",
   "metadata": {},
   "source": [
    "## Exercise - List Comprehension\n",
    "Suppose you are interested in downloading annual [GDP estimates by State](https://www.bea.gov/data/gdp/gdp-state) for the years from 1970 to 1994. Suppose also that the BEA does not provide all that data in one bulk file but by year only. You notice that the files are all named with the following format\n",
    "```\n",
    "'GdpByStateYYYY.csv'\n",
    "```\n",
    "where `'YYYY'` is a four-digit year from 1970 to 1994.\n",
    "\n",
    "**Using list comprehension** create a list that contains all these file names. Please call it `Files`."
   ]
  },
  {
   "cell_type": "code",
   "execution_count": 43,
   "metadata": {
    "tags": []
   },
   "outputs": [
    {
     "data": {
      "text/plain": [
       "['GDPByState1970.csv',\n",
       " 'GDPByState1971.csv',\n",
       " 'GDPByState1972.csv',\n",
       " 'GDPByState1973.csv',\n",
       " 'GDPByState1974.csv',\n",
       " 'GDPByState1975.csv',\n",
       " 'GDPByState1976.csv',\n",
       " 'GDPByState1977.csv',\n",
       " 'GDPByState1978.csv',\n",
       " 'GDPByState1979.csv',\n",
       " 'GDPByState1980.csv',\n",
       " 'GDPByState1981.csv',\n",
       " 'GDPByState1982.csv',\n",
       " 'GDPByState1983.csv',\n",
       " 'GDPByState1984.csv',\n",
       " 'GDPByState1985.csv',\n",
       " 'GDPByState1986.csv',\n",
       " 'GDPByState1987.csv',\n",
       " 'GDPByState1988.csv',\n",
       " 'GDPByState1989.csv',\n",
       " 'GDPByState1990.csv',\n",
       " 'GDPByState1991.csv',\n",
       " 'GDPByState1992.csv',\n",
       " 'GDPByState1993.csv',\n",
       " 'GDPByState1994.csv']"
      ]
     },
     "execution_count": 43,
     "metadata": {},
     "output_type": "execute_result"
    }
   ],
   "source": [
    "Years = range (1970, 1995)\n",
    "Files = [f'GDPByState{year}.csv' for year in Years]\n",
    "Files"
   ]
  },
  {
   "cell_type": "markdown",
   "metadata": {},
   "source": [
    "## Exercise - For Loops\n",
    "Write a for loop that prints the year corresponding to each file name in `Files`."
   ]
  },
  {
   "cell_type": "code",
   "execution_count": 49,
   "metadata": {
    "tags": []
   },
   "outputs": [
    {
     "name": "stdout",
     "output_type": "stream",
     "text": [
      "For year 1970 the file is GdpBystate1970.csv\n",
      "For year 1971 the file is GdpBystate1971.csv\n",
      "For year 1972 the file is GdpBystate1972.csv\n",
      "For year 1973 the file is GdpBystate1973.csv\n",
      "For year 1974 the file is GdpBystate1974.csv\n",
      "For year 1975 the file is GdpBystate1975.csv\n",
      "For year 1976 the file is GdpBystate1976.csv\n",
      "For year 1977 the file is GdpBystate1977.csv\n",
      "For year 1978 the file is GdpBystate1978.csv\n",
      "For year 1979 the file is GdpBystate1979.csv\n",
      "For year 1980 the file is GdpBystate1980.csv\n",
      "For year 1981 the file is GdpBystate1981.csv\n",
      "For year 1982 the file is GdpBystate1982.csv\n",
      "For year 1983 the file is GdpBystate1983.csv\n",
      "For year 1984 the file is GdpBystate1984.csv\n",
      "For year 1985 the file is GdpBystate1985.csv\n",
      "For year 1986 the file is GdpBystate1986.csv\n",
      "For year 1987 the file is GdpBystate1987.csv\n",
      "For year 1988 the file is GdpBystate1988.csv\n",
      "For year 1989 the file is GdpBystate1989.csv\n",
      "For year 1990 the file is GdpBystate1990.csv\n",
      "For year 1991 the file is GdpBystate1991.csv\n",
      "For year 1992 the file is GdpBystate1992.csv\n",
      "For year 1993 the file is GdpBystate1993.csv\n",
      "For year 1994 the file is GdpBystate1994.csv\n"
     ]
    }
   ],
   "source": [
    "for year in Years:\n",
    "    print(f'For year {year} the file is GdpBystate{year}.csv')"
   ]
  },
  {
   "cell_type": "markdown",
   "metadata": {
    "tags": []
   },
   "source": [
    "## Exercise - More Loops\n",
    "_Try at home._ You have been hired to identify the most profitable suppliers of sillicon. Each firm produces sells four varieties ($j$) of sillicon. You know that profit of firm $f$ is:\n",
    "\n",
    "$$ \\pi_f = \\sum_{j =0}^3 q_{j} * (p_{jf}-c_{jf}) $$\n",
    "\n",
    "You have retrieved the prices, quantities and marginal costs as follows:\n"
   ]
  },
  {
   "cell_type": "code",
   "execution_count": 16,
   "metadata": {
    "tags": []
   },
   "outputs": [],
   "source": [
    "\n",
    "P = np.array([50.0, 30.5, 60.0, 20.0])   \n",
    "\n",
    "Q = np.array([                          \n",
    "    [120, 60, 20, 30],   \n",
    "    [80,  30, 40, 20],  \n",
    "    [40,  10, 10,  5]   \n",
    "])\n",
    "\n",
    "C = np.array([                         \n",
    "    [10,  8, 15,  5],    \n",
    "    [20, 15, 25, 10],    \n",
    "    [35, 25, 40, 15]    \n",
    "])\n",
    "\n"
   ]
  },
  {
   "cell_type": "markdown",
   "metadata": {},
   "source": [
    "You have been asked to find the most profitable company. How many nested loops would we require to achieve this? Is a loop the most readable and effectove way to deal with this? "
   ]
  },
  {
   "cell_type": "code",
   "execution_count": null,
   "metadata": {
    "tags": []
   },
   "outputs": [],
   "source": []
  },
  {
   "cell_type": "markdown",
   "metadata": {},
   "source": [
    "# Logical Indexing in Pandas\n",
    "We will pretty much always be interested in running analyses on a subset of the data we have available to us. The most obvious cases involve the need to get rid of overly influential observations (outliers) or missing values. Let's see how to do this in Pandas using logical indexing."
   ]
  },
  {
   "cell_type": "code",
   "execution_count": 17,
   "metadata": {
    "tags": []
   },
   "outputs": [
    {
     "data": {
      "text/html": [
       "<div>\n",
       "<style scoped>\n",
       "    .dataframe tbody tr th:only-of-type {\n",
       "        vertical-align: middle;\n",
       "    }\n",
       "\n",
       "    .dataframe tbody tr th {\n",
       "        vertical-align: top;\n",
       "    }\n",
       "\n",
       "    .dataframe thead th {\n",
       "        text-align: right;\n",
       "    }\n",
       "</style>\n",
       "<table border=\"1\" class=\"dataframe\">\n",
       "  <thead>\n",
       "    <tr style=\"text-align: right;\">\n",
       "      <th></th>\n",
       "      <th>A</th>\n",
       "      <th>B</th>\n",
       "    </tr>\n",
       "  </thead>\n",
       "  <tbody>\n",
       "    <tr>\n",
       "      <th>0</th>\n",
       "      <td>1.0</td>\n",
       "      <td>4</td>\n",
       "    </tr>\n",
       "    <tr>\n",
       "      <th>1</th>\n",
       "      <td>2.0</td>\n",
       "      <td>5</td>\n",
       "    </tr>\n",
       "    <tr>\n",
       "      <th>2</th>\n",
       "      <td>NaN</td>\n",
       "      <td>6</td>\n",
       "    </tr>\n",
       "  </tbody>\n",
       "</table>\n",
       "</div>"
      ],
      "text/plain": [
       "     A  B\n",
       "0  1.0  4\n",
       "1  2.0  5\n",
       "2  NaN  6"
      ]
     },
     "execution_count": 17,
     "metadata": {},
     "output_type": "execute_result"
    }
   ],
   "source": [
    "Dct = {'A': [1, 2, np.nan], 'B':[4, 5, 6]}\n",
    "Df = pd.DataFrame(Dct)  # Create dataframe from dictionary\n",
    "Df"
   ]
  },
  {
   "cell_type": "markdown",
   "metadata": {},
   "source": [
    "## Example - Logical Indexing\n",
    "We will often need to get rid of missing values prior to analysis. More often than not we will need to get rid of observations which have a missing value for even just one covariate in our analysis. Pandas has nice methods for doing this, but we will illustrate how logical indexing works to accomplish the same task"
   ]
  },
  {
   "cell_type": "code",
   "execution_count": 18,
   "metadata": {
    "tags": []
   },
   "outputs": [
    {
     "data": {
      "text/plain": [
       "0     True\n",
       "1     True\n",
       "2    False\n",
       "Name: A, dtype: bool"
      ]
     },
     "execution_count": 18,
     "metadata": {},
     "output_type": "execute_result"
    }
   ],
   "source": [
    "Df['A'].notna()"
   ]
  },
  {
   "cell_type": "code",
   "execution_count": 19,
   "metadata": {
    "tags": []
   },
   "outputs": [
    {
     "data": {
      "text/html": [
       "<div>\n",
       "<style scoped>\n",
       "    .dataframe tbody tr th:only-of-type {\n",
       "        vertical-align: middle;\n",
       "    }\n",
       "\n",
       "    .dataframe tbody tr th {\n",
       "        vertical-align: top;\n",
       "    }\n",
       "\n",
       "    .dataframe thead th {\n",
       "        text-align: right;\n",
       "    }\n",
       "</style>\n",
       "<table border=\"1\" class=\"dataframe\">\n",
       "  <thead>\n",
       "    <tr style=\"text-align: right;\">\n",
       "      <th></th>\n",
       "      <th>A</th>\n",
       "      <th>B</th>\n",
       "    </tr>\n",
       "  </thead>\n",
       "  <tbody>\n",
       "    <tr>\n",
       "      <th>0</th>\n",
       "      <td>1.0</td>\n",
       "      <td>4</td>\n",
       "    </tr>\n",
       "    <tr>\n",
       "      <th>1</th>\n",
       "      <td>2.0</td>\n",
       "      <td>5</td>\n",
       "    </tr>\n",
       "  </tbody>\n",
       "</table>\n",
       "</div>"
      ],
      "text/plain": [
       "     A  B\n",
       "0  1.0  4\n",
       "1  2.0  5"
      ]
     },
     "execution_count": 19,
     "metadata": {},
     "output_type": "execute_result"
    }
   ],
   "source": [
    "AnalysisDf = Df.loc[Df['A'].notna()]\n",
    "AnalysisDf.head()"
   ]
  },
  {
   "cell_type": "code",
   "execution_count": 20,
   "metadata": {
    "tags": []
   },
   "outputs": [
    {
     "data": {
      "text/html": [
       "<div>\n",
       "<style scoped>\n",
       "    .dataframe tbody tr th:only-of-type {\n",
       "        vertical-align: middle;\n",
       "    }\n",
       "\n",
       "    .dataframe tbody tr th {\n",
       "        vertical-align: top;\n",
       "    }\n",
       "\n",
       "    .dataframe thead th {\n",
       "        text-align: right;\n",
       "    }\n",
       "</style>\n",
       "<table border=\"1\" class=\"dataframe\">\n",
       "  <thead>\n",
       "    <tr style=\"text-align: right;\">\n",
       "      <th></th>\n",
       "      <th>A</th>\n",
       "      <th>B</th>\n",
       "    </tr>\n",
       "  </thead>\n",
       "  <tbody>\n",
       "    <tr>\n",
       "      <th>1</th>\n",
       "      <td>2.0</td>\n",
       "      <td>5</td>\n",
       "    </tr>\n",
       "    <tr>\n",
       "      <th>2</th>\n",
       "      <td>NaN</td>\n",
       "      <td>6</td>\n",
       "    </tr>\n",
       "  </tbody>\n",
       "</table>\n",
       "</div>"
      ],
      "text/plain": [
       "     A  B\n",
       "1  2.0  5\n",
       "2  NaN  6"
      ]
     },
     "execution_count": 20,
     "metadata": {},
     "output_type": "execute_result"
    }
   ],
   "source": [
    "Df.loc[Df['B'] > 4]"
   ]
  },
  {
   "cell_type": "markdown",
   "metadata": {},
   "source": [
    "To understand how `.loc()` works, we need to understand [how it handles Boolean arrays](https://pandas.pydata.org/docs/reference/api/pandas.DataFrame.loc.html). These are arrays which hold Python `True` or `False` values and tell pandas which rows (by default) or columns to include in the resulting data frame. Consider the output of\n",
    "```python\n",
    "Df['A'].notna()\n",
    "```"
   ]
  },
  {
   "cell_type": "code",
   "execution_count": 21,
   "metadata": {
    "tags": []
   },
   "outputs": [
    {
     "data": {
      "text/plain": [
       "0     True\n",
       "1     True\n",
       "2    False\n",
       "Name: A, dtype: bool"
      ]
     },
     "execution_count": 21,
     "metadata": {},
     "output_type": "execute_result"
    }
   ],
   "source": [
    "Df['A'].notna()"
   ]
  },
  {
   "cell_type": "markdown",
   "metadata": {},
   "source": [
    "Thus, the above instructs pandas to keep the first two rows and drop the last one. We save the result in Analysis. This is so common in data analysis that pandas already has a dataframe method for completing the task"
   ]
  },
  {
   "cell_type": "code",
   "execution_count": 22,
   "metadata": {
    "tags": []
   },
   "outputs": [
    {
     "data": {
      "text/html": [
       "<div>\n",
       "<style scoped>\n",
       "    .dataframe tbody tr th:only-of-type {\n",
       "        vertical-align: middle;\n",
       "    }\n",
       "\n",
       "    .dataframe tbody tr th {\n",
       "        vertical-align: top;\n",
       "    }\n",
       "\n",
       "    .dataframe thead th {\n",
       "        text-align: right;\n",
       "    }\n",
       "</style>\n",
       "<table border=\"1\" class=\"dataframe\">\n",
       "  <thead>\n",
       "    <tr style=\"text-align: right;\">\n",
       "      <th></th>\n",
       "      <th>A</th>\n",
       "      <th>B</th>\n",
       "    </tr>\n",
       "  </thead>\n",
       "  <tbody>\n",
       "    <tr>\n",
       "      <th>0</th>\n",
       "      <td>1.0</td>\n",
       "      <td>4</td>\n",
       "    </tr>\n",
       "    <tr>\n",
       "      <th>1</th>\n",
       "      <td>2.0</td>\n",
       "      <td>5</td>\n",
       "    </tr>\n",
       "  </tbody>\n",
       "</table>\n",
       "</div>"
      ],
      "text/plain": [
       "     A  B\n",
       "0  1.0  4\n",
       "1  2.0  5"
      ]
     },
     "execution_count": 22,
     "metadata": {},
     "output_type": "execute_result"
    }
   ],
   "source": [
    "AnalysisDf = Df.dropna(subset=[\"A\"])\n",
    "AnalysisDf.head()"
   ]
  },
  {
   "cell_type": "markdown",
   "metadata": {},
   "source": [
    "Notice, however, that I have been careful to say that `.loc()` handles Boolean arrays. Boolean vectors are a subset of this. The next exercise is meant to nail home why such a distinction is important.\n",
    "\n",
    "# Exercise - Logical Indexing\n",
    "Consider the following data frame. We would like to get rid of any rows which contain missing values using `.loc()`. This should replicate the output from running\n",
    "``` ptyhon\n",
    "df.dropna()\n",
    "```\n",
    "Using the given data frame below, write some code using `.loc()` which replicates the output of `Df.dropna()`.\n",
    "\n",
    "Hint: To see the expected output you can first execute\n",
    "``` ptyhon\n",
    "df.dropna()\n",
    "```"
   ]
  },
  {
   "cell_type": "code",
   "execution_count": 52,
   "metadata": {
    "tags": []
   },
   "outputs": [
    {
     "data": {
      "text/html": [
       "<div>\n",
       "<style scoped>\n",
       "    .dataframe tbody tr th:only-of-type {\n",
       "        vertical-align: middle;\n",
       "    }\n",
       "\n",
       "    .dataframe tbody tr th {\n",
       "        vertical-align: top;\n",
       "    }\n",
       "\n",
       "    .dataframe thead th {\n",
       "        text-align: right;\n",
       "    }\n",
       "</style>\n",
       "<table border=\"1\" class=\"dataframe\">\n",
       "  <thead>\n",
       "    <tr style=\"text-align: right;\">\n",
       "      <th></th>\n",
       "      <th>A</th>\n",
       "      <th>B</th>\n",
       "    </tr>\n",
       "  </thead>\n",
       "  <tbody>\n",
       "    <tr>\n",
       "      <th>0</th>\n",
       "      <td>1.0</td>\n",
       "      <td>4</td>\n",
       "    </tr>\n",
       "    <tr>\n",
       "      <th>1</th>\n",
       "      <td>2.0</td>\n",
       "      <td>5</td>\n",
       "    </tr>\n",
       "  </tbody>\n",
       "</table>\n",
       "</div>"
      ],
      "text/plain": [
       "     A  B\n",
       "0  1.0  4\n",
       "1  2.0  5"
      ]
     },
     "execution_count": 52,
     "metadata": {},
     "output_type": "execute_result"
    }
   ],
   "source": [
    "condition = Df['A'].notna() & Df['B'].notna()\n",
    "subset = Df.loc[condition]\n",
    "subset\n",
    "Df.dropna()"
   ]
  },
  {
   "cell_type": "markdown",
   "metadata": {},
   "source": [
    "# Computing Summary Stats and Plotting Distributions"
   ]
  },
  {
   "cell_type": "code",
   "execution_count": 23,
   "metadata": {
    "tags": []
   },
   "outputs": [
    {
     "data": {
      "text/html": [
       "<div>\n",
       "<style scoped>\n",
       "    .dataframe tbody tr th:only-of-type {\n",
       "        vertical-align: middle;\n",
       "    }\n",
       "\n",
       "    .dataframe tbody tr th {\n",
       "        vertical-align: top;\n",
       "    }\n",
       "\n",
       "    .dataframe thead th {\n",
       "        text-align: right;\n",
       "    }\n",
       "</style>\n",
       "<table border=\"1\" class=\"dataframe\">\n",
       "  <thead>\n",
       "    <tr style=\"text-align: right;\">\n",
       "      <th></th>\n",
       "      <th>sepal_length</th>\n",
       "      <th>sepal_width</th>\n",
       "      <th>petal_length</th>\n",
       "      <th>petal_width</th>\n",
       "      <th>species</th>\n",
       "    </tr>\n",
       "  </thead>\n",
       "  <tbody>\n",
       "    <tr>\n",
       "      <th>0</th>\n",
       "      <td>5.1</td>\n",
       "      <td>3.5</td>\n",
       "      <td>1.4</td>\n",
       "      <td>0.2</td>\n",
       "      <td>setosa</td>\n",
       "    </tr>\n",
       "    <tr>\n",
       "      <th>1</th>\n",
       "      <td>4.9</td>\n",
       "      <td>3.0</td>\n",
       "      <td>1.4</td>\n",
       "      <td>0.2</td>\n",
       "      <td>setosa</td>\n",
       "    </tr>\n",
       "    <tr>\n",
       "      <th>2</th>\n",
       "      <td>4.7</td>\n",
       "      <td>3.2</td>\n",
       "      <td>1.3</td>\n",
       "      <td>0.2</td>\n",
       "      <td>setosa</td>\n",
       "    </tr>\n",
       "    <tr>\n",
       "      <th>3</th>\n",
       "      <td>4.6</td>\n",
       "      <td>3.1</td>\n",
       "      <td>1.5</td>\n",
       "      <td>0.2</td>\n",
       "      <td>setosa</td>\n",
       "    </tr>\n",
       "    <tr>\n",
       "      <th>4</th>\n",
       "      <td>5.0</td>\n",
       "      <td>3.6</td>\n",
       "      <td>1.4</td>\n",
       "      <td>0.2</td>\n",
       "      <td>setosa</td>\n",
       "    </tr>\n",
       "  </tbody>\n",
       "</table>\n",
       "</div>"
      ],
      "text/plain": [
       "   sepal_length  sepal_width  petal_length  petal_width species\n",
       "0           5.1          3.5           1.4          0.2  setosa\n",
       "1           4.9          3.0           1.4          0.2  setosa\n",
       "2           4.7          3.2           1.3          0.2  setosa\n",
       "3           4.6          3.1           1.5          0.2  setosa\n",
       "4           5.0          3.6           1.4          0.2  setosa"
      ]
     },
     "execution_count": 23,
     "metadata": {},
     "output_type": "execute_result"
    }
   ],
   "source": [
    "iris = sns.load_dataset('iris') # Load some sample data\n",
    "iris.head()"
   ]
  },
  {
   "cell_type": "markdown",
   "metadata": {},
   "source": [
    "# Summary Statistics\n",
    "Pandas has numerous methods for calculating summary statistics. They are aptly named!"
   ]
  },
  {
   "cell_type": "code",
   "execution_count": 24,
   "metadata": {
    "tags": []
   },
   "outputs": [
    {
     "data": {
      "text/plain": [
       "5.843333333333334"
      ]
     },
     "execution_count": 24,
     "metadata": {},
     "output_type": "execute_result"
    }
   ],
   "source": [
    "iris['sepal_length'].mean() # Computes the mean of sepal length"
   ]
  },
  {
   "cell_type": "code",
   "execution_count": 25,
   "metadata": {
    "tags": []
   },
   "outputs": [
    {
     "data": {
      "text/plain": [
       "0.8280661279778629"
      ]
     },
     "execution_count": 25,
     "metadata": {},
     "output_type": "execute_result"
    }
   ],
   "source": [
    "iris['sepal_length'].std() # Computes the standard deviation of sepal length"
   ]
  },
  {
   "cell_type": "markdown",
   "metadata": {},
   "source": [
    "## Exercise - Using .sum()\n",
    "You can also use `.sum()` to calculate column totals. Let's see how this works calculating the mean of sepal length. In the cell below this one, calculate the mean `'sepal_length'` using the pandas `.sum()` method and Python's built in `len()` function.\n",
    "\n",
    "**Hint**: The result should be equivalent to using the `.mean()` method above."
   ]
  },
  {
   "cell_type": "code",
   "execution_count": 57,
   "metadata": {
    "tags": []
   },
   "outputs": [
    {
     "data": {
      "text/plain": [
       "0.828066127977863"
      ]
     },
     "execution_count": 57,
     "metadata": {},
     "output_type": "execute_result"
    }
   ],
   "source": [
    "\n",
    "mean = iris['sepal_length'].sum()/iris['sepal_length'].count()\n",
    "N = iris['sepal_length'].count()\n",
    "\n",
    "std = (iris['sepal_length'] - mean)**2\n",
    "std = std.sum()/ (N-1)\n",
    "std = np.sqrt(std)\n",
    "std"
   ]
  },
  {
   "cell_type": "markdown",
   "metadata": {},
   "source": [
    "# Plotting Histograms\n",
    "Note that there are four numerical variables in the iris data frame."
   ]
  },
  {
   "cell_type": "code",
   "execution_count": 26,
   "metadata": {
    "tags": []
   },
   "outputs": [
    {
     "data": {
      "text/plain": [
       "sepal_length    float64\n",
       "sepal_width     float64\n",
       "petal_length    float64\n",
       "petal_width     float64\n",
       "species          object\n",
       "dtype: object"
      ]
     },
     "execution_count": 26,
     "metadata": {},
     "output_type": "execute_result"
    }
   ],
   "source": [
    "iris.dtypes"
   ]
  },
  {
   "cell_type": "markdown",
   "metadata": {},
   "source": [
    "We can use matplotlib subplots to get a feel for the distribution of all these. The basic syntax of matplot lib is very redundant. You create a figure object and then add plots to it."
   ]
  },
  {
   "cell_type": "code",
   "execution_count": 27,
   "metadata": {
    "tags": []
   },
   "outputs": [
    {
     "data": {
      "text/plain": [
       "'petal length'"
      ]
     },
     "execution_count": 27,
     "metadata": {},
     "output_type": "execute_result"
    }
   ],
   "source": [
    "\" \".join('petal_length'.split(\"_\"))"
   ]
  },
  {
   "cell_type": "code",
   "execution_count": 28,
   "metadata": {
    "tags": []
   },
   "outputs": [
    {
     "data": {
      "text/plain": [
       "'Petal Length'"
      ]
     },
     "execution_count": 28,
     "metadata": {},
     "output_type": "execute_result"
    }
   ],
   "source": [
    "'petal_length'.replace(\"_\", \" \").title()"
   ]
  },
  {
   "cell_type": "code",
   "execution_count": 29,
   "metadata": {
    "tags": []
   },
   "outputs": [
    {
     "data": {
      "image/png": "[encoded data removed]",
      "text/plain": [
       "<Figure size 800x800 with 4 Axes>"
      ]
     },
     "metadata": {},
     "output_type": "display_data"
    }
   ],
   "source": [
    "# Creates figure object\n",
    "fig, ax = plt.subplots(2,2, figsize = (8,8))\n",
    "\n",
    "# Gets rid of top and right borders\n",
    "sns.despine()      \n",
    "\n",
    "#Pick the variables to iterate over\n",
    "VarNames = ['petal_length', 'petal_width', 'sepal_length', 'sepal_width']\n",
    "\n",
    "# Plot\n",
    "for (indx, axis) in enumerate(ax.flat):\n",
    "    axis.hist(iris[VarNames[indx]])                                            # Plot the distribution\n",
    "    axis.set_title(VarNames[indx])                                             # Add a title to the subplot\n",
    "    axis.axvline(x = iris[VarNames[indx]].mean(), color = 'r', label = 'Mean') # Add a vertical line at the mean    \n",
    "\n",
    "# Add a legend to the top right plot\n",
    "ax[0,1].legend()\n",
    "plt.show()"
   ]
  }
 ],
 "metadata": {
  "kernelspec": {
   "display_name": "econ570",
   "language": "python",
   "name": "python3"
  },
  "language_info": {
   "codemirror_mode": {
    "name": "ipython",
    "version": 3
   },
   "file_extension": ".py",
   "mimetype": "text/x-python",
   "name": "python",
   "nbconvert_exporter": "python",
   "pygments_lexer": "ipython3",
   "version": "3.10.18"
  },
  "toc-autonumbering": true,
  "toc-showmarkdowntxt": true
 },
 "nbformat": 4,
 "nbformat_minor": 4
}
