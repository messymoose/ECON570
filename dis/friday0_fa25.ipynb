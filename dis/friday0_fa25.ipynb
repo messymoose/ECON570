{
 "cells": [
  {
   "cell_type": "markdown",
   "metadata": {
    "jp-MarkdownHeadingCollapsed": true,
    "slideshow": {
     "slide_type": "slide"
    },
    "tags": []
   },
   "source": [
    "<!-- Prof & TA Information -->\n",
    "<div style=\"display:flex; justify-content:space-between;\">\n",
    "    \n",
    "<div style=\"width:230%;\">\n",
    "<strong>Professor: </strong> Ashley T. Swanson<br>\n",
    "OH: TR 2:15 - 3:15 | 7434 Sewell Social Sciences <br>\n",
    "Email: ashley.swanson@wisc.edu\n",
    "</div>\n",
    "    \n",
    "<div style=\"width:900%:right;\">\n",
    "<strong>TA: </strong> Alejandro Herrera-Caicedo <br>\n",
    "OH: TR 4:00 - 5:00 | 7310 Social Sciences<br>\n",
    "Email: herreracaice@wisc.edu\n",
    "</div>\n",
    "</div>\n",
    "\n",
    "---\n",
    "\n",
    "<!-- Title + Subtitle -->\n",
    "<div style=\"padding:25px; \n",
    "            text-align:center; \n",
    "            font-size:3em; \n",
    "            font-weight:bold;\n",
    "            margin-bottom:5px;\">\n",
    "  Discussion 0 <br>\n",
    "  <div style=\"font-size:0.4em; \n",
    "              font-weight:normal;\n",
    "              margin-top:8px; \n",
    "              font-style:italic;\n",
    "              margin-bottom:10px;\">\n",
    "  Econ 570 – September 5, 2025\n",
    "  </div>\n",
    "</div>\n",
    "\n",
    "<!-- Reminder Box -->\n",
    "<div style=\"background-color:#B22222; \n",
    "            color:white; \n",
    "            padding:15px 25px; \n",
    "            border-radius:8px; \n",
    "            text-align:center; \n",
    "            font-size:1.2em; \n",
    "            font-family: Arial, Helvetica, sans-serif;\n",
    "            font-weight:bold;\n",
    "            margin-bottom:10px;\">\n",
    "  Reminder: Student Survey (1%) is due Tonight! And Anaconda Install and Self-Test completion (2%) are due the 9th!\n",
    "</div>\n",
    "\n"
   ]
  },
  {
   "cell_type": "markdown",
   "metadata": {
    "editable": true,
    "slideshow": {
     "slide_type": ""
    },
    "tags": []
   },
   "source": [
    "# Plan for today\n",
    "\n",
    "1. Introductions\n",
    "2. General advice\n",
    "3. Optional: Runing python using junyper notebooks\n",
    "4. Optional: Setting up your directories (Filepaths)\n",
    "5. Working on the self-test & python basics"
   ]
  },
  {
   "cell_type": "markdown",
   "metadata": {
    "editable": true,
    "slideshow": {
     "slide_type": ""
    },
    "tags": []
   },
   "source": [
    "# 1. Introductions \n",
    "##  About you:\n",
    "* What year are you?\n",
    "* What is your major?\n",
    "* Experience with python?\n",
    "* Do you use other programming languages?"
   ]
  },
  {
   "cell_type": "markdown",
   "metadata": {
    "slideshow": {
     "slide_type": "slide"
    }
   },
   "source": [
    "##  About me:\n",
    "\n",
    "* TA: Alejandro Herrera-Caicedo\n",
    "* School: Bachelor and Master in Economics at Universidad de los Andes (Bogotá, Colombia). Currently a PhD student in Economics at UW-Madison (4rd year).\n",
    "* OH: TR 4:00 - 5:00 | 7310 Social Sciences\n",
    "\n",
    "* Previous Employment:  TA for game theory; RA at the NBER, Chicago Booth and Colombia's Central Bank; Analyst for Bogotá's crime prevention office.\n",
    "\n",
    "* Research:  Industrial organization, labor economics, public policy\n",
    "    * Mechanisms facilitating collusion in (labor) markets\n",
    "    * Supply side reactions to demand side subsidies \n",
    "    * Competition in the market for doctors and medical services\n",
    " \n",
    "* Not work:  Cooking, coffee, drawing, re-learning how to boulder, taking my dog for a stroll\n",
    "\n",
    "* Discussion sections:\n",
    "    * DIS 301 | F 09:55 AM - 10:45 AM  | 0490 Van Hise Hall\n",
    "    * DIS 302 | F 12:05 PM - 12:55 PM  | 2333 Sterling Hall\n",
    "    * DIS 303 | F 01:20 PM - 02:10 PM  | 2323 Sterling Hall\n",
    "    * DIS 304 | F 02:25 PM - 03:15 PM  | 2329 Sterling Hall\n",
    "\n",
    "<div style=\"margin-top:40px;\"></div>\n"
   ]
  },
  {
   "cell_type": "markdown",
   "metadata": {
    "slideshow": {
     "slide_type": "slide"
    }
   },
   "source": [
    "# 2. General Advice \n",
    "\n",
    "* **Make sure you read the [syllabus](https://canvas.wisc.edu/courses/479130)**\n",
    "* I'd recommend finding a small group to work with; this will be helpful for more complex concepts\n",
    "* Don't fall behind! Everything is cumulative and progressive, so it builds upon itself\n",
    "* Use discussion and office hours - please ask questions if you get stuck!"
   ]
  },
  {
   "cell_type": "markdown",
   "metadata": {
    "editable": true,
    "slideshow": {
     "slide_type": "slide"
    },
    "tags": []
   },
   "source": [
    "## How to find good data\n",
    "\n",
    "* The [Data Resources](https://canvas.wisc.edu/courses/479130/pages/data-resources) page on the Canvas site has some great data sources.\n",
    "* I like to Google prompts related to data I want to see (e.g., \"online food delivery transactional dataset\" or \"construction of new amazon FC\")\n",
    "* Some sources aggregate lots of data:\n",
    "    * [Harvard Dataverse](https://dataverse.harvard.edu/) has data for a lot of publications.\n",
    "    * Many local govs publish their data on open data portals (a previous TA used [Chicago](https://data.cityofchicago.org/) for data on ride-sharing).\n",
    "    * Many states also publish open data (e.g. [California's open data](https://data.ca.gov/)) with ample options to explore.\n",
    "    * There's even a [census on squirrels](https://github.com/rfordatascience/tidytuesday/tree/master/data/2019/2019-10-29) in New York City!\n",
    " <div style=\"margin-top:40px;\"></div>\n"
   ]
  },
  {
   "cell_type": "markdown",
   "metadata": {
    "editable": true,
    "slideshow": {
     "slide_type": ""
    },
    "tags": []
   },
   "source": [
    "# 3. Working with Jupyter notebooks\n",
    "If you already have this notebook up and running, then you're on the right track. Let's review:\n",
    "\n",
    "## Starting Jupyter Lab\n",
    "1. If appropriate, log into Winstat. See [sscc winstat](https://www.ssc.wisc.edu/sscc/pubs/winstat.htm) if you need a refresher.\n",
    "    * From the search menu in the left of the task bar, start typing 'Jupyter lab'. As you type, search results will appear. Click on the 'Jupyter Lab' entry (**not** Jupyter Notebook).\n",
    "2. Alternatively, open Jupyter Lab on your machine from the Anaconda Prompt or Terminal. Make sure to activate your econ570 environment first!\n",
    "   \n",
    "```shell\n",
    "# Install Jupyter (if needed)\n",
    " conda install jupyter\n",
    "\n",
    "# Navigate to your main directory\n",
    " cd path/to/your/main/directory\n",
    "\n",
    "# Activate our environment\n",
    " conda activate econ570\n",
    "\n",
    "# Start Jupyter\n",
    " jupyter lab \n",
    "```\n",
    "\n",
    "3. Either approach will open a console window (which we don't need to use) and a web browser. The web browser will show the Jupyter Lab interface. The left-hand panel includes a file browser."
   ]
  },
  {
   "cell_type": "markdown",
   "metadata": {
    "editable": true,
    "slideshow": {
     "slide_type": ""
    },
    "tags": []
   },
   "source": [
    "## What is a Jupyter notebook?\n",
    "A Jupyter notebook combines input (code) with output (results). It also allows us to mix in text, which will let us provide lots of documentation about what our code is doing. The text is added in markdown which gives us even more options. We will discuss markdown a bit later.\n",
    "\n",
    "A notebook runs a command window (look at your taskbar) that we do not need to bother with and a document displayed in a web browser. You are looking at the notebook right now!\n",
    "\n",
    "The cell you are reading is a markdown cell. Cells can  be text or code. You can edit a cell by double-clicking on it.\n",
    "\n",
    "**DO:**  The cell below this cell is a code cell. Notice that the cell has '[ ]:' in front of it. That means it is a cell for code input. Place your cursor in the cell and type 3*2 and hit `ctrl+enter` to run the cell. What happened?"
   ]
  },
  {
   "cell_type": "code",
   "execution_count": null,
   "metadata": {
    "editable": true,
    "slideshow": {
     "slide_type": ""
    },
    "tags": []
   },
   "outputs": [],
   "source": [
    "[COMPUTATION GOES IN THIS CELL]"
   ]
  },
  {
   "cell_type": "markdown",
   "metadata": {
    "editable": true,
    "slideshow": {
     "slide_type": ""
    },
    "tags": []
   },
   "source": [
    "You have performed a computation! Notebooks are interactive. We can work on blocks of code and execute them using `ctrl+enter` or `shift+enter`. This will be very convenient. In between blocks of code, we can add blocks of text to describe what we are doing. \n",
    "\n",
    "**DO:**  Use the + button to insert a block below this one. What kind of cell is it?"
   ]
  },
  {
   "cell_type": "markdown",
   "metadata": {
    "editable": true,
    "slideshow": {
     "slide_type": ""
    },
    "tags": []
   },
   "source": [
    "**DO:**  Go back to the cell you inserted and change it to a markdown cell.  "
   ]
  },
  {
   "cell_type": "markdown",
   "metadata": {
    "editable": true,
    "slideshow": {
     "slide_type": ""
    },
    "tags": []
   },
   "source": [
    "### Command mode versus edit mode\n",
    "\n",
    "Notice that a cell can have two states: *edit mode*, where you type, and *command mode*, where the result of the typed code is displayed. \n",
    "\n",
    "1. If the cell is in command mode, double click, or select the cell and hit `enter` to change to edit mode.\n",
    "2. If a cell is in edit mode, run the cell (`ctrl+enter` or `shift+enter`) or hit `esc` to move to command mode. \n",
    "\n",
    "### Keyboard shortcuts\n",
    "When we are in command mode, we can use keyboard shortcuts. Shortcuts are much quicker than taking our hands off the keyboard and moving the mouse around. \n",
    "\n",
    "Let's try one. Make sure this cell is in command mode (hit `esc`). Then hit `b`. What happened? What kind of cell is this?\n",
    "\n"
   ]
  },
  {
   "cell_type": "markdown",
   "metadata": {
    "editable": true,
    "slideshow": {
     "slide_type": ""
    },
    "tags": []
   },
   "source": [
    "Shortcuts take some time to memorize and use, but you will be a more efficient coder if you make them part of your workflow. You can find a list of shortcuts [here](https://jupyter-tutorial.readthedocs.io/en/latest/notebook/shortcuts.html). \n",
    "\n",
    "A few I use often:\n",
    "\n",
    "1. Command mode: `esc`\n",
    "2. Edit mode: `enter`\n",
    "4. Change markdown cell to code cell: `y`\n",
    "5. Change code cell to markdown cell:`m`\n",
    "6. Insert cell below: `b`\n",
    "7. Insert above: `a`\n",
    "8. Delete: `dd`\n",
    "9. Undo: `z`\n",
    "\n",
    "Remember, you need to be in command mode to use shortcuts."
   ]
  },
  {
   "cell_type": "markdown",
   "metadata": {
    "editable": true,
    "slideshow": {
     "slide_type": ""
    },
    "tags": []
   },
   "source": [
    "## Markdowns: Formating your notebook \n",
    "\n",
    "Markdown is a simple markup language (like HTML or LaTeX) to format text and code. The point of markdown is to provide a very simple set of commands to format text. Nothing too fancy, but enough stuff like headers, lists, links, italics, bold, etc. to make our **documentation** easy to read. We can also write mathematical equations in markdown which is very helpful for documenting our code. \n",
    "\n",
    "Read the markdown cheatsheet available [here](https://github.com/adam-p/markdown-here/wiki/Markdown-Cheatsheet) for a list of commands. (Look at this cell in edit mode (which shortcut?) to see the syntax for a link!) \n",
    "\n",
    "Let's try some markdown. For each item below, insert a markdown cell and try it out. Remember to hit shift-enter to run the cell and see the result."
   ]
  },
  {
   "cell_type": "markdown",
   "metadata": {
    "editable": true,
    "slideshow": {
     "slide_type": ""
    },
    "tags": []
   },
   "source": [
    "### Math Equations\n",
    "You can use LaTeX notation to format your equations, using `$ math $` for symbols inside your paragraph and \n",
    "`$$ for centered equations $$`\n",
    "For example:"
   ]
  },
  {
   "cell_type": "markdown",
   "metadata": {
    "editable": true,
    "slideshow": {
     "slide_type": ""
    },
    "tags": []
   },
   "source": [
    "> The researchers were interested in understanding how an extra hour of sleep ($x$) contributes to productivity ($y$). To do so, they propose a model where the productivity of an agent $i$ is:\n",
    "> \n",
    "> $$ y_i = \\beta x_i + \\varepsilon_i ,$$\n",
    "> \n",
    "> where $\\varepsilon$ is the error term such that $\\mathbb{E}[\\varepsilon_i \\mid x_i] = 0$. To estimate $\\beta$, they used Ordinary Least Squares (OLS):\n",
    "> \n",
    "> $$  \\hat{\\beta}_{OLS} = \\frac{\\sum_{i=1}^n (x_i - \\bar{x})(y_i - \\bar{y})}{\\sum_{i=1}^n (x_i - \\bar{x})^2}. $$"
   ]
  },
  {
   "cell_type": "markdown",
   "metadata": {
    "editable": true,
    "slideshow": {
     "slide_type": ""
    },
    "tags": []
   },
   "source": [
    "### Making Headers\n",
    "\n",
    "In the cell below, make three layers of headings. ```# text``` will generate the first-level heading that reads 'text'. How do we get the second-level and third-level headings? \n",
    "\n",
    "\n"
   ]
  },
  {
   "cell_type": "markdown",
   "metadata": {
    "editable": true,
    "slideshow": {
     "slide_type": ""
    },
    "tags": []
   },
   "source": [
    "# level 1\n",
    "## level 2\n",
    "### level 3"
   ]
  },
  {
   "cell_type": "markdown",
   "metadata": {
    "editable": true,
    "slideshow": {
     "slide_type": ""
    },
    "tags": []
   },
   "source": [
    "### Making lists\n",
    "**DO:** An *unordered list* uses asterisks. In the cell below write: \n",
    "```\n",
    "* Bacon\n",
    "* Lettuce \n",
    "* Tomato\n",
    "```\n",
    "and run the cell (`shift+enter`).\n"
   ]
  },
  {
   "cell_type": "code",
   "execution_count": null,
   "metadata": {
    "editable": true,
    "slideshow": {
     "slide_type": ""
    },
    "tags": []
   },
   "outputs": [],
   "source": [
    " [Make an unordered list]"
   ]
  },
  {
   "cell_type": "markdown",
   "metadata": {
    "editable": true,
    "slideshow": {
     "slide_type": ""
    },
    "tags": []
   },
   "source": [
    "**DO:**  Try an *ordered list*\n",
    "```\n",
    "1. Wisconsin\n",
    "2. Minnesota\n",
    "3. Michigan\n",
    "```\n",
    "and run the cell (`shift+enter`). "
   ]
  },
  {
   "cell_type": "code",
   "execution_count": null,
   "metadata": {
    "editable": true,
    "slideshow": {
     "slide_type": ""
    },
    "tags": []
   },
   "outputs": [],
   "source": [
    " [Make an ordered list]"
   ]
  },
  {
   "cell_type": "markdown",
   "metadata": {
    "editable": true,
    "slideshow": {
     "slide_type": ""
    },
    "tags": []
   },
   "source": [
    "**DO:**  In the cell bellow write the following list:\n",
    "```\n",
    "1. Wisconsin\n",
    "   1. Madison\n",
    "   1. Milwaukee\n",
    "2. Minnesota\n",
    "   - Minneapolis\n",
    "   - St. Paul\n",
    "```\n",
    "What happens when you run the cell? How do you add a third level to the list?"
   ]
  },
  {
   "cell_type": "code",
   "execution_count": null,
   "metadata": {
    "editable": true,
    "slideshow": {
     "slide_type": ""
    },
    "tags": []
   },
   "outputs": [],
   "source": [
    " [Make a hybrid list]"
   ]
  },
  {
   "cell_type": "markdown",
   "metadata": {
    "editable": true,
    "slideshow": {
     "slide_type": ""
    },
    "tags": []
   },
   "source": [
    "### Showing your code vs. running it\n",
    "In some instances you will need to write bits of your code in your markown without running it. To do so, use backticks (next to the number 1 key) to format as code. In the  cell below, replace the ? with backticks: `\n",
    "\n",
    "? variable= \"Hello World!\" ?\n",
    "\n",
    "What happened? Will the kernel remember `variable`?\n",
    "\n",
    "\n",
    "**DO:** Run print(variable) below.\n"
   ]
  },
  {
   "cell_type": "code",
   "execution_count": null,
   "metadata": {
    "editable": true,
    "slideshow": {
     "slide_type": ""
    },
    "tags": []
   },
   "outputs": [
    {
     "ename": "NameError",
     "evalue": "name 'variable' is not defined",
     "output_type": "error",
     "traceback": [
      "\u001b[31m---------------------------------------------------------------------------\u001b[39m",
      "\u001b[31mNameError\u001b[39m                                 Traceback (most recent call last)",
      "\u001b[36mCell\u001b[39m\u001b[36m \u001b[39m\u001b[32mIn[1]\u001b[39m\u001b[32m, line 1\u001b[39m\n\u001b[32m----> \u001b[39m\u001b[32m1\u001b[39m \u001b[38;5;28mprint\u001b[39m(\u001b[43mvariable\u001b[49m)\n",
      "\u001b[31mNameError\u001b[39m: name 'variable' is not defined"
     ]
    }
   ],
   "source": []
  },
  {
   "cell_type": "markdown",
   "metadata": {
    "editable": true,
    "slideshow": {
     "slide_type": ""
    },
    "tags": []
   },
   "source": [
    "**DO:** Create a variable x and assign it the string \"Hello World!\", then print it:"
   ]
  },
  {
   "cell_type": "code",
   "execution_count": null,
   "metadata": {
    "editable": true,
    "slideshow": {
     "slide_type": ""
    },
    "tags": []
   },
   "outputs": [],
   "source": []
  },
  {
   "cell_type": "markdown",
   "metadata": {
    "editable": true,
    "slideshow": {
     "slide_type": ""
    },
    "tags": []
   },
   "source": [
    "Now try a block of code. Use a 'fence' of three backticks at the beginning and end of the code, like this:\n",
    "\n",
    "```python\n",
    "\n",
    "x = 10\n",
    "\n",
    "print(x)\n",
    "\n",
    "```\n",
    "\n",
    "Try it in the block below. Try removing the word 'python' from the block of code. What changes?"
   ]
  },
  {
   "cell_type": "markdown",
   "metadata": {
    "editable": true,
    "slideshow": {
     "slide_type": ""
    },
    "tags": []
   },
   "source": [
    "A for loop (more on this later) the code will look like this:\n",
    "```python\n",
    "for i in range(10):\n",
    "    print(i)\n",
    "```"
   ]
  },
  {
   "cell_type": "markdown",
   "metadata": {
    "editable": true,
    "slideshow": {
     "slide_type": ""
    },
    "tags": []
   },
   "source": [
    " But it is not running the code, it is just showing it. \n",
    " \n",
    " **DO:**  Create a new cell and run the *loop* shown above:"
   ]
  },
  {
   "cell_type": "markdown",
   "metadata": {
    "editable": true,
    "slideshow": {
     "slide_type": ""
    },
    "tags": []
   },
   "source": [
    "# 4. A Quick Note on Relative File Paths\n",
    "\n",
    "You will have to write file paths in order to tell python, but mainly pandas, where to read and write files from and to. The best practice when specifying file paths is to use *relative file paths*. Let's look at an example of how to do this.\n",
    "\n",
    "### Example\n",
    "Suppose you have a folder on your computer's desktop called \"project\". That folder has data and code subfolders,\n",
    "\n",
    "📂 project  \n",
    "├── 📂 data  \n",
    "├── 📂 code  \n",
    "\n",
    "In the \"code\" you store things like Jupyter notebooks and code scripts. In the \"data\" folder are your datasets. Your first instict when loading a file into python would be to provide to python the whole path to your file:\n",
    "\n",
    "```\n",
    "import pandas as pd\n",
    "MyData = pd.read_csv('/Users/Alejandro/Research/project/data/MyData.csv')\n",
    "```\n",
    "\n",
    "However, we can do **better** than that using _relative file paths_:\n",
    "\n",
    "```\n",
    "import pandas as pd\n",
    "MyData = pd.read_csv('../data/MyData.csv')\n",
    "```\n",
    "\n"
   ]
  },
  {
   "cell_type": "markdown",
   "metadata": {
    "editable": true,
    "slideshow": {
     "slide_type": ""
    },
    "tags": []
   },
   "source": [
    "# 5. The Self-Test\n",
    "\n",
    "We will now give you time to go over the [python-basics](https://canvas.wisc.edu/courses/479130/files/47243383?wrap=1) and the [self-test](https://canvas.wisc.edu/courses/479130/files/47159790?wrap=1). I will go over it, and let you work on it for the rest of the session. If you have any questions, please ask!"
   ]
  },
  {
   "cell_type": "code",
   "execution_count": null,
   "metadata": {},
   "outputs": [],
   "source": []
  }
 ],
 "metadata": {
  "celltoolbar": "Slideshow",
  "kernelspec": {
   "display_name": ".venv",
   "language": "python",
   "name": "python3"
  },
  "language_info": {
   "codemirror_mode": {
    "name": "ipython",
    "version": 3
   },
   "file_extension": ".py",
   "mimetype": "text/x-python",
   "name": "python",
   "nbconvert_exporter": "python",
   "pygments_lexer": "ipython3",
   "version": "3.12.6"
  }
 },
 "nbformat": 4,
 "nbformat_minor": 4
}
