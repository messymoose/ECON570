{
 "cells": [
  {
   "cell_type": "markdown",
   "metadata": {},
   "source": [
    "# Self-test for Econ 570 Fall 2025\n",
    "\n",
    "files needed = ('imports.xlsx', 'cpi.csv', 'wdi.csv'), which can be found in `570_testdata.zip`\n",
    "\n",
    "This self-test is designed to help you evaluate your Python skills in preparation for Econ 570. You will not be graded based on self-test performance, but: \n",
    "* if you struggle to complete it within the allotted time, \n",
    "* or you struggle to understand the code in the provided solution set, \n",
    "* or you find dramatically different answers than those in the provided solution set ...\n",
    "\n",
    "... then you would likely benefit from developing some basic python skills *before* taking **Econ 570**.\n",
    "\n",
    "Guide for self-test:\n",
    "\n",
    "* Set a timer for 90 minutes.\n",
    "* Import any packages you need to complete this self-test. Some suggestions are provided below.\n",
    "* Complete the self-test in the `.ipynb` file.\n",
    "* Do not modify the data files directly. All data manipulation should happen in your code.\n",
    "* Use help documents, internet resources, etc. as you see fit, but do not work with others, and do not post questions online or solicit answers from any individuals (e.g., Chegg) or AI tools (e.g., ChatGPT)."
   ]
  },
  {
   "cell_type": "markdown",
   "metadata": {
    "vscode": {
     "languageId": "raw"
    }
   },
   "source": [
    "    ## Question 1: Working with DataFrames \n",
    "\n",
    "    The file 'imports.xlsx' contains two variables. `imports china` is the value of US imports from China from 1985&ndash;2022 and `imports all` is the value of total US imports from 1985&ndash;2022.\n",
    "\n",
    "    Use the data to answer the following questions.\n",
    "\n",
    "    1. Compute the share of Chinese imports in total imports. That is, `(imports china / imports all) * 100`.\n",
    "\n",
    "    2. The China-US trade war intensified in 2018. Print out China's share of US imports as follows:\n",
    "\n",
    "    ```\n",
    "    China's share in US trade was 21 percent in 2018 and 16 percent in 2022.\n",
    "    ```\n",
    "\n",
    "    Replace the ??s with your answers. The two numbers should be expressed as integers.\n",
    "    "
   ]
  },
  {
   "cell_type": "code",
   "execution_count": 5,
   "metadata": {},
   "outputs": [
    {
     "name": "stdout",
     "output_type": "stream",
     "text": [
      "2018: 21\n",
      "2022: 16\n"
     ]
    }
   ],
   "source": [
    "import pandas as pd\n",
    "\n",
    "df = pd.read_excel(\"imports.xlsx\")\n",
    "\n",
    "df[\"share_china\"] = (df[\"imports china\"] / df[\"imports all\"]) * 100\n",
    "\n",
    "share_2018 = int(df.loc[df[\"observation_date\"] == 2018, \"share_china\"].values[0])\n",
    "share_2022 = int(df.loc[df[\"observation_date\"] == 2022, \"share_china\"].values[0])\n",
    "\n",
    "print(f\"2018: {share_2018}\")\n",
    "print(f\"2022: {share_2022}\")\n"
   ]
  },
  {
   "cell_type": "markdown",
   "metadata": {},
   "source": [
    "## Question 2: Dictionaries and functions\n",
    "\n",
    "Write a function (call it q2) that takes a `dict` as an argument. The `dict` holds the quantity of lumber and species of the lumber. The function computes and returns the total value of the lumber in the `dict`; that is, the quantity times the price. Oak sells for \\\\$2.50 each and cherry sells for \\\\$6.25 each.  \n",
    "\n",
    "Test your function by running the following code (copy and paste it into a code cell):\n",
    "\n",
    "```python\n",
    "tree1 = {'quantity':10, 'species':'oak'}\n",
    "tree2 = {'quantity':25, 'species':'cherry'}\n",
    "print(q2(tree1))\n",
    "print(q2(tree2))\n",
    "```\n",
    "      "
   ]
  },
  {
   "cell_type": "code",
   "execution_count": 14,
   "metadata": {},
   "outputs": [
    {
     "name": "stdout",
     "output_type": "stream",
     "text": [
      "25.0\n",
      "156.25\n"
     ]
    }
   ],
   "source": [
    "def q2(tree_dict):\n",
    "    prices = {\"oak\": 2.50, \"cherry\": 6.25}\n",
    "    \n",
    "    qty = tree_dict[\"quantity\"]\n",
    "    species = tree_dict[\"species\"].lower()\n",
    "    \n",
    "    return qty * prices[species]\n",
    "\n",
    "tree1 = {'quantity':10, 'species':'oak'}\n",
    "tree2 = {'quantity':25, 'species':'cherry'}\n",
    "\n",
    "print(q2(tree1))\n",
    "print(q2(tree2))"
   ]
  },
  {
   "cell_type": "markdown",
   "metadata": {},
   "source": [
    "## Question 3: More DataFrames\n",
    "\n",
    "Consider the code below when answering the following questions.  \n",
    "\n",
    "```python\n",
    "df = pd.DataFrame({'a':range(0,10), 'b':range(5,15), 'c':range(-2,17, 2)})\n",
    "\n",
    "for i in range(0, 10):\n",
    "    df.loc[i, 'd'] = (df.loc[i, 'a'] + df.loc[i, 'b'] + df.loc[i, 'c'])/3\n",
    "    \n",
    "print(df)\n",
    "```\n",
    "\n",
    "You do not need to write any code to answer these question. Insert a markdown cell and type your answer out.\n",
    "\n",
    "1. What does this code do?\n",
    "2. Why is this code a poor way to accomplish this task? "
   ]
  },
  {
   "cell_type": "markdown",
   "metadata": {},
   "source": [
    "### Answers\n",
    "1. The code makes a new dataframe with three columns (A,b,c), and for each row in index 0-9 it calculates the average in rows abc. The averages are stored in a new column \"d\". after it completes all the averages, it prints the df containing cols a-d.\n",
    "\n",
    "2. Indexing through each row is slow and not efficient, since pandas pkg is meant to calculate entire columns at once. "
   ]
  },
  {
   "cell_type": "markdown",
   "metadata": {},
   "source": [
    "## Question 4: Merge \n",
    "\n",
    "Below are two DataFrames, X and Y. Insert a markdown cell below this one, and use the DataFrames to answer the following questions. You do not need to write any code for this question.\n",
    "\n",
    "1. How many rows and columns does Z have after running the following code?\n",
    "```python\n",
    "Z = pd.merge(left=X, right=Y, on='id', how='inner')\n",
    "\n",
    "```\n",
    "##### ANSWER 1: 4 rows, 3 cols\n",
    "\n",
    "2. How many rows and columns does Z have after running the following code? How many missing values are in `Z['price']`?\n",
    "```python\n",
    "Z = pd.merge(left=X, right=Y, on='id', how='right')\n",
    "```\n",
    "#### ANSWER 2: _______\n",
    "\n",
    "### DataFrame X\n",
    "\n",
    "| id     | qty |\n",
    "|--------|-----|\n",
    "| pear   | 2   |\n",
    "| orange | 13  |\n",
    "| Banana | 89  |\n",
    "| apple  | 1   |\n",
    "\n",
    "### DataFrame Y\n",
    "\n",
    "| id      | price |\n",
    "|---------|-------|\n",
    "| orange  | 0.5   |\n",
    "| pear    | 1.2   |\n",
    "| Bannana | 0.1   |\n",
    "| apple   | 1.25  |\n",
    "| kiwi    | 1.75  |\n"
   ]
  },
  {
   "cell_type": "markdown",
   "metadata": {},
   "source": [
    "## Question 5: Time series\n",
    "\n",
    "1. Load the file `cpi.csv`. It contains data on the consumer price index.\n",
    "2. Create a new DataFrame containing the CPI at a quarterly frequency.\n",
    "3. Plot the quarterly CPI. Make your figure graphically excellent.\n",
    "4. Add a vertical line to your plot at August 1, 2020."
   ]
  },
  {
   "cell_type": "code",
   "execution_count": null,
   "metadata": {},
   "outputs": [
    {
     "ename": "",
     "evalue": "",
     "output_type": "error",
     "traceback": [
      "\u001b[1;31mRunning cells with 'Python 3.12.6' requires the ipykernel package.\n",
      "\u001b[1;31mInstall 'ipykernel' into the Python environment. \n",
      "\u001b[1;31mCommand: '/opt/homebrew/bin/python3 -m pip install ipykernel -U --user --force-reinstall'"
     ]
    }
   ],
   "source": [
    "csv_path = \"//Users/jackson/Documents/ECON570/Selftest/cpi.csv\"\n",
    "with open(csv_path, \"w\") as f:\n",
    "    f.write(csv_text)\n",
    "\n",
    "# Load and prepare\n",
    "cpi = pd.read_csv(csv_path, parse_dates=[\"DATE\"])\n",
    "cpi = cpi.rename(columns={\"DATE\": \"date\", \"CPIAUCSL\": \"cpi\"}).set_index(\"date\")\n",
    "\n",
    "# Quarterly frequency (quarter-end), taking the mean within each quarter\n",
    "cpi_q = cpi.resample(\"Q\").mean()\n",
    "\n",
    "# Show the first few rows of the quarterly DataFrame to the user\n",
    "display_dataframe_to_user(\"Quarterly CPI (first 12 rows)\", cpi_q.head(12))\n",
    "\n",
    "# Plot\n",
    "plt.figure(figsize=(12, 6))\n",
    "plt.plot(cpi_q.index, cpi_q[\"cpi\"], linewidth=2)\n",
    "plt.title(\"Quarterly Consumer Price Index (CPI)\", fontsize=16)\n",
    "plt.xlabel(\"Date\", fontsize=12)\n",
    "plt.ylabel(\"CPI (Index, 1982-84=100)\", fontsize=12)\n",
    "plt.grid(True, linestyle=\"--\", alpha=0.6)\n",
    "\n",
    "# Vertical line at Aug 1, 2020\n",
    "vdate = pd.to_datetime(\"2020-08-01\")\n",
    "plt.axvline(vdate, linestyle=\"--\", linewidth=2)\n",
    "plt.text(vdate, cpi_q[\"cpi\"].min(), \"Aug 1, 2020\", rotation=90, va=\"bottom\")\n",
    "\n",
    "plt.tight_layout()\n",
    "plot_path = \"/mnt/data/quarterly_cpi.png\"\n",
    "plt.savefig(plot_path, dpi=150)\n",
    "plt.show()\n",
    "\n",
    "plot_path"
   ]
  },
  {
   "cell_type": "markdown",
   "metadata": {},
   "source": [
    "## Question 6: Extracting from DataFrame\n",
    "\n",
    "1. Use the code below to create a DataFrame\n",
    "\n",
    "\n",
    "```python\n",
    "ads = pd.DataFrame({'address':['1180 Observatory Dr.;Madison;WI;53706', '1220 Linden Dr.;Madison;WI;53706']})\n",
    "```\n",
    "\n",
    "2. Extract the street, city, state, and zip out of the address variable and save them in columns named named `Street`, `City`, `State`, and `Zip`. \n",
    "\n",
    "The first row should look like:\n",
    "\n",
    "|address|Street|City|State|Zip|\n",
    "|-------|------|----|-----|---|\n",
    "|1180 Observatory Dr.;Madison;WI;53706|1180 Observatory Dr.|Madison|WI|53706|"
   ]
  },
  {
   "cell_type": "markdown",
   "metadata": {},
   "source": [
    "## Question 7: Reshape\n",
    "\n",
    "The file `wdi.csv` contains a panel of data. It covers the United States and Germany from 1998 to 2022. For each country and year, it measures service exports and GDP.\n",
    "\n",
    "1. Insert a markdown cell below this one and write which part of the data should be columns and which should be rows in order to make the data \"tidy.\"\n",
    "\n",
    "Insert a code cell below your answer from part 1 and \n",
    "\n",
    "2. Load the `wdi.csv` file into a DataFrame. \n",
    "\n",
    "3. Reshape the DataFrame to match your answer from part 1.\n",
    "4. Sort your row index and print out your DataFrame."
   ]
  }
 ],
 "metadata": {
  "celltoolbar": "Edit Metadata",
  "hide_input": false,
  "kernelspec": {
   "display_name": "Python 3",
   "language": "python",
   "name": "python3"
  },
  "language_info": {
   "codemirror_mode": {
    "name": "ipython",
    "version": 3
   },
   "file_extension": ".py",
   "mimetype": "text/x-python",
   "name": "python",
   "nbconvert_exporter": "python",
   "pygments_lexer": "ipython3",
   "version": "3.12.6"
  },
  "varInspector": {
   "cols": {
    "lenName": 16,
    "lenType": 16,
    "lenVar": 40
   },
   "kernels_config": {
    "python": {
     "delete_cmd_postfix": "",
     "delete_cmd_prefix": "del ",
     "library": "var_list.py",
     "varRefreshCmd": "print(var_dic_list())"
    },
    "r": {
     "delete_cmd_postfix": ") ",
     "delete_cmd_prefix": "rm(",
     "library": "var_list.r",
     "varRefreshCmd": "cat(var_dic_list()) "
    }
   },
   "types_to_exclude": [
    "module",
    "function",
    "builtin_function_or_method",
    "instance",
    "_Feature"
   ],
   "window_display": false
  }
 },
 "nbformat": 4,
 "nbformat_minor": 4
}
