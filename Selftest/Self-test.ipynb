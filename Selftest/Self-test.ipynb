{
 "cells": [
  {
   "cell_type": "markdown",
   "metadata": {},
   "source": [
    "# Self-test for Econ 570 Fall 2025\n",
    "\n",
    "files needed = ('imports.xlsx', 'cpi.csv', 'wdi.csv'), which can be found in `570_testdata.zip`\n",
    "\n",
    "This self-test is designed to help you evaluate your Python skills in preparation for Econ 570. You will not be graded based on self-test performance, but: \n",
    "* if you struggle to complete it within the allotted time, \n",
    "* or you struggle to understand the code in the provided solution set, \n",
    "* or you find dramatically different answers than those in the provided solution set ...\n",
    "\n",
    "... then you would likely benefit from developing some basic python skills *before* taking **Econ 570**.\n",
    "\n",
    "Guide for self-test:\n",
    "\n",
    "* Set a timer for 90 minutes.\n",
    "* Import any packages you need to complete this self-test. Some suggestions are provided below.\n",
    "* Complete the self-test in the `.ipynb` file.\n",
    "* Do not modify the data files directly. All data manipulation should happen in your code.\n",
    "* Use help documents, internet resources, etc. as you see fit, but do not work with others, and do not post questions online or solicit answers from any individuals (e.g., Chegg) or AI tools (e.g., ChatGPT)."
   ]
  },
  {
   "cell_type": "markdown",
   "metadata": {
    "vscode": {
     "languageId": "raw"
    }
   },
   "source": [
    "    ## Question 1: Working with DataFrames \n",
    "\n",
    "    The file 'imports.xlsx' contains two variables. `imports china` is the value of US imports from China from 1985&ndash;2022 and `imports all` is the value of total US imports from 1985&ndash;2022.\n",
    "\n",
    "    Use the data to answer the following questions.\n",
    "\n",
    "    1. Compute the share of Chinese imports in total imports. That is, `(imports china / imports all) * 100`.\n",
    "\n",
    "    2. The China-US trade war intensified in 2018. Print out China's share of US imports as follows:\n",
    "\n",
    "    ```\n",
    "    China's share in US trade was 21 percent in 2018 and 16 percent in 2022.\n",
    "    ```\n",
    "\n",
    "    Replace the ??s with your answers. The two numbers should be expressed as integers.\n",
    "    "
   ]
  },
  {
   "cell_type": "code",
   "execution_count": 14,
   "metadata": {},
   "outputs": [
    {
     "name": "stdout",
     "output_type": "stream",
     "text": [
      "2018: 21\n",
      "2022: 16\n"
     ]
    }
   ],
   "source": [
    "import pandas as pd\n",
    "\n",
    "df = pd.read_excel(\"imports.xlsx\")\n",
    "\n",
    "df[\"share_china\"] = (df[\"imports china\"] / df[\"imports all\"]) * 100\n",
    "\n",
    "share_2018 = int(df.loc[df[\"observation_date\"] == 2018, \"share_china\"].values[0])\n",
    "share_2022 = int(df.loc[df[\"observation_date\"] == 2022, \"share_china\"].values[0])\n",
    "\n",
    "print(f\"2018: {share_2018}\")\n",
    "print(f\"2022: {share_2022}\")\n"
   ]
  },
  {
   "cell_type": "markdown",
   "metadata": {},
   "source": [
    "## Question 2: Dictionaries and functions\n",
    "\n",
    "Write a function (call it q2) that takes a `dict` as an argument. The `dict` holds the quantity of lumber and species of the lumber. The function computes and returns the total value of the lumber in the `dict`; that is, the quantity times the price. Oak sells for \\\\$2.50 each and cherry sells for \\\\$6.25 each.  \n",
    "\n",
    "Test your function by running the following code (copy and paste it into a code cell):\n",
    "\n",
    "```python\n",
    "tree1 = {'quantity':10, 'species':'oak'}\n",
    "tree2 = {'quantity':25, 'species':'cherry'}\n",
    "print(q2(tree1))\n",
    "print(q2(tree2))\n",
    "```\n",
    "      "
   ]
  },
  {
   "cell_type": "code",
   "execution_count": 15,
   "metadata": {},
   "outputs": [
    {
     "name": "stdout",
     "output_type": "stream",
     "text": [
      "25.0\n",
      "156.25\n"
     ]
    }
   ],
   "source": [
    "def q2(tree_dict):\n",
    "    prices = {\"oak\": 2.50, \"cherry\": 6.25}\n",
    "    \n",
    "    qty = tree_dict[\"quantity\"]\n",
    "    species = tree_dict[\"species\"].lower()\n",
    "    \n",
    "    return qty * prices[species]\n",
    "\n",
    "tree1 = {'quantity':10, 'species':'oak'}\n",
    "tree2 = {'quantity':25, 'species':'cherry'}\n",
    "\n",
    "print(q2(tree1))\n",
    "print(q2(tree2))"
   ]
  },
  {
   "cell_type": "markdown",
   "metadata": {},
   "source": [
    "## Question 3: More DataFrames\n",
    "\n",
    "Consider the code below when answering the following questions.  \n",
    "\n",
    "```python\n",
    "df = pd.DataFrame({'a':range(0,10), 'b':range(5,15), 'c':range(-2,17, 2)})\n",
    "\n",
    "for i in range(0, 10):\n",
    "    df.loc[i, 'd'] = (df.loc[i, 'a'] + df.loc[i, 'b'] + df.loc[i, 'c'])/3\n",
    "    \n",
    "print(df)\n",
    "```\n",
    "\n",
    "You do not need to write any code to answer these question. Insert a markdown cell and type your answer out.\n",
    "\n",
    "1. What does this code do?\n",
    "2. Why is this code a poor way to accomplish this task? "
   ]
  },
  {
   "cell_type": "markdown",
   "metadata": {},
   "source": [
    "### Answers\n",
    "1. The code makes a new dataframe with three columns (A,b,c), and for each row in index 0-9 it calculates the average in rows abc. The averages are stored in a new column \"d\". after it completes all the averages, it prints the df containing cols a-d.\n",
    "\n",
    "2. Indexing through each row is slow and not efficient, since pandas pkg is meant to calculate entire columns at once. "
   ]
  },
  {
   "cell_type": "markdown",
   "metadata": {},
   "source": [
    "## Question 4: Merge \n",
    "\n",
    "Below are two DataFrames, X and Y. Insert a markdown cell below this one, and use the DataFrames to answer the following questions. You do not need to write any code for this question.\n",
    "\n",
    "1. How many rows and columns does Z have after running the following code?\n",
    "```python\n",
    "Z = pd.merge(left=X, right=Y, on='id', how='inner')\n",
    "\n",
    "```\n",
    "##### ANSWER 1: 4 rows, 3 cols\n",
    "\n",
    "2. How many rows and columns does Z have after running the following code? How many missing values are in `Z['price']`?\n",
    "```python\n",
    "Z = pd.merge(left=X, right=Y, on='id', how='right')\n",
    "```\n",
    "#### ANSWER 2: 5 rows, 3 columns; 0 missing values in price. \n",
    "\n",
    "### DataFrame X\n",
    "\n",
    "| id     | qty |\n",
    "|--------|-----|\n",
    "| pear   | 2   |\n",
    "| orange | 13  |\n",
    "| Banana | 89  |\n",
    "| apple  | 1   |\n",
    "\n",
    "### DataFrame Y\n",
    "\n",
    "| id      | price |\n",
    "|---------|-------|\n",
    "| orange  | 0.5   |\n",
    "| pear    | 1.2   |\n",
    "| Bannana | 0.1   |\n",
    "| apple   | 1.25  |\n",
    "| kiwi    | 1.75  |\n"
   ]
  },
  {
   "cell_type": "markdown",
   "metadata": {},
   "source": [
    "## Question 5: Time series\n",
    "\n",
    "1. Load the file `cpi.csv`. It contains data on the consumer price index.\n",
    "2. Create a new DataFrame containing the CPI at a quarterly frequency.\n",
    "3. Plot the quarterly CPI. Make your figure graphically excellent.\n",
    "4. Add a vertical line to your plot at August 1, 2020."
   ]
  },
  {
   "cell_type": "code",
   "execution_count": 16,
   "metadata": {},
   "outputs": [
    {
     "data": {
      "image/png": "[encoded data removed]",
      "text/plain": [
       "<Figure size 640x480 with 1 Axes>"
      ]
     },
     "metadata": {},
     "output_type": "display_data"
    }
   ],
   "source": [
    "import pandas as pd, matplotlib.pyplot as plt\n",
    "\n",
    "cpi = pd.read_csv(\"cpi.csv\", parse_dates=[\"DATE\"]).set_index(\"DATE\")\n",
    "\n",
    "cpi_qe = cpi[\"CPIAUCSL\"].resample(\"QE\").mean()\n",
    "\n",
    "plt.plot(cpi_qe.index, cpi_qe)\n",
    "plt.title(\"Quarterly CPI\")\n",
    "plt.xlabel(\"Date\"); plt.ylabel(\"Index\")\n",
    "plt.show()\n"
   ]
  },
  {
   "cell_type": "markdown",
   "metadata": {},
   "source": [
    "## Question 6: Extracting from DataFrame\n",
    "\n",
    "1. Use the code below to create a DataFrame\n",
    "\n",
    "\n",
    "```python\n",
    "ads = pd.DataFrame({'address':['1180 Observatory Dr.;Madison;WI;53706', '1220 Linden Dr.;Madison;WI;53706']})\n",
    "```\n",
    "\n",
    "2. Extract the street, city, state, and zip out of the address variable and save them in columns named named `Street`, `City`, `State`, and `Zip`. \n",
    "\n",
    "The first row should look like:\n",
    "\n",
    "|address|Street|City|State|Zip|\n",
    "|-------|------|----|-----|---|\n",
    "|1180 Observatory Dr.;Madison;WI;53706|1180 Observatory Dr.|Madison|WI|53706|"
   ]
  },
  {
   "cell_type": "code",
   "execution_count": 17,
   "metadata": {},
   "outputs": [
    {
     "data": {
      "text/html": [
       "<div>\n",
       "<style scoped>\n",
       "    .dataframe tbody tr th:only-of-type {\n",
       "        vertical-align: middle;\n",
       "    }\n",
       "\n",
       "    .dataframe tbody tr th {\n",
       "        vertical-align: top;\n",
       "    }\n",
       "\n",
       "    .dataframe thead th {\n",
       "        text-align: right;\n",
       "    }\n",
       "</style>\n",
       "<table border=\"1\" class=\"dataframe\">\n",
       "  <thead>\n",
       "    <tr style=\"text-align: right;\">\n",
       "      <th></th>\n",
       "      <th>address</th>\n",
       "      <th>Street</th>\n",
       "      <th>City</th>\n",
       "      <th>State</th>\n",
       "      <th>Zip</th>\n",
       "    </tr>\n",
       "  </thead>\n",
       "  <tbody>\n",
       "    <tr>\n",
       "      <th>0</th>\n",
       "      <td>1180 Observatory Dr.;Madison;WI;53706</td>\n",
       "      <td>1180 Observatory Dr.</td>\n",
       "      <td>Madison</td>\n",
       "      <td>WI</td>\n",
       "      <td>53706</td>\n",
       "    </tr>\n",
       "    <tr>\n",
       "      <th>1</th>\n",
       "      <td>1220 Linden Dr.;Madison;WI;53706</td>\n",
       "      <td>1220 Linden Dr.</td>\n",
       "      <td>Madison</td>\n",
       "      <td>WI</td>\n",
       "      <td>53706</td>\n",
       "    </tr>\n",
       "  </tbody>\n",
       "</table>\n",
       "</div>"
      ],
      "text/plain": [
       "                                 address                Street     City State  \\\n",
       "0  1180 Observatory Dr.;Madison;WI;53706  1180 Observatory Dr.  Madison    WI   \n",
       "1       1220 Linden Dr.;Madison;WI;53706       1220 Linden Dr.  Madison    WI   \n",
       "\n",
       "     Zip  \n",
       "0  53706  \n",
       "1  53706  "
      ]
     },
     "execution_count": 17,
     "metadata": {},
     "output_type": "execute_result"
    }
   ],
   "source": [
    "\n",
    "ads = pd.DataFrame({'address':['1180 Observatory Dr.;Madison;WI;53706', '1220 Linden Dr.;Madison;WI;53706']})\n",
    "\n",
    "ads[['Street','City','State','Zip']] = ads['address'].str.split(';', expand=True)\n",
    "\n",
    "ads"
   ]
  },
  {
   "cell_type": "markdown",
   "metadata": {},
   "source": [
    "## Question 7: Reshape\n",
    "\n",
    "The file `wdi.csv` contains a panel of data. It covers the United States and Germany from 1998 to 2022. For each country and year, it measures service exports and GDP.\n",
    "\n",
    "1. Insert a markdown cell below this one and write which part of the data should be columns and which should be rows in order to make the data \"tidy.\"\n",
    "\n",
    "Insert a code cell below your answer from part 1 and \n",
    "\n",
    "2. Load the `wdi.csv` file into a DataFrame. \n",
    "\n",
    "3. Reshape the DataFrame to match your answer from part 1.\n",
    "4. Sort your row index and print out your DataFrame."
   ]
  },
  {
   "cell_type": "markdown",
   "metadata": {},
   "source": [
    "Answer: in a tidy dataframe, the columns should be the variables (Series name, country name, etc) and the rows should be the observations. In the current state, it is the opposite (long). We can switch it around by using df.melt to \"unpivot\" the df. "
   ]
  },
  {
   "cell_type": "code",
   "execution_count": 18,
   "metadata": {},
   "outputs": [
    {
     "name": "stdout",
     "output_type": "stream",
     "text": [
      "Series Name         service_exports           gdp\n",
      "Country Name  year                               \n",
      "Germany       1998     7.716637e+10  2.238990e+12\n",
      "              1999     7.648444e+10  2.194950e+12\n",
      "              2000     7.785096e+10  1.947980e+12\n",
      "              2001     7.843019e+10  1.945790e+12\n",
      "              2002     9.281096e+10  2.078480e+12\n",
      "              2003     1.127450e+11  2.501640e+12\n",
      "              2004     1.438780e+11  2.814350e+12\n",
      "              2005     1.563170e+11  2.846860e+12\n",
      "              2006     1.782880e+11  2.994700e+12\n",
      "              2007     2.080620e+11  3.425580e+12\n",
      "              2008     2.392090e+11  3.745260e+12\n",
      "              2009     2.216440e+11  3.411260e+12\n",
      "              2010     2.259540e+11  3.399670e+12\n",
      "              2011     2.505440e+11  3.749310e+12\n",
      "              2012     2.508420e+11  3.527140e+12\n",
      "              2013     2.713350e+11  3.733800e+12\n",
      "              2014     2.979800e+11  3.889090e+12\n",
      "              2015     2.758300e+11  3.357590e+12\n",
      "              2016     2.883330e+11  3.469850e+12\n",
      "              2017     3.173810e+11  3.690850e+12\n",
      "              2018     3.511200e+11  3.974440e+12\n",
      "              2019     3.610550e+11  3.888230e+12\n",
      "              2020     3.266040e+11  3.889670e+12\n",
      "              2021     4.013260e+11  4.259930e+12\n",
      "              2022     4.226560e+11  4.072190e+12\n",
      "United States 1998     2.404860e+11  9.062820e+12\n",
      "              1999     2.697780e+11  9.631170e+12\n",
      "              2000     2.888670e+11  1.025090e+13\n",
      "              2001     2.758420e+11  1.058190e+13\n",
      "              2002     2.804080e+11  1.092910e+13\n",
      "              2003     2.887030e+11  1.145640e+13\n",
      "              2004     3.325520e+11  1.221720e+13\n",
      "              2005     3.629070e+11  1.303920e+13\n",
      "              2006     4.038650e+11  1.381560e+13\n",
      "              2007     4.747370e+11  1.447420e+13\n",
      "              2008     5.217060e+11  1.476990e+13\n",
      "              2009     5.019200e+11  1.447810e+13\n",
      "              2010     5.628350e+11  1.504900e+13\n",
      "              2011     6.231990e+11  1.559970e+13\n",
      "              2012     6.626740e+11  1.625400e+13\n",
      "              2013     6.975640e+11  1.684320e+13\n",
      "              2014     7.373560e+11  1.755070e+13\n",
      "              2015     7.493160e+11  1.820600e+13\n",
      "              2016     7.646530e+11  1.869510e+13\n",
      "              2017     8.175490e+11  1.947730e+13\n",
      "              2018     8.434140e+11  2.053310e+13\n",
      "              2019     8.686460e+11  2.138100e+13\n",
      "              2020     7.043200e+11  2.106050e+13\n",
      "              2021     7.781880e+11  2.331510e+13\n",
      "              2022     9.000040e+11  2.546270e+13\n"
     ]
    }
   ],
   "source": [
    "df = pd.read_csv(\"wdi.csv\")\n",
    "\n",
    "year_cols = [c for c in df.columns if c.isdigit()]\n",
    "long = df.melt(\n",
    "    id_vars=[\"Country Name\", \"Series Name\"],\n",
    "    value_vars=year_cols,\n",
    "    var_name=\"year\",\n",
    "    value_name=\"value\"\n",
    ")\n",
    "long[\"year\"] = long[\"year\"].astype(int)\n",
    "\n",
    "tidy = (\n",
    "    long.pivot(index=[\"Country Name\", \"year\"], columns=\"Series Name\", values=\"value\")\n",
    "        .rename(columns={\n",
    "            \"Commercial service exports (current US$)\": \"service_exports\",\n",
    "            \"GDP (current US$)\": \"gdp\"\n",
    "        })\n",
    ")\n",
    "\n",
    "tidy = tidy.sort_index()\n",
    "print(tidy)"
   ]
  }
 ],
 "metadata": {
  "celltoolbar": "Edit Metadata",
  "hide_input": false,
  "kernelspec": {
   "display_name": "econ570",
   "language": "python",
   "name": "python3"
  },
  "language_info": {
   "codemirror_mode": {
    "name": "ipython",
    "version": 3
   },
   "file_extension": ".py",
   "mimetype": "text/x-python",
   "name": "python",
   "nbconvert_exporter": "python",
   "pygments_lexer": "ipython3",
   "version": "3.10.18"
  },
  "varInspector": {
   "cols": {
    "lenName": 16,
    "lenType": 16,
    "lenVar": 40
   },
   "kernels_config": {
    "python": {
     "delete_cmd_postfix": "",
     "delete_cmd_prefix": "del ",
     "library": "var_list.py",
     "varRefreshCmd": "print(var_dic_list())"
    },
    "r": {
     "delete_cmd_postfix": ") ",
     "delete_cmd_prefix": "rm(",
     "library": "var_list.r",
     "varRefreshCmd": "cat(var_dic_list()) "
    }
   },
   "types_to_exclude": [
    "module",
    "function",
    "builtin_function_or_method",
    "instance",
    "_Feature"
   ],
   "window_display": false
  }
 },
 "nbformat": 4,
 "nbformat_minor": 4
}
