{
 "cells": [
  {
   "cell_type": "markdown",
   "id": "3b7bbd03",
   "metadata": {},
   "source": [
    "# 9-4-25 Introduction"
   ]
  },
  {
   "cell_type": "markdown",
   "id": "a66dc77d",
   "metadata": {},
   "source": [
    "What is the question we are trying to answer, what is data? Where does it come from? What questions can it answer?\n",
    "\n",
    "What is the right kind of analysis"
   ]
  },
  {
   "cell_type": "markdown",
   "id": "3adcd1be",
   "metadata": {},
   "source": [
    "Analysed GDP v. Life Expectancy, Trump v. Biden WI votes. \n",
    "\n",
    "* choropleth map: encodes both categorical (candidate) and quantitative (margin of victory) information."
   ]
  },
  {
   "cell_type": "markdown",
   "id": "dcdc27f9",
   "metadata": {},
   "source": [
    "Discussion posts- find visualizations in the wild\n",
    "Exams- Paper pencil, no specific perfect code, psuedo code, etc.\n",
    "\n",
    "Project- Groups of 2-4, data visualizations, 1500 word report. \n",
    "Jupyter Notebook for technical details, intermediate deliverables."
   ]
  },
  {
   "cell_type": "code",
   "execution_count": 1,
   "id": "453c2877",
   "metadata": {},
   "outputs": [
    {
     "ename": "ModuleNotFoundError",
     "evalue": "No module named 'distutils'",
     "output_type": "error",
     "traceback": [
      "\u001b[31m---------------------------------------------------------------------------\u001b[39m",
      "\u001b[31mModuleNotFoundError\u001b[39m                       Traceback (most recent call last)",
      "\u001b[36mCell\u001b[39m\u001b[36m \u001b[39m\u001b[32mIn[1]\u001b[39m\u001b[32m, line 3\u001b[39m\n\u001b[32m      1\u001b[39m \u001b[38;5;28;01mimport\u001b[39;00m\u001b[38;5;250m \u001b[39m\u001b[34;01mpandas\u001b[39;00m\u001b[38;5;250m \u001b[39m\u001b[38;5;28;01mas\u001b[39;00m\u001b[38;5;250m \u001b[39m\u001b[34;01mpd\u001b[39;00m                    \u001b[38;5;66;03m# the workhorse data package\u001b[39;00m\n\u001b[32m----> \u001b[39m\u001b[32m3\u001b[39m \u001b[38;5;28;01mimport\u001b[39;00m\u001b[38;5;250m \u001b[39m\u001b[34;01mpandas_datareader\u001b[39;00m\u001b[34;01m.\u001b[39;00m\u001b[34;01mdata\u001b[39;00m\u001b[38;5;250m \u001b[39m\u001b[38;5;28;01mas\u001b[39;00m\u001b[38;5;250m \u001b[39m\u001b[34;01mweb\u001b[39;00m   \u001b[38;5;66;03m# for FRED data calls\u001b[39;00m\n\u001b[32m      4\u001b[39m \u001b[38;5;28;01mimport\u001b[39;00m\u001b[38;5;250m \u001b[39m\u001b[34;01mmatplotlib\u001b[39;00m\u001b[34;01m.\u001b[39;00m\u001b[34;01mpyplot\u001b[39;00m\u001b[38;5;250m \u001b[39m\u001b[38;5;28;01mas\u001b[39;00m\u001b[38;5;250m \u001b[39m\u001b[34;01mplt\u001b[39;00m        \u001b[38;5;66;03m# for plots\u001b[39;00m\n\u001b[32m      5\u001b[39m \u001b[38;5;28;01mimport\u001b[39;00m\u001b[38;5;250m \u001b[39m\u001b[34;01mdatetime\u001b[39;00m\u001b[38;5;250m \u001b[39m\u001b[38;5;28;01mas\u001b[39;00m\u001b[38;5;250m \u001b[39m\u001b[34;01mdt\u001b[39;00m                  \u001b[38;5;66;03m# for dates\u001b[39;00m\n",
      "\u001b[36mFile \u001b[39m\u001b[32m~/Documents/ECON570/path/to/venv/lib/python3.12/site-packages/pandas_datareader/__init__.py:5\u001b[39m\n\u001b[32m      2\u001b[39m \u001b[38;5;28;01mimport\u001b[39;00m\u001b[38;5;250m \u001b[39m\u001b[34;01msys\u001b[39;00m\n\u001b[32m      4\u001b[39m \u001b[38;5;28;01mfrom\u001b[39;00m\u001b[38;5;250m \u001b[39m\u001b[34;01m.\u001b[39;00m\u001b[34;01m_version\u001b[39;00m\u001b[38;5;250m \u001b[39m\u001b[38;5;28;01mimport\u001b[39;00m get_versions\n\u001b[32m----> \u001b[39m\u001b[32m5\u001b[39m \u001b[38;5;28;01mfrom\u001b[39;00m\u001b[38;5;250m \u001b[39m\u001b[34;01m.\u001b[39;00m\u001b[34;01mdata\u001b[39;00m\u001b[38;5;250m \u001b[39m\u001b[38;5;28;01mimport\u001b[39;00m (\n\u001b[32m      6\u001b[39m     DataReader,\n\u001b[32m      7\u001b[39m     Options,\n\u001b[32m      8\u001b[39m     get_components_yahoo,\n\u001b[32m      9\u001b[39m     get_dailysummary_iex,\n\u001b[32m     10\u001b[39m     get_data_alphavantage,\n\u001b[32m     11\u001b[39m     get_data_enigma,\n\u001b[32m     12\u001b[39m     get_data_famafrench,\n\u001b[32m     13\u001b[39m     get_data_fred,\n\u001b[32m     14\u001b[39m     get_data_moex,\n\u001b[32m     15\u001b[39m     get_data_quandl,\n\u001b[32m     16\u001b[39m     get_data_stooq,\n\u001b[32m     17\u001b[39m     get_data_tiingo,\n\u001b[32m     18\u001b[39m     get_data_yahoo,\n\u001b[32m     19\u001b[39m     get_data_yahoo_actions,\n\u001b[32m     20\u001b[39m     get_iex_book,\n\u001b[32m     21\u001b[39m     get_iex_data_tiingo,\n\u001b[32m     22\u001b[39m     get_iex_symbols,\n\u001b[32m     23\u001b[39m     get_last_iex,\n\u001b[32m     24\u001b[39m     get_markets_iex,\n\u001b[32m     25\u001b[39m     get_nasdaq_symbols,\n\u001b[32m     26\u001b[39m     get_quote_yahoo,\n\u001b[32m     27\u001b[39m     get_recent_iex,\n\u001b[32m     28\u001b[39m     get_records_iex,\n\u001b[32m     29\u001b[39m     get_summary_iex,\n\u001b[32m     30\u001b[39m     get_tops_iex,\n\u001b[32m     31\u001b[39m )\n\u001b[32m     33\u001b[39m PKG = os.path.dirname(\u001b[34m__file__\u001b[39m)\n\u001b[32m     35\u001b[39m __version__ = get_versions()[\u001b[33m\"\u001b[39m\u001b[33mversion\u001b[39m\u001b[33m\"\u001b[39m]\n",
      "\u001b[36mFile \u001b[39m\u001b[32m~/Documents/ECON570/path/to/venv/lib/python3.12/site-packages/pandas_datareader/data.py:11\u001b[39m\n\u001b[32m      7\u001b[39m \u001b[38;5;28;01mimport\u001b[39;00m\u001b[38;5;250m \u001b[39m\u001b[34;01mwarnings\u001b[39;00m\n\u001b[32m      9\u001b[39m \u001b[38;5;28;01mfrom\u001b[39;00m\u001b[38;5;250m \u001b[39m\u001b[34;01mpandas\u001b[39;00m\u001b[34;01m.\u001b[39;00m\u001b[34;01mutil\u001b[39;00m\u001b[34;01m.\u001b[39;00m\u001b[34;01m_decorators\u001b[39;00m\u001b[38;5;250m \u001b[39m\u001b[38;5;28;01mimport\u001b[39;00m deprecate_kwarg\n\u001b[32m---> \u001b[39m\u001b[32m11\u001b[39m \u001b[38;5;28;01mfrom\u001b[39;00m\u001b[38;5;250m \u001b[39m\u001b[34;01mpandas_datareader\u001b[39;00m\u001b[34;01m.\u001b[39;00m\u001b[34;01mav\u001b[39;00m\u001b[34;01m.\u001b[39;00m\u001b[34;01mforex\u001b[39;00m\u001b[38;5;250m \u001b[39m\u001b[38;5;28;01mimport\u001b[39;00m AVForexReader\n\u001b[32m     12\u001b[39m \u001b[38;5;28;01mfrom\u001b[39;00m\u001b[38;5;250m \u001b[39m\u001b[34;01mpandas_datareader\u001b[39;00m\u001b[34;01m.\u001b[39;00m\u001b[34;01mav\u001b[39;00m\u001b[34;01m.\u001b[39;00m\u001b[34;01mquotes\u001b[39;00m\u001b[38;5;250m \u001b[39m\u001b[38;5;28;01mimport\u001b[39;00m AVQuotesReader\n\u001b[32m     13\u001b[39m \u001b[38;5;28;01mfrom\u001b[39;00m\u001b[38;5;250m \u001b[39m\u001b[34;01mpandas_datareader\u001b[39;00m\u001b[34;01m.\u001b[39;00m\u001b[34;01mav\u001b[39;00m\u001b[34;01m.\u001b[39;00m\u001b[34;01msector\u001b[39;00m\u001b[38;5;250m \u001b[39m\u001b[38;5;28;01mimport\u001b[39;00m AVSectorPerformanceReader\n",
      "\u001b[36mFile \u001b[39m\u001b[32m~/Documents/ECON570/path/to/venv/lib/python3.12/site-packages/pandas_datareader/av/__init__.py:5\u001b[39m\n\u001b[32m      1\u001b[39m \u001b[38;5;28;01mimport\u001b[39;00m\u001b[38;5;250m \u001b[39m\u001b[34;01mos\u001b[39;00m\n\u001b[32m      3\u001b[39m \u001b[38;5;28;01mimport\u001b[39;00m\u001b[38;5;250m \u001b[39m\u001b[34;01mpandas\u001b[39;00m\u001b[38;5;250m \u001b[39m\u001b[38;5;28;01mas\u001b[39;00m\u001b[38;5;250m \u001b[39m\u001b[34;01mpd\u001b[39;00m\n\u001b[32m----> \u001b[39m\u001b[32m5\u001b[39m \u001b[38;5;28;01mfrom\u001b[39;00m\u001b[38;5;250m \u001b[39m\u001b[34;01mpandas_datareader\u001b[39;00m\u001b[34;01m.\u001b[39;00m\u001b[34;01m_utils\u001b[39;00m\u001b[38;5;250m \u001b[39m\u001b[38;5;28;01mimport\u001b[39;00m RemoteDataError\n\u001b[32m      6\u001b[39m \u001b[38;5;28;01mfrom\u001b[39;00m\u001b[38;5;250m \u001b[39m\u001b[34;01mpandas_datareader\u001b[39;00m\u001b[34;01m.\u001b[39;00m\u001b[34;01mbase\u001b[39;00m\u001b[38;5;250m \u001b[39m\u001b[38;5;28;01mimport\u001b[39;00m _BaseReader\n\u001b[32m      8\u001b[39m AV_BASE_URL = \u001b[33m\"\u001b[39m\u001b[33mhttps://www.alphavantage.co/query\u001b[39m\u001b[33m\"\u001b[39m\n",
      "\u001b[36mFile \u001b[39m\u001b[32m~/Documents/ECON570/path/to/venv/lib/python3.12/site-packages/pandas_datareader/_utils.py:6\u001b[39m\n\u001b[32m      3\u001b[39m \u001b[38;5;28;01mfrom\u001b[39;00m\u001b[38;5;250m \u001b[39m\u001b[34;01mpandas\u001b[39;00m\u001b[38;5;250m \u001b[39m\u001b[38;5;28;01mimport\u001b[39;00m to_datetime\n\u001b[32m      4\u001b[39m \u001b[38;5;28;01mimport\u001b[39;00m\u001b[38;5;250m \u001b[39m\u001b[34;01mrequests\u001b[39;00m\n\u001b[32m----> \u001b[39m\u001b[32m6\u001b[39m \u001b[38;5;28;01mfrom\u001b[39;00m\u001b[38;5;250m \u001b[39m\u001b[34;01mpandas_datareader\u001b[39;00m\u001b[34;01m.\u001b[39;00m\u001b[34;01mcompat\u001b[39;00m\u001b[38;5;250m \u001b[39m\u001b[38;5;28;01mimport\u001b[39;00m is_number\n\u001b[32m      9\u001b[39m \u001b[38;5;28;01mclass\u001b[39;00m\u001b[38;5;250m \u001b[39m\u001b[34;01mSymbolWarning\u001b[39;00m(\u001b[38;5;167;01mUserWarning\u001b[39;00m):\n\u001b[32m     10\u001b[39m     \u001b[38;5;28;01mpass\u001b[39;00m\n",
      "\u001b[36mFile \u001b[39m\u001b[32m~/Documents/ECON570/path/to/venv/lib/python3.12/site-packages/pandas_datareader/compat/__init__.py:1\u001b[39m\n\u001b[32m----> \u001b[39m\u001b[32m1\u001b[39m \u001b[38;5;28;01mfrom\u001b[39;00m\u001b[38;5;250m \u001b[39m\u001b[34;01mdistutils\u001b[39;00m\u001b[34;01m.\u001b[39;00m\u001b[34;01mversion\u001b[39;00m\u001b[38;5;250m \u001b[39m\u001b[38;5;28;01mimport\u001b[39;00m LooseVersion\n\u001b[32m      2\u001b[39m \u001b[38;5;28;01mfrom\u001b[39;00m\u001b[38;5;250m \u001b[39m\u001b[34;01mfunctools\u001b[39;00m\u001b[38;5;250m \u001b[39m\u001b[38;5;28;01mimport\u001b[39;00m reduce\n\u001b[32m      3\u001b[39m \u001b[38;5;28;01mfrom\u001b[39;00m\u001b[38;5;250m \u001b[39m\u001b[34;01mio\u001b[39;00m\u001b[38;5;250m \u001b[39m\u001b[38;5;28;01mimport\u001b[39;00m StringIO\n",
      "\u001b[31mModuleNotFoundError\u001b[39m: No module named 'distutils'"
     ]
    }
   ],
   "source": [
    "import pandas as pd                    # the workhorse data package\n",
    "\n",
    "import pandas_datareader.data as web   # for FRED data calls\n",
    "import matplotlib.pyplot as plt        # for plots\n",
    "import datetime as dt                  # for dates\n",
    "\n",
    "# IPython command to include plots in the notebook\n",
    "%matplotlib inline\n",
    "# Create datetime object to hold the begin date\n",
    "start = dt.datetime(1990, 1, 1)\n",
    "\n",
    "# Get monthly Yuan-per-dollar exchange rate. 'fred' tells the data reader to use the FRED repository.\n",
    "# 'EXCHUS' is the name of the data series in FRED. You can find the series codes (names) on the FRED website.\n",
    "exchus = web.DataReader('EXCHUS', 'fred', start)\n",
    "\n",
    "# Print out the first 3 observations.\n",
    "print(exchus.head(3))\n",
    "\n",
    "# Print out the last 3 observations.\n",
    "print(exchus.tail(3))"
   ]
  },
  {
   "cell_type": "code",
   "execution_count": null,
   "id": "76bbb3e6",
   "metadata": {},
   "outputs": [],
   "source": [
    "# Create datetime object to hold the begin date\n",
    "start = dt.datetime(1990, 1, 1)\n",
    "\n",
    "# Get monthly Yuan-per-dollar exchange rate. 'fred' tells the data reader to use the FRED repository.\n",
    "# 'EXCHUS' is the name of the data series in FRED. You can find the series codes (names) on the FRED website.\n",
    "exchus = web.DataReader('EXCHUS', 'fred', start)\n",
    "\n",
    "# Print out the first 3 observations.\n",
    "print(exchus.head(3))\n",
    "\n",
    "# Print out the last 3 observations.\n",
    "print(exchus.tail(3))"
   ]
  },
  {
   "cell_type": "code",
   "execution_count": null,
   "id": "9ab09a18",
   "metadata": {},
   "outputs": [],
   "source": [
    "# The basic plotting command. The 'b--' means 'make the line blue and dashed.'\n",
    "plt.plot(exchus.index, exchus['EXCHUS'], 'b--')\n",
    "plt.xlabel('date')              # Label the axes\n",
    "plt.ylabel('yuan per dollar')\n",
    "plt.show()"
   ]
  },
  {
   "cell_type": "code",
   "execution_count": null,
   "id": "131a2188",
   "metadata": {},
   "outputs": [],
   "source": [
    "# Make list with the names of the data we would like to plot.\n",
    "ctry_list = ['EXCHUS', 'EXJPUS', 'EXCAUS', 'EXUSEU']   # China, Japan, Canada, Euro\n",
    "\n",
    "# Make a list of the units for the y axis.\n",
    "units = ['yuan per USD', 'yen per USD', 'CAD per USD', 'USD per Euro']\n",
    "\n",
    "# Read the data. Pass a list of codes rather than a single string.\n",
    "ex_many = web.DataReader(ctry_list, 'fred', start)\n",
    "print(ex_many)\n"
   ]
  },
  {
   "cell_type": "code",
   "execution_count": null,
   "id": "fdd1b25c",
   "metadata": {},
   "outputs": [],
   "source": [
    "fig, ax = plt.subplots(2, 2, figsize=(15,6))\n",
    "\n",
    "for ctry, unit, axi in zip(ctry_list, units, fig.axes):\n",
    "    axi.plot(ex_many.index, ex_many[ctry], 'r-')\n",
    "    axi.set_ylabel(unit)\n"
   ]
  },
  {
   "cell_type": "code",
   "execution_count": null,
   "id": "83cdadae",
   "metadata": {},
   "outputs": [],
   "source": []
  }
 ],
 "metadata": {
  "kernelspec": {
   "display_name": "venv",
   "language": "python",
   "name": "python3"
  },
  "language_info": {
   "codemirror_mode": {
    "name": "ipython",
    "version": 3
   },
   "file_extension": ".py",
   "mimetype": "text/x-python",
   "name": "python",
   "nbconvert_exporter": "python",
   "pygments_lexer": "ipython3",
   "version": "3.12.6"
  }
 },
 "nbformat": 4,
 "nbformat_minor": 5
}
