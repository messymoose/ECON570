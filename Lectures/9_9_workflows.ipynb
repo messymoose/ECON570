{
 "cells": [
  {
   "cell_type": "markdown",
   "id": "71dcb397",
   "metadata": {},
   "source": [
    "### Project Info\n",
    "- Two Deliverables\n",
    "    - 1500 word report about analysis of your info. Not Technical\n",
    "    - Well Documented Jupyter Notebook with Technical Details\n",
    "- Intermediate Deilverable\n",
    "    - Project proposal: Clear Statement of question, brief discussion of the data with one figure or stat that shoes your team has loaded the data and is ready for analysis.\n",
    "    - No sandboxed datasets, like from Kaggle"
   ]
  },
  {
   "cell_type": "markdown",
   "id": "e591c338",
   "metadata": {},
   "source": [
    "# Workflow: A simple example\n",
    "\n",
    "files needed = ('atusresp_0323.dat', 'atussum_0323.dat')\n",
    "**Note:** *These files are on the larger side, so you can just follow along if you don't want to download.*\n",
    "\n",
    "In this notebook I am going to take you through a real-world example. Let's do our best to replicate some of the results from [this FRB article](https://www.philadelphiafed.org/-/media/frbp/assets/economy/articles/economic-insights/2023/q4/eiq423-time-use-before-during-and-after-the-pandemic.pdf) on time use before, during, and after the pandemic. \n",
    "\n",
    "The goal is to illustrate, from beginning to end, how one takes an idea for an economic analysis to graphical presentation. For brevity, given the limited class time we have, we will take a small bite out of this exercise and focus on producing a single time-series figure."
   ]
  },
  {
   "cell_type": "markdown",
   "id": "be600046",
   "metadata": {},
   "source": [
    "## 1. Pose a preliminary question(s)\n",
    "\n",
    "How did time use evolve before, during, and after the pandemic? \n",
    "\n",
    "Some initial thoughts:\n",
    "\n",
    "- Did time spent alone spike at the onset of the pandemic?\n",
    "- What about time spent on childcare?\n",
    "- How does the evolution of time use differ by subgroup? We might consider differences across age, gender, race, educational attainment, occupation, etc.\n",
    "\n",
    "\n",
    "Let's start with a basic trend."
   ]
  },
  {
   "cell_type": "markdown",
   "id": "73b7ef68",
   "metadata": {},
   "source": [
    "## 2. Find the appropriate data\n",
    "\n",
    "This is often difficult. Often times, we might not find data that can answer our preliminary question(s) accurately or completely. In these cases, we have to spend time going back and forth between 1. and 2. until we are *confident* that we can access the kind of data that can effectively answer our question.\n",
    "\n",
    "In this case, detailed individual time use data are publicly available through the American Time Use Survey (ATUS). Data from 2003-2023 can be downloaded on the [ATUS website](https://www.bls.gov/tus/data.htm).\n",
    "\n",
    "Let's first import the packages that we need to run the analysis, and then we'll read in the data."
   ]
  },
  {
   "cell_type": "code",
   "execution_count": 1,
   "id": "f8a74836",
   "metadata": {},
   "outputs": [],
   "source": [
    "import pandas as pd\n",
    "import matplotlib.pyplot as plt\n",
    "import numpy as np\n",
    "import datetime as dt \n",
    "import seaborn as sns\n",
    "import matplotlib.ticker as mtick"
   ]
  },
  {
   "cell_type": "code",
   "execution_count": 2,
   "id": "74d5c36d",
   "metadata": {},
   "outputs": [],
   "source": [
    "variables = {'TUCASEID':'id', 'TUYEAR':'year','TRTALONE':'alone',\n",
    "             'TRTCCC':'cust', 'TRTCHILD':'childcare', 'TRTFAMILY':'family',\n",
    "             'TRTFRIEND':'friends', 'TRTNOCHILD':'nonownchild'}"
   ]
  },
  {
   "cell_type": "code",
   "execution_count": 3,
   "id": "baca4b92",
   "metadata": {},
   "outputs": [
    {
     "ename": "FileNotFoundError",
     "evalue": "[Errno 2] No such file or directory: 'atusresp_0323.dat'",
     "output_type": "error",
     "traceback": [
      "\u001b[0;31m---------------------------------------------------------------------------\u001b[0m",
      "\u001b[0;31mFileNotFoundError\u001b[0m                         Traceback (most recent call last)",
      "Cell \u001b[0;32mIn[3], line 1\u001b[0m\n\u001b[0;32m----> 1\u001b[0m atus_resp \u001b[38;5;241m=\u001b[39m \u001b[43mpd\u001b[49m\u001b[38;5;241;43m.\u001b[39;49m\u001b[43mread_csv\u001b[49m\u001b[43m(\u001b[49m\u001b[38;5;124;43m'\u001b[39;49m\u001b[38;5;124;43matusresp_0323.dat\u001b[39;49m\u001b[38;5;124;43m'\u001b[39;49m\u001b[43m,\u001b[49m\u001b[43m \u001b[49m\u001b[43musecols\u001b[49m\u001b[38;5;241;43m=\u001b[39;49m\u001b[43mvariables\u001b[49m\u001b[38;5;241;43m.\u001b[39;49m\u001b[43mkeys\u001b[49m\u001b[43m(\u001b[49m\u001b[43m)\u001b[49m\u001b[43m)\u001b[49m\n\u001b[1;32m      2\u001b[0m atus_resp\u001b[38;5;241m.\u001b[39mhead()\n",
      "File \u001b[0;32m/opt/anaconda3/envs/econ570/lib/python3.10/site-packages/pandas/io/parsers/readers.py:1026\u001b[0m, in \u001b[0;36mread_csv\u001b[0;34m(filepath_or_buffer, sep, delimiter, header, names, index_col, usecols, dtype, engine, converters, true_values, false_values, skipinitialspace, skiprows, skipfooter, nrows, na_values, keep_default_na, na_filter, verbose, skip_blank_lines, parse_dates, infer_datetime_format, keep_date_col, date_parser, date_format, dayfirst, cache_dates, iterator, chunksize, compression, thousands, decimal, lineterminator, quotechar, quoting, doublequote, escapechar, comment, encoding, encoding_errors, dialect, on_bad_lines, delim_whitespace, low_memory, memory_map, float_precision, storage_options, dtype_backend)\u001b[0m\n\u001b[1;32m   1013\u001b[0m kwds_defaults \u001b[38;5;241m=\u001b[39m _refine_defaults_read(\n\u001b[1;32m   1014\u001b[0m     dialect,\n\u001b[1;32m   1015\u001b[0m     delimiter,\n\u001b[0;32m   (...)\u001b[0m\n\u001b[1;32m   1022\u001b[0m     dtype_backend\u001b[38;5;241m=\u001b[39mdtype_backend,\n\u001b[1;32m   1023\u001b[0m )\n\u001b[1;32m   1024\u001b[0m kwds\u001b[38;5;241m.\u001b[39mupdate(kwds_defaults)\n\u001b[0;32m-> 1026\u001b[0m \u001b[38;5;28;01mreturn\u001b[39;00m \u001b[43m_read\u001b[49m\u001b[43m(\u001b[49m\u001b[43mfilepath_or_buffer\u001b[49m\u001b[43m,\u001b[49m\u001b[43m \u001b[49m\u001b[43mkwds\u001b[49m\u001b[43m)\u001b[49m\n",
      "File \u001b[0;32m/opt/anaconda3/envs/econ570/lib/python3.10/site-packages/pandas/io/parsers/readers.py:620\u001b[0m, in \u001b[0;36m_read\u001b[0;34m(filepath_or_buffer, kwds)\u001b[0m\n\u001b[1;32m    617\u001b[0m _validate_names(kwds\u001b[38;5;241m.\u001b[39mget(\u001b[38;5;124m\"\u001b[39m\u001b[38;5;124mnames\u001b[39m\u001b[38;5;124m\"\u001b[39m, \u001b[38;5;28;01mNone\u001b[39;00m))\n\u001b[1;32m    619\u001b[0m \u001b[38;5;66;03m# Create the parser.\u001b[39;00m\n\u001b[0;32m--> 620\u001b[0m parser \u001b[38;5;241m=\u001b[39m \u001b[43mTextFileReader\u001b[49m\u001b[43m(\u001b[49m\u001b[43mfilepath_or_buffer\u001b[49m\u001b[43m,\u001b[49m\u001b[43m \u001b[49m\u001b[38;5;241;43m*\u001b[39;49m\u001b[38;5;241;43m*\u001b[39;49m\u001b[43mkwds\u001b[49m\u001b[43m)\u001b[49m\n\u001b[1;32m    622\u001b[0m \u001b[38;5;28;01mif\u001b[39;00m chunksize \u001b[38;5;129;01mor\u001b[39;00m iterator:\n\u001b[1;32m    623\u001b[0m     \u001b[38;5;28;01mreturn\u001b[39;00m parser\n",
      "File \u001b[0;32m/opt/anaconda3/envs/econ570/lib/python3.10/site-packages/pandas/io/parsers/readers.py:1620\u001b[0m, in \u001b[0;36mTextFileReader.__init__\u001b[0;34m(self, f, engine, **kwds)\u001b[0m\n\u001b[1;32m   1617\u001b[0m     \u001b[38;5;28mself\u001b[39m\u001b[38;5;241m.\u001b[39moptions[\u001b[38;5;124m\"\u001b[39m\u001b[38;5;124mhas_index_names\u001b[39m\u001b[38;5;124m\"\u001b[39m] \u001b[38;5;241m=\u001b[39m kwds[\u001b[38;5;124m\"\u001b[39m\u001b[38;5;124mhas_index_names\u001b[39m\u001b[38;5;124m\"\u001b[39m]\n\u001b[1;32m   1619\u001b[0m \u001b[38;5;28mself\u001b[39m\u001b[38;5;241m.\u001b[39mhandles: IOHandles \u001b[38;5;241m|\u001b[39m \u001b[38;5;28;01mNone\u001b[39;00m \u001b[38;5;241m=\u001b[39m \u001b[38;5;28;01mNone\u001b[39;00m\n\u001b[0;32m-> 1620\u001b[0m \u001b[38;5;28mself\u001b[39m\u001b[38;5;241m.\u001b[39m_engine \u001b[38;5;241m=\u001b[39m \u001b[38;5;28;43mself\u001b[39;49m\u001b[38;5;241;43m.\u001b[39;49m\u001b[43m_make_engine\u001b[49m\u001b[43m(\u001b[49m\u001b[43mf\u001b[49m\u001b[43m,\u001b[49m\u001b[43m \u001b[49m\u001b[38;5;28;43mself\u001b[39;49m\u001b[38;5;241;43m.\u001b[39;49m\u001b[43mengine\u001b[49m\u001b[43m)\u001b[49m\n",
      "File \u001b[0;32m/opt/anaconda3/envs/econ570/lib/python3.10/site-packages/pandas/io/parsers/readers.py:1880\u001b[0m, in \u001b[0;36mTextFileReader._make_engine\u001b[0;34m(self, f, engine)\u001b[0m\n\u001b[1;32m   1878\u001b[0m     \u001b[38;5;28;01mif\u001b[39;00m \u001b[38;5;124m\"\u001b[39m\u001b[38;5;124mb\u001b[39m\u001b[38;5;124m\"\u001b[39m \u001b[38;5;129;01mnot\u001b[39;00m \u001b[38;5;129;01min\u001b[39;00m mode:\n\u001b[1;32m   1879\u001b[0m         mode \u001b[38;5;241m+\u001b[39m\u001b[38;5;241m=\u001b[39m \u001b[38;5;124m\"\u001b[39m\u001b[38;5;124mb\u001b[39m\u001b[38;5;124m\"\u001b[39m\n\u001b[0;32m-> 1880\u001b[0m \u001b[38;5;28mself\u001b[39m\u001b[38;5;241m.\u001b[39mhandles \u001b[38;5;241m=\u001b[39m \u001b[43mget_handle\u001b[49m\u001b[43m(\u001b[49m\n\u001b[1;32m   1881\u001b[0m \u001b[43m    \u001b[49m\u001b[43mf\u001b[49m\u001b[43m,\u001b[49m\n\u001b[1;32m   1882\u001b[0m \u001b[43m    \u001b[49m\u001b[43mmode\u001b[49m\u001b[43m,\u001b[49m\n\u001b[1;32m   1883\u001b[0m \u001b[43m    \u001b[49m\u001b[43mencoding\u001b[49m\u001b[38;5;241;43m=\u001b[39;49m\u001b[38;5;28;43mself\u001b[39;49m\u001b[38;5;241;43m.\u001b[39;49m\u001b[43moptions\u001b[49m\u001b[38;5;241;43m.\u001b[39;49m\u001b[43mget\u001b[49m\u001b[43m(\u001b[49m\u001b[38;5;124;43m\"\u001b[39;49m\u001b[38;5;124;43mencoding\u001b[39;49m\u001b[38;5;124;43m\"\u001b[39;49m\u001b[43m,\u001b[49m\u001b[43m \u001b[49m\u001b[38;5;28;43;01mNone\u001b[39;49;00m\u001b[43m)\u001b[49m\u001b[43m,\u001b[49m\n\u001b[1;32m   1884\u001b[0m \u001b[43m    \u001b[49m\u001b[43mcompression\u001b[49m\u001b[38;5;241;43m=\u001b[39;49m\u001b[38;5;28;43mself\u001b[39;49m\u001b[38;5;241;43m.\u001b[39;49m\u001b[43moptions\u001b[49m\u001b[38;5;241;43m.\u001b[39;49m\u001b[43mget\u001b[49m\u001b[43m(\u001b[49m\u001b[38;5;124;43m\"\u001b[39;49m\u001b[38;5;124;43mcompression\u001b[39;49m\u001b[38;5;124;43m\"\u001b[39;49m\u001b[43m,\u001b[49m\u001b[43m \u001b[49m\u001b[38;5;28;43;01mNone\u001b[39;49;00m\u001b[43m)\u001b[49m\u001b[43m,\u001b[49m\n\u001b[1;32m   1885\u001b[0m \u001b[43m    \u001b[49m\u001b[43mmemory_map\u001b[49m\u001b[38;5;241;43m=\u001b[39;49m\u001b[38;5;28;43mself\u001b[39;49m\u001b[38;5;241;43m.\u001b[39;49m\u001b[43moptions\u001b[49m\u001b[38;5;241;43m.\u001b[39;49m\u001b[43mget\u001b[49m\u001b[43m(\u001b[49m\u001b[38;5;124;43m\"\u001b[39;49m\u001b[38;5;124;43mmemory_map\u001b[39;49m\u001b[38;5;124;43m\"\u001b[39;49m\u001b[43m,\u001b[49m\u001b[43m \u001b[49m\u001b[38;5;28;43;01mFalse\u001b[39;49;00m\u001b[43m)\u001b[49m\u001b[43m,\u001b[49m\n\u001b[1;32m   1886\u001b[0m \u001b[43m    \u001b[49m\u001b[43mis_text\u001b[49m\u001b[38;5;241;43m=\u001b[39;49m\u001b[43mis_text\u001b[49m\u001b[43m,\u001b[49m\n\u001b[1;32m   1887\u001b[0m \u001b[43m    \u001b[49m\u001b[43merrors\u001b[49m\u001b[38;5;241;43m=\u001b[39;49m\u001b[38;5;28;43mself\u001b[39;49m\u001b[38;5;241;43m.\u001b[39;49m\u001b[43moptions\u001b[49m\u001b[38;5;241;43m.\u001b[39;49m\u001b[43mget\u001b[49m\u001b[43m(\u001b[49m\u001b[38;5;124;43m\"\u001b[39;49m\u001b[38;5;124;43mencoding_errors\u001b[39;49m\u001b[38;5;124;43m\"\u001b[39;49m\u001b[43m,\u001b[49m\u001b[43m \u001b[49m\u001b[38;5;124;43m\"\u001b[39;49m\u001b[38;5;124;43mstrict\u001b[39;49m\u001b[38;5;124;43m\"\u001b[39;49m\u001b[43m)\u001b[49m\u001b[43m,\u001b[49m\n\u001b[1;32m   1888\u001b[0m \u001b[43m    \u001b[49m\u001b[43mstorage_options\u001b[49m\u001b[38;5;241;43m=\u001b[39;49m\u001b[38;5;28;43mself\u001b[39;49m\u001b[38;5;241;43m.\u001b[39;49m\u001b[43moptions\u001b[49m\u001b[38;5;241;43m.\u001b[39;49m\u001b[43mget\u001b[49m\u001b[43m(\u001b[49m\u001b[38;5;124;43m\"\u001b[39;49m\u001b[38;5;124;43mstorage_options\u001b[39;49m\u001b[38;5;124;43m\"\u001b[39;49m\u001b[43m,\u001b[49m\u001b[43m \u001b[49m\u001b[38;5;28;43;01mNone\u001b[39;49;00m\u001b[43m)\u001b[49m\u001b[43m,\u001b[49m\n\u001b[1;32m   1889\u001b[0m \u001b[43m\u001b[49m\u001b[43m)\u001b[49m\n\u001b[1;32m   1890\u001b[0m \u001b[38;5;28;01massert\u001b[39;00m \u001b[38;5;28mself\u001b[39m\u001b[38;5;241m.\u001b[39mhandles \u001b[38;5;129;01mis\u001b[39;00m \u001b[38;5;129;01mnot\u001b[39;00m \u001b[38;5;28;01mNone\u001b[39;00m\n\u001b[1;32m   1891\u001b[0m f \u001b[38;5;241m=\u001b[39m \u001b[38;5;28mself\u001b[39m\u001b[38;5;241m.\u001b[39mhandles\u001b[38;5;241m.\u001b[39mhandle\n",
      "File \u001b[0;32m/opt/anaconda3/envs/econ570/lib/python3.10/site-packages/pandas/io/common.py:873\u001b[0m, in \u001b[0;36mget_handle\u001b[0;34m(path_or_buf, mode, encoding, compression, memory_map, is_text, errors, storage_options)\u001b[0m\n\u001b[1;32m    868\u001b[0m \u001b[38;5;28;01melif\u001b[39;00m \u001b[38;5;28misinstance\u001b[39m(handle, \u001b[38;5;28mstr\u001b[39m):\n\u001b[1;32m    869\u001b[0m     \u001b[38;5;66;03m# Check whether the filename is to be opened in binary mode.\u001b[39;00m\n\u001b[1;32m    870\u001b[0m     \u001b[38;5;66;03m# Binary mode does not support 'encoding' and 'newline'.\u001b[39;00m\n\u001b[1;32m    871\u001b[0m     \u001b[38;5;28;01mif\u001b[39;00m ioargs\u001b[38;5;241m.\u001b[39mencoding \u001b[38;5;129;01mand\u001b[39;00m \u001b[38;5;124m\"\u001b[39m\u001b[38;5;124mb\u001b[39m\u001b[38;5;124m\"\u001b[39m \u001b[38;5;129;01mnot\u001b[39;00m \u001b[38;5;129;01min\u001b[39;00m ioargs\u001b[38;5;241m.\u001b[39mmode:\n\u001b[1;32m    872\u001b[0m         \u001b[38;5;66;03m# Encoding\u001b[39;00m\n\u001b[0;32m--> 873\u001b[0m         handle \u001b[38;5;241m=\u001b[39m \u001b[38;5;28;43mopen\u001b[39;49m\u001b[43m(\u001b[49m\n\u001b[1;32m    874\u001b[0m \u001b[43m            \u001b[49m\u001b[43mhandle\u001b[49m\u001b[43m,\u001b[49m\n\u001b[1;32m    875\u001b[0m \u001b[43m            \u001b[49m\u001b[43mioargs\u001b[49m\u001b[38;5;241;43m.\u001b[39;49m\u001b[43mmode\u001b[49m\u001b[43m,\u001b[49m\n\u001b[1;32m    876\u001b[0m \u001b[43m            \u001b[49m\u001b[43mencoding\u001b[49m\u001b[38;5;241;43m=\u001b[39;49m\u001b[43mioargs\u001b[49m\u001b[38;5;241;43m.\u001b[39;49m\u001b[43mencoding\u001b[49m\u001b[43m,\u001b[49m\n\u001b[1;32m    877\u001b[0m \u001b[43m            \u001b[49m\u001b[43merrors\u001b[49m\u001b[38;5;241;43m=\u001b[39;49m\u001b[43merrors\u001b[49m\u001b[43m,\u001b[49m\n\u001b[1;32m    878\u001b[0m \u001b[43m            \u001b[49m\u001b[43mnewline\u001b[49m\u001b[38;5;241;43m=\u001b[39;49m\u001b[38;5;124;43m\"\u001b[39;49m\u001b[38;5;124;43m\"\u001b[39;49m\u001b[43m,\u001b[49m\n\u001b[1;32m    879\u001b[0m \u001b[43m        \u001b[49m\u001b[43m)\u001b[49m\n\u001b[1;32m    880\u001b[0m     \u001b[38;5;28;01melse\u001b[39;00m:\n\u001b[1;32m    881\u001b[0m         \u001b[38;5;66;03m# Binary mode\u001b[39;00m\n\u001b[1;32m    882\u001b[0m         handle \u001b[38;5;241m=\u001b[39m \u001b[38;5;28mopen\u001b[39m(handle, ioargs\u001b[38;5;241m.\u001b[39mmode)\n",
      "\u001b[0;31mFileNotFoundError\u001b[0m: [Errno 2] No such file or directory: 'atusresp_0323.dat'"
     ]
    }
   ],
   "source": [
    "atus_resp = pd.read_csv('atusresp_0323.dat', usecols=variables.keys())\n",
    "atus_resp.head()"
   ]
  },
  {
   "cell_type": "markdown",
   "id": "ed3c0df4",
   "metadata": {},
   "source": [
    "## 3. Get the data into usable form \n",
    "\n",
    "The data contain many, many variables with mysterious names. The `variables` dictionary has two purposes. It selects the variables that I want to read in for my analysis, and it translates these variables to usable names. I constructed `variables` by reading the ATUS documentation.\n",
    "\n",
    "> TRTALONE Total nonwork-related time respondent spent alone (in minutes)\n",
    "> \n",
    "> TRTCCC Total nonwork-related time respondent spent with customers, clients, and co-workers (in minutes) \n",
    "> \n",
    "> TRTCHILD Total nonwork-related time respondent spent with household or nonhousehold children < 18 (in minutes)\n",
    "> \n",
    "> TRTFAMILY Total nonwork-related time respondent spent with family members (in minutes)\n",
    "> \n",
    "> TRTFRIEND Total nonwork-related time respondent spent with friends (in minutes)\n",
    "> \n",
    "> TRTHHFAMILY Total nonwork-related time respondent spent with household family members (in minutes)\n",
    "> \n",
    "> TRTNOCHILD Total nonwork-related time respondent spent with nonown children < 18 (in minutes)"
   ]
  },
  {
   "cell_type": "code",
   "execution_count": null,
   "id": "fd010a5a",
   "metadata": {},
   "outputs": [],
   "source": [
    "atus_resp.rename(columns=variables, inplace=True)\n",
    "atus_resp.head()"
   ]
  },
  {
   "cell_type": "markdown",
   "id": "94d9dd94",
   "metadata": {},
   "source": [
    "Are the types correct? Do the variable values seem reasonable? What are the units?"
   ]
  },
  {
   "cell_type": "code",
   "execution_count": null,
   "id": "da714a31",
   "metadata": {},
   "outputs": [],
   "source": [
    "atus_resp.dtypes"
   ]
  },
  {
   "cell_type": "code",
   "execution_count": null,
   "id": "942dca87",
   "metadata": {},
   "outputs": [],
   "source": [
    "atus_resp.describe()"
   ]
  },
  {
   "cell_type": "markdown",
   "id": "cb8a63cf",
   "metadata": {},
   "source": [
    "Let's calculate the percentage of all nonwork time spent alone."
   ]
  },
  {
   "cell_type": "code",
   "execution_count": null,
   "id": "70a93065",
   "metadata": {},
   "outputs": [],
   "source": [
    "atus_resp['perc_alone']=100*atus_resp['alone']/(atus_resp['alone']+atus_resp['cust']+atus_resp['childcare']+atus_resp['family']+atus_resp['friends']+atus_resp['nonownchild'])\n",
    "atus_resp.set_index('year', inplace=True)\n",
    "atus_resp.head()"
   ]
  },
  {
   "cell_type": "markdown",
   "id": "6828bc9d",
   "metadata": {},
   "source": [
    "Hmmm, let's check this denominator to make sure it's sensible."
   ]
  },
  {
   "cell_type": "code",
   "execution_count": null,
   "id": "5e34af26",
   "metadata": {},
   "outputs": [],
   "source": [
    "atus_resp['nonwork'] = (atus_resp['alone']+atus_resp['cust']+atus_resp['childcare']+atus_resp['family']+atus_resp['friends']+atus_resp['nonownchild'])\n",
    "atus_resp['nonwork'].describe()\n",
    "# Double counting removal, data wrangling"
   ]
  },
  {
   "cell_type": "code",
   "execution_count": null,
   "id": "6ed168b2",
   "metadata": {},
   "outputs": [],
   "source": [
    "atus_resp[atus_resp['nonwork']>1440].count()\n",
    "# solving the problem making rare cases for outliars"
   ]
  },
  {
   "cell_type": "markdown",
   "id": "75b6489e",
   "metadata": {},
   "source": [
    "The maximum value exceeds `1440 = 24*60`, suggesting that there is some double-counting here. One possible culprit would be double-counting of time spent with children under the `family` variable. Let's try taking that out."
   ]
  },
  {
   "cell_type": "code",
   "execution_count": null,
   "id": "75e822a8",
   "metadata": {},
   "outputs": [],
   "source": [
    "atus_resp['nonwork'] = (atus_resp['alone']+atus_resp['cust']+atus_resp['family']+atus_resp['friends']+atus_resp['nonownchild'])\n",
    "atus_resp['nonwork'].describe()"
   ]
  },
  {
   "cell_type": "code",
   "execution_count": null,
   "id": "cbe1749d",
   "metadata": {},
   "outputs": [],
   "source": [
    "atus_resp[atus_resp['nonwork']>1440].count()"
   ]
  },
  {
   "cell_type": "markdown",
   "id": "1ebca46e",
   "metadata": {},
   "source": [
    "The problem is far smaller now, and I have not found a better way to remove double-counting in the denominator. I'll proceed for now, and when I publish the report, I would check that the general takeaways are not sensitive to the inclusion of a small number of respondents with implausible values."
   ]
  },
  {
   "cell_type": "markdown",
   "id": "da783f0f",
   "metadata": {},
   "source": [
    "## 4. Preliminary analysis\n",
    "\n",
    "Calculate the average percent of nonwork time spent alone in each year."
   ]
  },
  {
   "cell_type": "code",
   "execution_count": null,
   "id": "897afe78",
   "metadata": {},
   "outputs": [],
   "source": [
    "atus_resp['perc_alone']=100*atus_resp['alone']/atus_resp['nonwork']\n",
    "atus_perc = atus_resp[['year','perc_alone']].groupby('year').mean()\n",
    "atus_perc.head()"
   ]
  },
  {
   "cell_type": "markdown",
   "id": "bfae40df",
   "metadata": {},
   "source": [
    "Now, we can plot this basic trend over time."
   ]
  },
  {
   "cell_type": "code",
   "execution_count": null,
   "id": "db81e752",
   "metadata": {},
   "outputs": [],
   "source": [
    "# Convert the index to datetime\n",
    "atus_perc.index = pd.to_datetime(atus_perc.index, format='%Y')\n",
    "# Plot these as a function of time\n",
    "fig, ax = plt.subplots(figsize=(10,5)) \n",
    "ax.plot(atus_perc.index, atus_perc['perc_alone'],          # line plot of perc_alone vs. time\n",
    "        color='blue'                                       # set the line color to blue\n",
    "       )  \n",
    "#ax.set_xlabel('year')        # obvious\n",
    "#ax.set_ylabel('percent')     # obvious with PercentFormatter                                \n",
    "ax.set_title('Percent of Nonwork Time Spent Alone')\n",
    "sns.despine(ax=ax)\n",
    "ax.yaxis.set_major_formatter(mtick.PercentFormatter()) # formats percentages\n",
    "\n",
    "plt.show()"
   ]
  },
  {
   "cell_type": "markdown",
   "id": "117de990",
   "metadata": {},
   "source": [
    "*Already, this figure tells a story.* Time spent alone was steadily increasing before the pandemic and increased sharply in 2020, at the onset of the pandemic.\n",
    "\n",
    "Let's take a look at time spent on childcare."
   ]
  },
  {
   "cell_type": "code",
   "execution_count": null,
   "id": "9876dd04",
   "metadata": {},
   "outputs": [],
   "source": [
    "atus_resp['perc_child']=100*atus_resp['childcare']/atus_resp['nonwork']\n",
    "atus_perc_child = atus_resp[['year','perc_child']].groupby('year').mean()"
   ]
  },
  {
   "cell_type": "code",
   "execution_count": null,
   "id": "e1963ee9",
   "metadata": {},
   "outputs": [],
   "source": [
    "# Convert the index to datetime\n",
    "atus_perc_child.index = pd.to_datetime(atus_perc_child.index, format='%Y')\n",
    "# Plot these as a function of time\n",
    "fig, ax = plt.subplots(figsize=(10,5)) \n",
    "ax.plot(atus_perc_child.index, atus_perc_child['perc_child'],          # line plot of perc_alone vs. time\n",
    "        color='blue'                                       # set the line color to blue\n",
    "       )  \n",
    "#ax.set_xlabel('year')        # obvious\n",
    "#ax.set_ylabel('percent')     # obvious with PercentFormatter                                \n",
    "ax.set_title('Percent of Nonwork Time Spent on Childcare')\n",
    "sns.despine(ax=ax)\n",
    "ax.yaxis.set_major_formatter(mtick.PercentFormatter()) # formats percentages\n",
    "\n",
    "plt.show()"
   ]
  },
  {
   "cell_type": "markdown",
   "id": "e451f2f8",
   "metadata": {},
   "source": [
    "This steady drop is not what I expected. It would be interesting to break down between mothers and fathers."
   ]
  },
  {
   "cell_type": "markdown",
   "id": "e72bab1f",
   "metadata": {},
   "source": [
    "## 5. Revisit and revise preliminary questions\n",
    "\n",
    "Let's focus in on the alone time trend, and dig deeper to see how time trends differ across various subgroups. The below will consider differences across those with and without a Bachelor's degree. Let's grab some basic demographic data for respondents.\n",
    "\n",
    "Notice that this information comes from a different dataset on the [ATUS website](https://www.bls.gov/tus/data.htm) with more mysterious names... **Reading the data documentation is crucial!!**"
   ]
  },
  {
   "cell_type": "code",
   "execution_count": null,
   "id": "3ad3f7aa",
   "metadata": {},
   "outputs": [],
   "source": [
    "variables2 = {'TUCASEID':'id', 'TUYEAR':'year','TEAGE':'age', 'TESEX':'sex', 'PTDTRACE':'race', 'PEEDUCA':'edu'}\n",
    "atus_sum = pd.read_csv('atussum_0323.dat', usecols=variables2.keys())\n",
    "atus_sum.rename(columns=variables2, inplace=True)\n",
    "atus_sum.head()"
   ]
  },
  {
   "cell_type": "markdown",
   "id": "ddc3f949",
   "metadata": {},
   "source": [
    "Looks reasonable. Now, we have to merge the demographic data with the time use data. We'll review merging in some detail soon for those of you who are a bit rusty."
   ]
  },
  {
   "cell_type": "code",
   "execution_count": null,
   "id": "f96f9bfd",
   "metadata": {},
   "outputs": [],
   "source": [
    "# Merge respondent data with summary data on id\n",
    "atus_comb = pd.merge(how='left', left=atus_resp, right=atus_sum,\n",
    "                     left_on=['id', 'year'], right_on=['id', 'year'],\n",
    "                     indicator=False)\n",
    "atus_comb.head()"
   ]
  },
  {
   "cell_type": "markdown",
   "id": "f89214a7",
   "metadata": {},
   "source": [
    "## Sample selection and subgroup selection\n",
    "\n",
    "We only want adults, and we want to break up the analysis. The categories of 'edu' reveal that 'edu' >= 43 represents those with a bachelor's degree."
   ]
  },
  {
   "cell_type": "code",
   "execution_count": null,
   "id": "85e6459f",
   "metadata": {},
   "outputs": [],
   "source": [
    "# Subset the DataFrame to include only adults.\n",
    "atus_comb = atus_comb[atus_comb['age'] >= 18]\n",
    "# Create a Bachelor's degree indicator\n",
    "atus_comb = atus_comb.assign(bach = atus_comb['edu'] >=43)\n",
    "atus_comb.head()"
   ]
  },
  {
   "cell_type": "code",
   "execution_count": null,
   "id": "c64c0fd2",
   "metadata": {},
   "outputs": [],
   "source": [
    "# Re-calculate the means for adult subsample\n",
    "atus_perc =atus_comb[['year','perc_alone']].groupby('year').mean()\n",
    "atus_perc.head()"
   ]
  },
  {
   "cell_type": "markdown",
   "id": "9e57c61a",
   "metadata": {},
   "source": [
    "Let's use our demographic data to calculate means for different groups. In particular, we're grouping by the year and bachelor's degree."
   ]
  },
  {
   "cell_type": "code",
   "execution_count": null,
   "id": "5ee77b38",
   "metadata": {},
   "outputs": [],
   "source": [
    "# Split by bachelor's degree\n",
    "atus_percbach = atus_comb[['year', 'bach','perc_alone']].groupby(['year', 'bach']).mean()\n",
    "atus_percbach = atus_percbach.unstack()\n",
    "atus_percbach.columns = atus_percbach.columns.droplevel(0)\n",
    "atus_percbach = atus_percbach.rename_axis(None, axis=1)\n",
    "renamer = {False:'perc_alone_nodeg', True:'perc_alone_deg'}\n",
    "atus_percbach.rename(columns=renamer, inplace=True)\n",
    "atus_percbach.head()"
   ]
  },
  {
   "cell_type": "markdown",
   "id": "1a9dab8c",
   "metadata": {},
   "source": [
    "## Plotting and interpreting our main results\n",
    "\n",
    "Before we plot the results, there is one catch: data collection in 2020 was [briefly suspended](https://www.bls.gov/tus/data/datafiles-2020.htm) due to the pandemic! But this is a pivotal year for our analysis... How do we deal with this issue? Social scientists (economists included!) often don't have access to perfectly curated data. Unfortunately, this is a common situation. It is worth referring back to [the FRB article](https://www.philadelphiafed.org/-/media/frbp/assets/economy/articles/economic-insights/2023/q4/eiq423-time-use-before-during-and-after-the-pandemic.pdf) for sensible applications of two common methods of dealing with missing data:\n",
    "\n",
    "1. **Imputation:** Fill in the missing data with non-missing data.\n",
    "2. **Estimation using another data source:** In this case, the author uses Google Trends Mobility Data.\n",
    "\n",
    "In our calculations, we simply ignored the missing data and calculated percent of alone time in 2020 using the months in which data were available. You could argue that this is equivalent to \"imputing\" the share of time spent alone in the missing period with the average share in the non-missing period. In any case, let's recognize these limitations of how these results were constructed and simply move forward for the sake of time. We will discuss imputation in some more detail later this semester.\n",
    "\n",
    "Because this is our final plot, let's take care to label and represent each time series clearly in one convenient plot."
   ]
  },
  {
   "cell_type": "code",
   "execution_count": null,
   "id": "35b79498",
   "metadata": {},
   "outputs": [],
   "source": [
    "# Convert the index to datetime\n",
    "atus_perc.index = pd.to_datetime(atus_perc.index, format='%Y')\n",
    "atus_percbach.index = pd.to_datetime(atus_percbach.index, format='%Y')\n",
    "\n",
    "# Plot all three series as a function of time\n",
    "# (I've decided that automating is more trouble than it's worth here.)\n",
    "fig, ax = plt.subplots(figsize=(10,5)) \n",
    "ax.plot(atus_perc.index, atus_perc['perc_alone'],\n",
    "        label='All Adults', color='black'\n",
    "       )  \n",
    "ax.plot(atus_percbach.index, atus_percbach['perc_alone_nodeg'],\n",
    "        label='Adults without a Bachelors degree', color='red'\n",
    "       )  \n",
    "ax.plot(atus_percbach.index, atus_percbach['perc_alone_deg'],\n",
    "        label='Adults with a Bachelors degree', color='blue'\n",
    "       )\n",
    "\n",
    "# Locate and label each series (x coordinate is a datetime object)\n",
    "ax.text(dt.date(2022,9,1), 55.2, 'Adults without a Bachelor\\'s degree')\n",
    "ax.text(dt.date(2022,9,1), 52.7, 'All Adults')\n",
    "ax.text(dt.date(2022,9,1), 50, 'Adults with a Bachelor\\'s degree')\n",
    "\n",
    "ax.set_title('Percent of Nonwork Time Spent Alone')\n",
    "sns.despine(ax=ax)\n",
    "ax.yaxis.set_major_formatter(mtick.PercentFormatter()) # formats percentages\n",
    "\n",
    "plt.show()"
   ]
  },
  {
   "cell_type": "markdown",
   "id": "c5954567",
   "metadata": {},
   "source": [
    "## 6. Final analysis\n",
    "\n",
    "At this point, you would take time to enrich and formalize the analysis, and test robustness.\n",
    "\n",
    "We might also want to construct other interesting measures of time use (work from home, childcare) and compare more subgroups (gender, race). With additional results, we might be able to tell a more complete story as in the FRB report."
   ]
  },
  {
   "cell_type": "markdown",
   "id": "ca68694b",
   "metadata": {},
   "source": [
    "## 7. Report your findings\n",
    "\n",
    "Time to collect our findings: \n",
    "\n",
    "1. Alone time has increased considerably since 2003.\n",
    "2. These increases were much greater for those without a college degree.\n",
    "2. Alone time peaked in 2020 (coinciding with the first/second wave of the pandemic), stabilized during 2020-2022, and increased again in 2023.\n",
    "\n",
    "Now it is time to choose which figure(s) we want to use and how we want to make them look.\n",
    "\n",
    "1. **Message:** Share of time spent alone was already increasing in the lead-up to the pandemic. \n",
    "2. **Audience:** If the audience is non-experts, I would not focus too much on technical details.\n",
    "3. **Medium:** Presentation or online distribution. A few colors are just fine. The figure is relatively sparse, so this could be augmented easily if the medium changes.\n"
   ]
  }
 ],
 "metadata": {
  "kernelspec": {
   "display_name": "econ570",
   "language": "python",
   "name": "python3"
  },
  "language_info": {
   "codemirror_mode": {
    "name": "ipython",
    "version": 3
   },
   "file_extension": ".py",
   "mimetype": "text/x-python",
   "name": "python",
   "nbconvert_exporter": "python",
   "pygments_lexer": "ipython3",
   "version": "undefined.undefined.undefined"
  }
 },
 "nbformat": 4,
 "nbformat_minor": 5
}
