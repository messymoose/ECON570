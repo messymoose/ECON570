{
 "cells": [
  {
   "cell_type": "markdown",
   "metadata": {},
   "source": [
    "# Coding Practice \\#1: Due January 31st at midnight in Canvas\n",
    "\n",
    "file needed = (`banks_and_branches.csv`, `nhe.csv`)\n",
    "\n",
    "Answer the questions below in a Jupyter notebook. You can modify this notebook by adding cells with your answers."
   ]
  },
  {
   "cell_type": "code",
   "execution_count": 1,
   "metadata": {},
   "outputs": [],
   "source": [
    "# Load packages needed\n",
    "import pandas as pd\n",
    "import matplotlib.pyplot as plt\n",
    "import seaborn as sns"
   ]
  },
  {
   "cell_type": "code",
   "execution_count": 11,
   "metadata": {},
   "outputs": [],
   "source": [
    "\n",
    "import os\n",
    "os.chdir('C:/Users/messy/Desktop/School/ECON570')\n"
   ]
  },
  {
   "cell_type": "markdown",
   "metadata": {},
   "source": [
    "## Exercise 1: Kaiman, Jackson\n",
    "Replace 'Last, First' above with your actual name. Enter it as your last name, first name."
   ]
  },
  {
   "cell_type": "markdown",
   "metadata": {},
   "source": [
    "## Exercise 2: Warm-ups\n",
    "\n",
    "1. Write a loop that prints each integer from 1 through 10 and their squares (e.g., \"1 squared is 1\", then \"2 squared is 4\").\n",
    "\n"
   ]
  },
  {
   "cell_type": "code",
   "execution_count": 2,
   "metadata": {},
   "outputs": [
    {
     "name": "stdout",
     "output_type": "stream",
     "text": [
      "1 squared is 1\n",
      "2 squared is 4\n",
      "3 squared is 9\n",
      "4 squared is 16\n",
      "5 squared is 25\n",
      "6 squared is 36\n",
      "7 squared is 49\n",
      "8 squared is 64\n",
      "9 squared is 81\n",
      "10 squared is 100\n"
     ]
    }
   ],
   "source": [
    "for i in range(1,11):\n",
    "    print(f'{i} squared is {(i)**2}')"
   ]
  },
  {
   "cell_type": "markdown",
   "metadata": {},
   "source": [
    "2. Write code that modifies the below list of the Beatles' band members, replacing Pete Best with Ringo Starr. Print the resulting list.\n",
    "\n",
    "```python \n",
    "beatles = ['John Lennon', 'Paul McCartney', 'George Harrison', 'Pete Best']\n",
    "```"
   ]
  },
  {
   "cell_type": "code",
   "execution_count": 4,
   "metadata": {},
   "outputs": [
    {
     "data": {
      "text/plain": [
       "['John Lennon', 'Paul McCartney', 'George Harrison', 'Ringo Starr']"
      ]
     },
     "execution_count": 4,
     "metadata": {},
     "output_type": "execute_result"
    }
   ],
   "source": [
    "beatles = ['John Lennon', 'Paul McCartney', 'George Harrison', 'Pete Best']\n",
    "beatles[3] = 'Ringo Starr'\n",
    "beatles"
   ]
  },
  {
   "cell_type": "markdown",
   "metadata": {},
   "source": [
    "3. Write a loop that iterates through the list you created in 1. to print out the sentence \"The Beatles were John Lennon and Paul McCartney and George Harrison and Ringo Starr.\""
   ]
  },
  {
   "cell_type": "code",
   "execution_count": 13,
   "metadata": {},
   "outputs": [
    {
     "data": {
      "text/plain": [
       "'The Beatles were John Lennon and Paul McCartney and George Harrison and Ringo Starr'"
      ]
     },
     "execution_count": 13,
     "metadata": {},
     "output_type": "execute_result"
    }
   ],
   "source": [
    "sentence = \"The Beatles were \"\n",
    "for i in range(len(beatles)):\n",
    "    if i == 0:\n",
    "        sentence += beatles[i]\n",
    "    else:\n",
    "        sentence += \" and \" + beatles[i]\n",
    "\n",
    "sentence"
   ]
  },
  {
   "cell_type": "markdown",
   "metadata": {},
   "source": [
    "4. You are given the `data` dictionary below (source: [KFF](https://www.healthsystemtracker.org/chart-collection/u-s-spending-healthcare-changed-time/)). Notice that the health spending data are stored as strings. Fix `data` by replacing the strings with floats and then print the fixed version. Use a loop or a list comprehension.  \n",
    "\n",
    "```python\n",
    "data = {'year' : [1990, 2000, 2010], 'health_spend' : ['718.8', '1365.7', '2589.4']}\n",
    "```"
   ]
  },
  {
   "cell_type": "code",
   "execution_count": 28,
   "metadata": {},
   "outputs": [
    {
     "name": "stdout",
     "output_type": "stream",
     "text": [
      "{'year': [1990, 2000, 2010], 'health_spend': [718.8, 1365.7, 2589.4]}\n",
      "718.8 <class 'float'>\n",
      "1365.7 <class 'float'>\n",
      "2589.4 <class 'float'>\n"
     ]
    }
   ],
   "source": [
    "data = {'year' : [1990, 2000, 2010], 'health_spend' : ['718.8', '1365.7', '2589.4']}\n",
    "type(data)\n",
    "\n",
    "data['health_spend'] = [float(x) for x in data['health_spend']]\n",
    "    \n",
    "print(data)\n",
    "\n",
    "for val in data['health_spend']:\n",
    "    print(val, type(val))\n"
   ]
  },
  {
   "cell_type": "markdown",
   "metadata": {},
   "source": [
    "## Exercise 3: U.S. Exports\n",
    "\n",
    "The next cell has a dictionary with nominal exports of goods (in millions of dollars) from the United States to all other countries in 2017.\n",
    "\n",
    "Run the cell below to read the dictionary into memory. "
   ]
  },
  {
   "cell_type": "code",
   "execution_count": 13,
   "metadata": {},
   "outputs": [],
   "source": [
    "us_exports_2017 = {'Argentina': 9585.957928, 'Serbia': 125.604552, 'Bulgaria': 381.490292, 'Bangladesh': 1473.961033, \n",
    "                   'Sierra Leone': 79.185252, 'Guyana': 377.349484, 'Turkey': 9741.491909, 'Syrian Arab Republic': 6.961023,\n",
    "                   'Saint Vincent and the Grenadines': 81.348131, 'Eritrea': 5.021254, 'Kosovo': 10.070786, 'Bermuda': 693.65006,\n",
    "                   'Zimbabwe': 39.926035, 'Suriname': 359.542397, 'Uganda': 107.869624, 'Palau': 19.432665, 'Guinea': 103.022431, \n",
    "                   'Heard Island and Mcdonald Islands': 0.125829, 'Mongolia': 82.192362, 'Botswana': 93.045279, 'Cameroon': 158.845783, \n",
    "                   'Ecuador': 4820.700634, 'Falkland Islands (Malvinas)': 0.482089, 'Iceland': 399.258756, 'South Korea': 48326.408702, \n",
    "                   'Hungary': 1888.233492, 'Comoros': 1.375097, 'Malta': 293.009573, 'Luxembourg': 1078.074731, 'Tonga': 16.719457, \n",
    "                   'Tanzania; United Republic of': 145.242068, 'Liberia': 138.340637, 'Mali': 62.01555, 'Algeria': 1059.840617, \n",
    "                   'South Africa': 5020.062464, 'Kyrgyzstan': 26.066859, 'Swaziland': 24.073435, 'Central African Republic': 11.178603, \n",
    "                   'Andorra': 3.285167, 'Seychelles': 15.488847, 'Other Countries': 0.0, 'Cook Islands': 5.243873, \n",
    "                   \"Lao People's Democratic Republic\": 25.67166, 'Ghana': 859.971235, 'Malaysia': 12964.461912, \n",
    "                   'Micronesia (Federated States of)': 44.827548, 'Indonesia': 6863.831289, 'Tajikistan': 17.911115, 'Gambia': 39.235769, \n",
    "                   'Thailand': 10991.613094, 'Cape Verde': 9.146393, 'West Bank': 2.19236, 'Sri Lanka': 336.25559, \n",
    "                   'Burma (Myanmar)': 211.368799, 'Lebanon': 1221.529041, 'Poland': 4523.318939, 'Austria': 4275.26315, \n",
    "                   'Panama': 6301.303156, 'Lithuania': 609.272207, 'Hong Kong': 39939.130227, 'Kenya': 454.453344, 'Netherlands': 41510.332962, \n",
    "                   'Dominican Republic': 7827.520352, 'Cayman Islands': 885.800982, 'Reunion': 8.376879, 'Belarus': 72.668182, \n",
    "                   'Burundi': 8.13276, 'Nigeria': 2170.069073, 'Martinique': 168.255979, 'Equatorial Guinea': 111.93615, 'Vatican City': 1.146853, \n",
    "                   'Taiwan': 25729.504439, 'Georgia': 382.865271, 'Aruba': 966.305683, 'Lesotho': 1.901616, 'Colombia': 13312.122946, \n",
    "                   'Curacao': 692.167798, 'Cuba': 291.276873, 'French Southern Territories': 2.842721, 'China': 129893.586716, \n",
    "                   'Norway': 5453.37072, 'Svalbard and Jan Mayen Island': 1.986719, \"CÃ´te d'Ivoire\": 319.964133, 'Uruguay': 1599.284155, \n",
    "                   'Montserrat': 9.708109, 'Madagascar': 53.367175, 'Vanuatu': 7.762425, 'Bhutan': 34.892754, 'Greenland': 9.884715, \n",
    "                   'Kuwait': 5143.414006, 'Iraq': 1204.721644, 'Senegal': 207.93405, 'Ukraine': 1787.9993, 'Haiti': 1410.575337, \n",
    "                   'Mauritius': 61.421605, 'Nicaragua': 1589.398811, 'Qatar': 3124.095821, 'Moldova; Republic of': 17.614764, \n",
    "                   'Samoa': 38.309271, 'Saint Kitts and Nevis': 243.537203, 'Ethiopia': 877.152409, 'French Polynesia': 119.798493, \n",
    "                   'Uzbekistan': 136.094699, 'East Germany': 0.0, 'Switzerland': 21684.835238, 'Rwanda': 66.140569, 'Solomon Islands': 9.303881, \n",
    "                   'Macedonia': 41.225784, 'Christmas Island': 0.476695, 'Sao Tome and Principe': 3.140792, 'Papua New Guinea': 105.851898, \n",
    "                   'Venezuela': 4133.114819, 'Iran': 136.000618, 'Grenada': 102.991413, 'New Caledonia': 59.362579, 'Kazakhstan': 552.092011, \n",
    "                   'Italy': 18404.689805, 'Paraguay': 2719.236832, 'Guinea Bissau': 3.751655, 'India': 25688.861698, 'Slovenia': 371.602049, \n",
    "                   'Canada': 282265.135262, 'United Arab Emirates': 20019.696481, 'Turks and Caicos Islands': 369.866125, \n",
    "                   'Croatia': 447.955755, 'Nepal': 75.851857, 'Congo': 117.378013, 'Saint Helena': 0.587754, \n",
    "                   'British Indian Ocean Territory': 36.334868, 'Singapore': 29805.915154, 'Slovakia': 441.620058, 'Faroe Islands': 2.034537, \n",
    "                   'Gaza Strip': 0.555101, 'Saint Lucia': 572.438902, 'Dominica': 178.447184, 'Bolivia': 594.703634, 'Chad': 31.338485, \n",
    "                   'British Virgin Islands': 377.227746, 'Wallis and Futuna': 0.300526, 'South Sudan': 13.57431, 'Kiribati': 4.928546, \n",
    "                   'Fiji': 66.551898, 'French Guiana': 162.74323, 'United Kingdom': 56257.922547, 'Finland': 1534.930626, 'Jordan': 1920.88633, \n",
    "                   'Serbia and Montenegro': 0.0, 'Norfolk Island': 0.138341, 'Pakistan': 2808.16696, 'Bahamas': 3057.271998, 'Mexico': 243314.438647,\n",
    "                   'Honduras': 5079.663953, 'Afghanistan': 941.42806, 'Anguilla': 59.409382, 'Romania': 954.684233, 'Spain': 11063.740551, \n",
    "                   'Tuvalu': 0.796156, 'Portugal': 1192.459324, 'Brunei': 121.111606, 'France': 33595.514399, 'Togo': 481.810854, \n",
    "                   'Chile': 13605.342592, 'Marshall Islands': 556.988101, 'Morocco': 2219.661823, 'Peru': 8662.61201, \n",
    "                   'Western Sahara': 0.418356, 'Angola': 809.444868, 'Malawi': 27.88084, 'Netherlands Antilles': 0.0, 'Belize': 294.920783, \n",
    "                   'Azerbaijan': 354.555299, 'Macau; SAR of China': 502.136131, 'Bahrain': 898.1564, 'Niue': 0.086722, 'North Korea': 0.00266, \n",
    "                   'Nauru': 0.198927, 'Cyprus': 82.40193, 'Gibraltar': 1126.417629, 'Somalia': 70.594917, 'Greece': 960.728649, \n",
    "                   'Gabon': 89.00649, 'Saudi Arabia': 16348.000104, 'Japan': 67605.076964, 'Mauritania': 127.77739, 'Estonia': 273.958646, \n",
    "                   'Tokelau Islands': 1.162557, 'Sint Maarten': 545.15619, 'Namibia': 118.561677, 'Australia': 24526.835921, \n",
    "                   'Maldives': 34.373287, 'Sudan': 69.654352, 'Djibouti': 157.467862, 'New Zealand': 3924.611227, 'East Timor': 2.565401, \n",
    "                   'Antigua and Barbuda': 425.623529, 'Czech Republic': 2273.780613, 'Guatemala': 6895.337671, 'Liechtenstein': 27.744402, \n",
    "                   'Belgium': 29923.692464, 'Mozambique': 179.126068, 'Monaco': 42.263572, 'Brazil': 37221.566249, 'Germany': 53896.753486, \n",
    "                   'Egypt': 3991.832766, 'San Marino': 2.109451, 'Yemen': 199.030638, 'Cocos (Keeling) Islands': 0.452079, \n",
    "                   'Israel': 12550.082579, 'Mayotte': 0.493107, 'Barbados': 525.452357, 'Philippines': 8450.925039, \n",
    "                   'Burkina Faso': 60.978397, 'Guadeloupe': 244.842196, 'Benin': 250.13587, 'Armenia': 55.005606, \n",
    "                   'Democratic Republic of Congo': 76.260999, 'Niger': 44.082049, 'Viet Nam': 8133.364685, 'Albania': 62.086804, \n",
    "                   'Montenegro': 9.148718, 'Cambodia': 400.220962, 'Bosnia and Herzegovina': 27.142924, 'El Salvador': 3057.896029, \n",
    "                   'Pitcairn Islands': 0.001431, 'Trinidad and Tobago': 1816.745419, 'Tunisia': 543.575125, 'Sweden': 3734.457331, \n",
    "                   'Zambia': 85.149483, 'Turkmenistan': 282.178944, 'Oman': 1985.049832, 'Denmark': 2210.191808, 'Latvia': 381.621395, \n",
    "                   'Ireland': 10707.555883, 'Libyan Arab Jamahiriya': 134.952674, 'Saint Pierre and Miquelon': 0.390569, \n",
    "                   'Costa Rica': 6169.60881, 'Jamaica': 2105.505325, 'Russia': 6998.497148}"
   ]
  },
  {
   "cell_type": "markdown",
   "metadata": {},
   "source": [
    "1. Convert the dictionary to a pandas DataFrame with two columns, `country` and `exports`. [Note: You'll actually want to convert the `dict.items()` and specify the column names.]"
   ]
  },
  {
   "cell_type": "code",
   "execution_count": 14,
   "metadata": {},
   "outputs": [
    {
     "data": {
      "text/html": [
       "<div>\n",
       "<style scoped>\n",
       "    .dataframe tbody tr th:only-of-type {\n",
       "        vertical-align: middle;\n",
       "    }\n",
       "\n",
       "    .dataframe tbody tr th {\n",
       "        vertical-align: top;\n",
       "    }\n",
       "\n",
       "    .dataframe thead th {\n",
       "        text-align: right;\n",
       "    }\n",
       "</style>\n",
       "<table border=\"1\" class=\"dataframe\">\n",
       "  <thead>\n",
       "    <tr style=\"text-align: right;\">\n",
       "      <th></th>\n",
       "      <th>country</th>\n",
       "      <th>exports</th>\n",
       "    </tr>\n",
       "  </thead>\n",
       "  <tbody>\n",
       "    <tr>\n",
       "      <th>0</th>\n",
       "      <td>Argentina</td>\n",
       "      <td>9585.957928</td>\n",
       "    </tr>\n",
       "    <tr>\n",
       "      <th>1</th>\n",
       "      <td>Serbia</td>\n",
       "      <td>125.604552</td>\n",
       "    </tr>\n",
       "    <tr>\n",
       "      <th>2</th>\n",
       "      <td>Bulgaria</td>\n",
       "      <td>381.490292</td>\n",
       "    </tr>\n",
       "    <tr>\n",
       "      <th>3</th>\n",
       "      <td>Bangladesh</td>\n",
       "      <td>1473.961033</td>\n",
       "    </tr>\n",
       "    <tr>\n",
       "      <th>4</th>\n",
       "      <td>Sierra Leone</td>\n",
       "      <td>79.185252</td>\n",
       "    </tr>\n",
       "  </tbody>\n",
       "</table>\n",
       "</div>"
      ],
      "text/plain": [
       "        country      exports\n",
       "0     Argentina  9585.957928\n",
       "1        Serbia   125.604552\n",
       "2      Bulgaria   381.490292\n",
       "3    Bangladesh  1473.961033\n",
       "4  Sierra Leone    79.185252"
      ]
     },
     "execution_count": 14,
     "metadata": {},
     "output_type": "execute_result"
    }
   ],
   "source": [
    "import pandas as pd\n",
    "df = pd.DataFrame(us_exports_2017.items(), columns=[\"country\", \"exports\"])\n",
    "df.head()"
   ]
  },
  {
   "cell_type": "markdown",
   "metadata": {},
   "source": [
    "2. What is the total value of U.S. exports of goods to the entire world? Use the function from the previous part. Print it as 'The United States exported $X trillion dollars of goods in 2017.' Format your string so that the number has one digit to the right of the decimal point. [Notice that the values are reported in millions, so you have to convert to trillions!]\n",
    "\\[Hint: Look into pandas `.sum()` and string `.format()` functions.\\]"
   ]
  },
  {
   "cell_type": "code",
   "execution_count": 15,
   "metadata": {},
   "outputs": [
    {
     "name": "stdout",
     "output_type": "stream",
     "text": [
      "The United States exported $1.5 trillion dollars of goods in 2017.\n"
     ]
    }
   ],
   "source": [
    "total_millions = df[\"exports\"].sum()\n",
    "\n",
    "total_trillions = total_millions / 1_000_000\n",
    "\n",
    "print(\"The United States exported ${:.1f} trillion dollars of goods in 2017.\".format(total_trillions))\n"
   ]
  },
  {
   "cell_type": "markdown",
   "metadata": {},
   "source": [
    "3. Subset the DataFrame to countries for which the US had greater exports than it did to Turkey in 2017."
   ]
  },
  {
   "cell_type": "code",
   "execution_count": 16,
   "metadata": {},
   "outputs": [
    {
     "data": {
      "text/html": [
       "<div>\n",
       "<style scoped>\n",
       "    .dataframe tbody tr th:only-of-type {\n",
       "        vertical-align: middle;\n",
       "    }\n",
       "\n",
       "    .dataframe tbody tr th {\n",
       "        vertical-align: top;\n",
       "    }\n",
       "\n",
       "    .dataframe thead th {\n",
       "        text-align: right;\n",
       "    }\n",
       "</style>\n",
       "<table border=\"1\" class=\"dataframe\">\n",
       "  <thead>\n",
       "    <tr style=\"text-align: right;\">\n",
       "      <th></th>\n",
       "      <th>country</th>\n",
       "      <th>exports</th>\n",
       "    </tr>\n",
       "  </thead>\n",
       "  <tbody>\n",
       "    <tr>\n",
       "      <th>24</th>\n",
       "      <td>South Korea</td>\n",
       "      <td>48326.408702</td>\n",
       "    </tr>\n",
       "    <tr>\n",
       "      <th>44</th>\n",
       "      <td>Malaysia</td>\n",
       "      <td>12964.461912</td>\n",
       "    </tr>\n",
       "    <tr>\n",
       "      <th>49</th>\n",
       "      <td>Thailand</td>\n",
       "      <td>10991.613094</td>\n",
       "    </tr>\n",
       "    <tr>\n",
       "      <th>59</th>\n",
       "      <td>Hong Kong</td>\n",
       "      <td>39939.130227</td>\n",
       "    </tr>\n",
       "    <tr>\n",
       "      <th>61</th>\n",
       "      <td>Netherlands</td>\n",
       "      <td>41510.332962</td>\n",
       "    </tr>\n",
       "    <tr>\n",
       "      <th>71</th>\n",
       "      <td>Taiwan</td>\n",
       "      <td>25729.504439</td>\n",
       "    </tr>\n",
       "    <tr>\n",
       "      <th>75</th>\n",
       "      <td>Colombia</td>\n",
       "      <td>13312.122946</td>\n",
       "    </tr>\n",
       "    <tr>\n",
       "      <th>79</th>\n",
       "      <td>China</td>\n",
       "      <td>129893.586716</td>\n",
       "    </tr>\n",
       "    <tr>\n",
       "      <th>104</th>\n",
       "      <td>Switzerland</td>\n",
       "      <td>21684.835238</td>\n",
       "    </tr>\n",
       "    <tr>\n",
       "      <th>116</th>\n",
       "      <td>Italy</td>\n",
       "      <td>18404.689805</td>\n",
       "    </tr>\n",
       "    <tr>\n",
       "      <th>119</th>\n",
       "      <td>India</td>\n",
       "      <td>25688.861698</td>\n",
       "    </tr>\n",
       "    <tr>\n",
       "      <th>121</th>\n",
       "      <td>Canada</td>\n",
       "      <td>282265.135262</td>\n",
       "    </tr>\n",
       "    <tr>\n",
       "      <th>122</th>\n",
       "      <td>United Arab Emirates</td>\n",
       "      <td>20019.696481</td>\n",
       "    </tr>\n",
       "    <tr>\n",
       "      <th>129</th>\n",
       "      <td>Singapore</td>\n",
       "      <td>29805.915154</td>\n",
       "    </tr>\n",
       "    <tr>\n",
       "      <th>143</th>\n",
       "      <td>United Kingdom</td>\n",
       "      <td>56257.922547</td>\n",
       "    </tr>\n",
       "    <tr>\n",
       "      <th>150</th>\n",
       "      <td>Mexico</td>\n",
       "      <td>243314.438647</td>\n",
       "    </tr>\n",
       "    <tr>\n",
       "      <th>155</th>\n",
       "      <td>Spain</td>\n",
       "      <td>11063.740551</td>\n",
       "    </tr>\n",
       "    <tr>\n",
       "      <th>159</th>\n",
       "      <td>France</td>\n",
       "      <td>33595.514399</td>\n",
       "    </tr>\n",
       "    <tr>\n",
       "      <th>161</th>\n",
       "      <td>Chile</td>\n",
       "      <td>13605.342592</td>\n",
       "    </tr>\n",
       "    <tr>\n",
       "      <th>181</th>\n",
       "      <td>Saudi Arabia</td>\n",
       "      <td>16348.000104</td>\n",
       "    </tr>\n",
       "    <tr>\n",
       "      <th>182</th>\n",
       "      <td>Japan</td>\n",
       "      <td>67605.076964</td>\n",
       "    </tr>\n",
       "    <tr>\n",
       "      <th>188</th>\n",
       "      <td>Australia</td>\n",
       "      <td>24526.835921</td>\n",
       "    </tr>\n",
       "    <tr>\n",
       "      <th>198</th>\n",
       "      <td>Belgium</td>\n",
       "      <td>29923.692464</td>\n",
       "    </tr>\n",
       "    <tr>\n",
       "      <th>201</th>\n",
       "      <td>Brazil</td>\n",
       "      <td>37221.566249</td>\n",
       "    </tr>\n",
       "    <tr>\n",
       "      <th>202</th>\n",
       "      <td>Germany</td>\n",
       "      <td>53896.753486</td>\n",
       "    </tr>\n",
       "    <tr>\n",
       "      <th>207</th>\n",
       "      <td>Israel</td>\n",
       "      <td>12550.082579</td>\n",
       "    </tr>\n",
       "    <tr>\n",
       "      <th>232</th>\n",
       "      <td>Ireland</td>\n",
       "      <td>10707.555883</td>\n",
       "    </tr>\n",
       "  </tbody>\n",
       "</table>\n",
       "</div>"
      ],
      "text/plain": [
       "                  country        exports\n",
       "24            South Korea   48326.408702\n",
       "44               Malaysia   12964.461912\n",
       "49               Thailand   10991.613094\n",
       "59              Hong Kong   39939.130227\n",
       "61            Netherlands   41510.332962\n",
       "71                 Taiwan   25729.504439\n",
       "75               Colombia   13312.122946\n",
       "79                  China  129893.586716\n",
       "104           Switzerland   21684.835238\n",
       "116                 Italy   18404.689805\n",
       "119                 India   25688.861698\n",
       "121                Canada  282265.135262\n",
       "122  United Arab Emirates   20019.696481\n",
       "129             Singapore   29805.915154\n",
       "143        United Kingdom   56257.922547\n",
       "150                Mexico  243314.438647\n",
       "155                 Spain   11063.740551\n",
       "159                France   33595.514399\n",
       "161                 Chile   13605.342592\n",
       "181          Saudi Arabia   16348.000104\n",
       "182                 Japan   67605.076964\n",
       "188             Australia   24526.835921\n",
       "198               Belgium   29923.692464\n",
       "201                Brazil   37221.566249\n",
       "202               Germany   53896.753486\n",
       "207                Israel   12550.082579\n",
       "232               Ireland   10707.555883"
      ]
     },
     "execution_count": 16,
     "metadata": {},
     "output_type": "execute_result"
    }
   ],
   "source": [
    "turkey_exports = df.loc[df[\"country\"] == \"Turkey\", \"exports\"].iloc[0]\n",
    "\n",
    "more = df[df[\"exports\"] > turkey_exports]\n",
    "\n",
    "more"
   ]
  },
  {
   "cell_type": "markdown",
   "metadata": {},
   "source": [
    "## Exercise 4: Importing data\n",
    "\n",
    "The file `banks_and_branches.csv` contains data on the number of commercial banking institutions, branches, and offices in the United States at the end of each year between 1934 and 2017. \n",
    "\n",
    "\\[The data are from Table CB01, which is maintained by the Federal Deposit Insurance Corporation (FDIC).  FDIC data can be downloaded from [here](https://www.fdic.gov/open/datatools.html). You are encouraged to browse around their website to see what's there &mdash; this might be a useful source for your final project.\\]\n",
    "\n",
    "Your task is to import this data into Python and get it into good shape. \n",
    "\n",
    "### Part (a):\n",
    "Import the data from `banks_and_branches.csv` into a pandas DataFrame called `banking_data`. If you open the .csv file in Excel or a similar program, you'll notice that there are notes in several of the cells at the beginning of the file. Write code that omits those extraneous notes. This code should appear within the command you use to open the file."
   ]
  },
  {
   "cell_type": "code",
   "execution_count": 25,
   "metadata": {},
   "outputs": [
    {
     "data": {
      "text/html": [
       "<div>\n",
       "<style scoped>\n",
       "    .dataframe tbody tr th:only-of-type {\n",
       "        vertical-align: middle;\n",
       "    }\n",
       "\n",
       "    .dataframe tbody tr th {\n",
       "        vertical-align: top;\n",
       "    }\n",
       "\n",
       "    .dataframe thead th {\n",
       "        text-align: right;\n",
       "    }\n",
       "</style>\n",
       "<table border=\"1\" class=\"dataframe\">\n",
       "  <thead>\n",
       "    <tr style=\"text-align: right;\">\n",
       "      <th></th>\n",
       "      <th>Year</th>\n",
       "      <th>Institutions</th>\n",
       "      <th>Branches</th>\n",
       "      <th>Offices</th>\n",
       "    </tr>\n",
       "  </thead>\n",
       "  <tbody>\n",
       "    <tr>\n",
       "      <th>0</th>\n",
       "      <td>2017</td>\n",
       "      <td>4,918</td>\n",
       "      <td>79,163</td>\n",
       "      <td>84,081</td>\n",
       "    </tr>\n",
       "    <tr>\n",
       "      <th>1</th>\n",
       "      <td>2016</td>\n",
       "      <td>5,112</td>\n",
       "      <td>80,089</td>\n",
       "      <td>85,201</td>\n",
       "    </tr>\n",
       "    <tr>\n",
       "      <th>2</th>\n",
       "      <td>2015</td>\n",
       "      <td>5,340</td>\n",
       "      <td>81,541</td>\n",
       "      <td>86,881</td>\n",
       "    </tr>\n",
       "    <tr>\n",
       "      <th>3</th>\n",
       "      <td>2014</td>\n",
       "      <td>5,607</td>\n",
       "      <td>81,990</td>\n",
       "      <td>87,597</td>\n",
       "    </tr>\n",
       "    <tr>\n",
       "      <th>4</th>\n",
       "      <td>2013</td>\n",
       "      <td>5,847</td>\n",
       "      <td>82,735</td>\n",
       "      <td>88,582</td>\n",
       "    </tr>\n",
       "  </tbody>\n",
       "</table>\n",
       "</div>"
      ],
      "text/plain": [
       "   Year Institutions Branches Offices\n",
       "0  2017        4,918   79,163  84,081\n",
       "1  2016        5,112   80,089  85,201\n",
       "2  2015        5,340   81,541  86,881\n",
       "3  2014        5,607   81,990  87,597\n",
       "4  2013        5,847   82,735  88,582"
      ]
     },
     "execution_count": 25,
     "metadata": {},
     "output_type": "execute_result"
    }
   ],
   "source": [
    "csv_path = \"data/banks_and_branches.csv\"\n",
    "\n",
    "banking_data = pd.read_csv(csv_path, skiprows=6) # first rows were blank\n",
    "\n",
    "# take a quick look\n",
    "banking_data.head()"
   ]
  },
  {
   "cell_type": "markdown",
   "metadata": {},
   "source": [
    "### Part (b):\n",
    "1. Drop the `Offices` column.\n",
    "2. Run the following line of code.\n",
    "```python\n",
    "banking_data.describe()\n",
    "```\n",
    "\n",
    "Why does the output summarize only a single column? Type your answer in a markdown cell below."
   ]
  },
  {
   "cell_type": "code",
   "execution_count": 26,
   "metadata": {},
   "outputs": [],
   "source": [
    "banking_data = banking_data.drop(columns = [\"Offices\"])"
   ]
  },
  {
   "cell_type": "code",
   "execution_count": 27,
   "metadata": {},
   "outputs": [
    {
     "data": {
      "text/html": [
       "<div>\n",
       "<style scoped>\n",
       "    .dataframe tbody tr th:only-of-type {\n",
       "        vertical-align: middle;\n",
       "    }\n",
       "\n",
       "    .dataframe tbody tr th {\n",
       "        vertical-align: top;\n",
       "    }\n",
       "\n",
       "    .dataframe thead th {\n",
       "        text-align: right;\n",
       "    }\n",
       "</style>\n",
       "<table border=\"1\" class=\"dataframe\">\n",
       "  <thead>\n",
       "    <tr style=\"text-align: right;\">\n",
       "      <th></th>\n",
       "      <th>Year</th>\n",
       "      <th>Institutions</th>\n",
       "      <th>Branches</th>\n",
       "    </tr>\n",
       "  </thead>\n",
       "  <tbody>\n",
       "    <tr>\n",
       "      <th>0</th>\n",
       "      <td>2017</td>\n",
       "      <td>4,918</td>\n",
       "      <td>79,163</td>\n",
       "    </tr>\n",
       "    <tr>\n",
       "      <th>1</th>\n",
       "      <td>2016</td>\n",
       "      <td>5,112</td>\n",
       "      <td>80,089</td>\n",
       "    </tr>\n",
       "    <tr>\n",
       "      <th>2</th>\n",
       "      <td>2015</td>\n",
       "      <td>5,340</td>\n",
       "      <td>81,541</td>\n",
       "    </tr>\n",
       "    <tr>\n",
       "      <th>3</th>\n",
       "      <td>2014</td>\n",
       "      <td>5,607</td>\n",
       "      <td>81,990</td>\n",
       "    </tr>\n",
       "    <tr>\n",
       "      <th>4</th>\n",
       "      <td>2013</td>\n",
       "      <td>5,847</td>\n",
       "      <td>82,735</td>\n",
       "    </tr>\n",
       "    <tr>\n",
       "      <th>...</th>\n",
       "      <td>...</td>\n",
       "      <td>...</td>\n",
       "      <td>...</td>\n",
       "    </tr>\n",
       "    <tr>\n",
       "      <th>79</th>\n",
       "      <td>1938</td>\n",
       "      <td>13,661</td>\n",
       "      <td>3,412</td>\n",
       "    </tr>\n",
       "    <tr>\n",
       "      <th>80</th>\n",
       "      <td>1937</td>\n",
       "      <td>13,797</td>\n",
       "      <td>3,381</td>\n",
       "    </tr>\n",
       "    <tr>\n",
       "      <th>81</th>\n",
       "      <td>1936</td>\n",
       "      <td>13,973</td>\n",
       "      <td>3,261</td>\n",
       "    </tr>\n",
       "    <tr>\n",
       "      <th>82</th>\n",
       "      <td>1935</td>\n",
       "      <td>14,125</td>\n",
       "      <td>3,112</td>\n",
       "    </tr>\n",
       "    <tr>\n",
       "      <th>83</th>\n",
       "      <td>1934</td>\n",
       "      <td>14,146</td>\n",
       "      <td>0</td>\n",
       "    </tr>\n",
       "  </tbody>\n",
       "</table>\n",
       "<p>84 rows × 3 columns</p>\n",
       "</div>"
      ],
      "text/plain": [
       "    Year Institutions Branches\n",
       "0   2017        4,918   79,163\n",
       "1   2016        5,112   80,089\n",
       "2   2015        5,340   81,541\n",
       "3   2014        5,607   81,990\n",
       "4   2013        5,847   82,735\n",
       "..   ...          ...      ...\n",
       "79  1938       13,661    3,412\n",
       "80  1937       13,797    3,381\n",
       "81  1936       13,973    3,261\n",
       "82  1935       14,125    3,112\n",
       "83  1934       14,146        0\n",
       "\n",
       "[84 rows x 3 columns]"
      ]
     },
     "execution_count": 27,
     "metadata": {},
     "output_type": "execute_result"
    }
   ],
   "source": [
    "banking_data"
   ]
  },
  {
   "cell_type": "markdown",
   "metadata": {},
   "source": [
    "### Part (c):\n",
    "\n",
    "1. Use a loop to fix the columns so they are of type `integer`. \\[Hint: Apply something like this to each appropriate column: `.str.replace().astype(int)`. What is it that we need to replace?\\]\n",
    "2. Summarize the data again to confirm that they are fixed."
   ]
  },
  {
   "cell_type": "code",
   "execution_count": 28,
   "metadata": {},
   "outputs": [],
   "source": [
    "numeric_cols = [col for col in banking_data.columns if col != \"Year\"]\n",
    "\n",
    "for col in numeric_cols:\n",
    "    banking_data[col] = (\n",
    "        banking_data[col]\n",
    "        .str.replace(\",\", \"\")  \n",
    "        .astype(int)                        \n",
    "    )\n"
   ]
  },
  {
   "cell_type": "code",
   "execution_count": 29,
   "metadata": {},
   "outputs": [
    {
     "name": "stdout",
     "output_type": "stream",
     "text": [
      "Year            int64\n",
      "Institutions    int32\n",
      "Branches        int32\n",
      "dtype: object\n",
      "              Year  Institutions      Branches\n",
      "count    84.000000     84.000000     84.000000\n",
      "mean   1975.500000  11781.797619  35196.369048\n",
      "std      24.392622   2952.608770  28349.288436\n",
      "min    1934.000000   4918.000000      0.000000\n",
      "25%    1954.750000   9433.500000   6810.250000\n",
      "50%    1975.500000  13312.500000  30774.500000\n",
      "75%    1996.250000  13624.250000  59024.750000\n",
      "max    2017.000000  14496.000000  83576.000000\n"
     ]
    }
   ],
   "source": [
    "print(banking_data.dtypes)\n",
    "print(banking_data.describe())\n"
   ]
  },
  {
   "cell_type": "markdown",
   "metadata": {},
   "source": [
    "    ## Exercise 5\n",
    "    Let's work with some data on health expenditures. The data comes from the [Centers for Medicare and Medicaid Services (CMS)](https://www.cms.gov/research-statistics-data-and-systems/statistics-trends-and-reports/nationalhealthexpenddata/nationalhealthaccountshistorical). The goal is to brush up on our data cleaning skills and compute a few summary statistics. \n",
    "\n",
    "    ### Part (a):\n",
    "    1. The file `nhe.csv` contains a column with the year and the total amount spent on healthcare in billions of dollars in that year. Read it into a DataFrame and create a series of growth rates. Print out the first 10 observations. [Hint: Check out the `pct_change` method.]"
   ]
  },
  {
   "cell_type": "code",
   "execution_count": 31,
   "metadata": {},
   "outputs": [
    {
     "name": "stdout",
     "output_type": "stream",
     "text": [
      "    year   nhe  growth_rate\n",
      "0   1960  27.1          NaN\n",
      "1   1961  29.1     0.073801\n",
      "2   1962  31.8     0.092784\n",
      "3   1963  34.6     0.088050\n",
      "4   1964  38.2     0.104046\n",
      "6   1966  45.8     0.198953\n",
      "7   1967  51.2     0.117904\n",
      "8   1968  58.0     0.132812\n",
      "9   1969  65.4     0.127586\n",
      "10  1970  74.1     0.133028\n"
     ]
    }
   ],
   "source": [
    "nhe = pd.read_csv(\n",
    "    \"data/nhe.csv\",\n",
    "     header = 0, na_values=[\".\"])\n",
    "\n",
    "nhe = nhe.dropna(subset=[\"nhe\"])\n",
    "\n",
    "nhe[\"growth_rate\"] = nhe[\"nhe\"].pct_change()\n",
    "\n",
    "print(nhe.head(10))"
   ]
  },
  {
   "cell_type": "markdown",
   "metadata": {},
   "source": [
    "2. Something went wrong, right? There is a gremlin in the data. Find a way to use `read_csv()` to turn the bad data into `NaN`s. You may find `read_csv?` helpful. Replace any year that has a `NaN` with the average of expenditures in the previous year and the following year. Then, compute the growth rates and print the first 10 years of data.\n",
    "\n",
    "*Note*: There are multiple missing years. Write your code to replace these years' expenditures using a loop so that it could flexibly handle any number of missing years. The following outputs a Series of boolean values (True or False) that specify whether or not the expenditure is missing:\n",
    "```python\n",
    "nhe['nhe'].isna()\n",
    "```\n",
    "Can you use a `for` loop with a nested `if` statement to fill in the missing data?"
   ]
  },
  {
   "cell_type": "code",
   "execution_count": 33,
   "metadata": {},
   "outputs": [
    {
     "name": "stdout",
     "output_type": "stream",
     "text": [
      "   year   nhe  growth_rate\n",
      "0  1960  27.1          NaN\n",
      "1  1961  29.1     0.073801\n",
      "2  1962  31.8     0.092784\n",
      "3  1963  34.6     0.088050\n",
      "4  1964  38.2     0.104046\n",
      "5  1965  42.0     0.099476\n",
      "6  1966  45.8     0.090476\n",
      "7  1967  51.2     0.117904\n",
      "8  1968  58.0     0.132812\n",
      "9  1969  65.4     0.127586\n"
     ]
    }
   ],
   "source": [
    "nhe = pd.read_csv(\"data/nhe.csv\", na_values=[ \".\"])\n",
    "\n",
    "for i in range(1, len(nhe) - 1):\n",
    "    if pd.isna(nhe.loc[i, \"nhe\"]):\n",
    "        prev_val = nhe.loc[i - 1, \"nhe\"]\n",
    "        next_val = nhe.loc[i + 1, \"nhe\"]\n",
    "        if not pd.isna(prev_val) and not pd.isna(next_val):\n",
    "            nhe.loc[i, \"nhe\"] = (prev_val + next_val) / 2\n",
    "\n",
    "nhe[\"growth_rate\"] = nhe[\"nhe\"].pct_change()\n",
    "\n",
    "print(nhe.head(10))"
   ]
  },
  {
   "cell_type": "markdown",
   "metadata": {},
   "source": [
    "### Part (b):\n",
    "1. Compute the mean and standard deviation of the growth rate using `.mean()` and `.std()`. Use `.format()` to print out your results in *neatly formatted* sentences.\n",
    "2. Are there any missing growth rates? Explain why in a markdown cell below."
   ]
  },
  {
   "cell_type": "code",
   "execution_count": 34,
   "metadata": {},
   "outputs": [
    {
     "name": "stdout",
     "output_type": "stream",
     "text": [
      "the mean growth is 0.08699247364135379\n",
      "the std. deviation of growth is 0.035498269148724136\n"
     ]
    }
   ],
   "source": [
    "mean_growth = nhe[\"growth_rate\"].mean()\n",
    "std_growth = nhe[\"growth_rate\"].std()\n",
    "\n",
    "print(f'the mean growth is {mean_growth}')\n",
    "print(f'the std. deviation of growth is {std_growth}')"
   ]
  },
  {
   "cell_type": "markdown",
   "metadata": {},
   "source": [
    "Yes, there is a missing growth rate in the year 1960. this is the first year, and there is no historical data to recall and compare 1960 to, in order to get it's growth rate.\n",
    "1966 also had a missing growth rate, before it was amended with the missing 1965 year. in part 1, we amended it to show the % growth over two years, which is why 1966 has a .19 growth rate (almost double the other years)"
   ]
  },
  {
   "cell_type": "markdown",
   "metadata": {},
   "source": []
  }
 ],
 "metadata": {
  "celltoolbar": "Attachments",
  "hide_input": false,
  "kernelspec": {
   "display_name": "econ570",
   "language": "python",
   "name": "python3"
  },
  "language_info": {
   "codemirror_mode": {
    "name": "ipython",
    "version": 3
   },
   "file_extension": ".py",
   "mimetype": "text/x-python",
   "name": "python",
   "nbconvert_exporter": "python",
   "pygments_lexer": "ipython3",
   "version": "3.10.18"
  },
  "varInspector": {
   "cols": {
    "lenName": 16,
    "lenType": 16,
    "lenVar": 40
   },
   "kernels_config": {
    "python": {
     "delete_cmd_postfix": "",
     "delete_cmd_prefix": "del ",
     "library": "var_list.py",
     "varRefreshCmd": "print(var_dic_list())"
    },
    "r": {
     "delete_cmd_postfix": ") ",
     "delete_cmd_prefix": "rm(",
     "library": "var_list.r",
     "varRefreshCmd": "cat(var_dic_list()) "
    }
   },
   "types_to_exclude": [
    "module",
    "function",
    "builtin_function_or_method",
    "instance",
    "_Feature"
   ],
   "window_display": false
  }
 },
 "nbformat": 4,
 "nbformat_minor": 4
}
